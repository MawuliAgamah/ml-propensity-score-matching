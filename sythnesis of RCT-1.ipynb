{
 "cells": [
  {
   "cell_type": "code",
   "execution_count": 2,
   "metadata": {},
   "outputs": [],
   "source": [
    "import numpy as np\n",
    "import matplotlib.pyplot as plt\n",
    "import pandas as pd\n",
    "from sklearn import datasets\n",
    "import random \n",
    "import numpy.random as rand\n",
    "from random import randrange\n",
    "from scipy.stats import bernoulli, binom\n",
    "from sklearn.linear_model import LinearRegression"
   ]
  },
  {
   "cell_type": "code",
   "execution_count": 3,
   "metadata": {},
   "outputs": [],
   "source": [
    "# Set sample size N\n",
    "N = 5000 \n",
    "\n",
    "x = [1,0]\n",
    "\n",
    "random.seed(560)\n",
    "\n",
    "# Generate random variables \n",
    "\n",
    "treat_rand = np.random.choice(x, size = N,replace =True,p=[0.55,0.45])\n",
    "comply_rand = np.random.choice(x, size = N,replace =True,p=[0.2,0.8])\n",
    "age_rand = random.choices(list(range(18,61)),k = N)\n",
    "post_rand = [0]*N\n",
    "female_rand = np.random.binomial(1,0.51,N)\n",
    "educ_rand = random.choices(list(range(3,8)),k = N)\n",
    "a_rand =np.random.binomial (1,0.51,N)\n",
    "\n",
    "# Create dictionaries for each of the generated variables\n",
    "\n",
    "treat = {'treat':treat_rand}\n",
    "comply = {'comply':comply_rand}\n",
    "age = {'age':age_rand}\n",
    "female = {'female':female_rand}\n",
    "educ = {'educ':educ_rand}\n",
    "a_dummy = {'a_dummy':a_rand}\n",
    "post = {'post':post_rand}\n",
    "\n",
    "# combine dictionaires and create dataframe\n",
    "ds = {**treat,**comply,**educ,**age,**female,**a_dummy,**post}\n",
    "df = pd.DataFrame(ds)\n",
    "\n",
    "# Add id variable to the dataset \n",
    "df['id'] = range(1, len(df) + 1)\n",
    "\n",
    "df2 = df\n",
    "df2['post'] = 1\n",
    "\n",
    "#append the two dataframes together\n",
    "df3 = df.append(df2)\n"
   ]
  },
  {
   "cell_type": "code",
   "execution_count": 186,
   "metadata": {},
   "outputs": [],
   "source": [
    "import pickle \n",
    "\n",
    "dataset_number = 8\n",
    "seed = 0\n",
    "\n",
    "name = 'dataset' + str(dataset_number)\n",
    "with open('/Users/mawuliagamah/gitprojects/causal_inference/dataset1.pkl', 'rb') as f:\n",
    "    save_dict = pickle.load(f)"
   ]
  },
  {
   "cell_type": "code",
   "execution_count": 187,
   "metadata": {},
   "outputs": [],
   "source": [
    "y_obser = save_dict['y_obser']\n",
    "x_obser = save_dict['x_obser']\n",
    "y_inter = save_dict['y_inter']\n",
    "x_inter = save_dict['x_inter']"
   ]
  },
  {
   "cell_type": "code",
   "execution_count": 189,
   "metadata": {},
   "outputs": [
    {
     "name": "stdout",
     "output_type": "stream",
     "text": [
      "[[-0.00430083]\n",
      " [ 0.45607497]\n",
      " [ 0.16422963]\n",
      " ...\n",
      " [ 0.3354805 ]\n",
      " [-0.30142274]\n",
      " [ 1.22610283]]\n"
     ]
    }
   ],
   "source": [
    "print(y_obser)"
   ]
  },
  {
   "cell_type": "markdown",
   "metadata": {},
   "source": [
    "# 3. Generate simulation study \n",
    "\n",
    "## 3.1. RCT simulation"
   ]
  },
  {
   "cell_type": "code",
   "execution_count": 3,
   "metadata": {},
   "outputs": [],
   "source": [
    "# Observations\n",
    "random.seed(10)\n",
    "n = 100"
   ]
  },
  {
   "cell_type": "code",
   "execution_count": 4,
   "metadata": {},
   "outputs": [],
   "source": [
    "alpha = [1,2]\n",
    "beta = [1,2]\n",
    "gamma = [0.5,0.75]\n",
    "\n",
    "# Anonymous function , ft , which takes arguments t and x and returns the expression on the rhs\n",
    "ft = lambda t,x : alpha[t] + beta[t]*x + gamma[t]*x*x"
   ]
  },
  {
   "cell_type": "code",
   "execution_count": 48,
   "metadata": {},
   "outputs": [],
   "source": [
    "# Generate variables (Measured covariates, unmeasured covariates , binary treatment and assignment).\n",
    "\n",
    "d_rct = pd.DataFrame()\n",
    "\n",
    "\n",
    "cov1 = [1,0.8,0.7,0.6,0.5]\n",
    "cov2 = [0.8,1,0.7,0.6,0.5]\n",
    "cov3 = [0.8,0.6,1,0.7,0.6]\n",
    "\n",
    "covariance = np.array([[cov1,cov2,cov3]])\n",
    "\n",
    "\n",
    "# Pre-treatment covariates\n",
    "mu = 0\n",
    "sigma = 1\n",
    "\n",
    "d_rct['X1'] = np.random.normal(mu,sigma , size = (n,))\n",
    "d_rct['X2'] = np.random.normal(mu,sigma , size = (n,))\n",
    "d_rct['X3'] = np.random.normal(mu,sigma , size = (n,))\n",
    "d_rct['X4'] = np.random.normal(mu,sigma , size = (n,))\n",
    "d_rct['X5'] = np.random.normal(mu,sigma , size = (n,))\n",
    "\n",
    "# Binary treatment assignment W (drawn from bernoulli dsitribution with p = 0.5 )\n",
    "p_bernoulli = 0.5\n",
    "W_uniform = np.random.rand(n) #treatment from uniform distribution\n",
    "d_rct['W'] = (W_uniform <= p_bernoulli).astype(np.int) # transform to bernoulli\n",
    "\n",
    "# Error term \n",
    "\n",
    "epsilon_rct = np.random.normal(mu,sigma , size = (n,))\n",
    "\n",
    "# Outcome \n",
    "\n",
    "het = 1 + d_rct['X1'] + d_rct['X1']**2 + d_rct['X2'] + d_rct['X2']**2 # Heterogenity of treatment effect\n",
    "d_rct['Y'] = d_rct['W']*het+ d_rct.sum(axis=1) + epsilon_rct \n",
    "\n",
    "\n"
   ]
  },
  {
   "cell_type": "code",
   "execution_count": 50,
   "metadata": {},
   "outputs": [
    {
     "name": "stdout",
     "output_type": "stream",
     "text": [
      "Pearsons correlation: -0.057\n"
     ]
    },
    {
     "data": {
      "text/plain": [
       "array([[[1. , 0.8, 0.7, 0.6, 0.5],\n",
       "        [0.8, 1. , 0.7, 0.6, 0.5],\n",
       "        [0.8, 0.6, 1. , 0.7, 0.6]]])"
      ]
     },
     "execution_count": 50,
     "metadata": {},
     "output_type": "execute_result"
    }
   ],
   "source": [
    "corr, _ = pearsonr(d_rct['X1'], d_rct['X5'])\n",
    "print('Pearsons correlation: %.3f' % corr)\n",
    "\n",
    "#d_rct['PO'] = np.where(d_rct['Y']-d_rct['Y'])\n",
    "covariance"
   ]
  },
  {
   "cell_type": "code",
   "execution_count": 42,
   "metadata": {},
   "outputs": [
    {
     "data": {
      "text/html": [
       "<div>\n",
       "<style scoped>\n",
       "    .dataframe tbody tr th:only-of-type {\n",
       "        vertical-align: middle;\n",
       "    }\n",
       "\n",
       "    .dataframe tbody tr th {\n",
       "        vertical-align: top;\n",
       "    }\n",
       "\n",
       "    .dataframe thead th {\n",
       "        text-align: right;\n",
       "    }\n",
       "</style>\n",
       "<table border=\"1\" class=\"dataframe\">\n",
       "  <thead>\n",
       "    <tr style=\"text-align: right;\">\n",
       "      <th></th>\n",
       "      <th>X1</th>\n",
       "      <th>X2</th>\n",
       "      <th>X3</th>\n",
       "      <th>X4</th>\n",
       "      <th>X5</th>\n",
       "      <th>T</th>\n",
       "      <th>Y</th>\n",
       "    </tr>\n",
       "  </thead>\n",
       "  <tbody>\n",
       "    <tr>\n",
       "      <th>X1</th>\n",
       "      <td>0.816005</td>\n",
       "      <td>-0.015556</td>\n",
       "      <td>0.151320</td>\n",
       "      <td>0.124563</td>\n",
       "      <td>-0.079168</td>\n",
       "      <td>0.006537</td>\n",
       "      <td>0.114248</td>\n",
       "    </tr>\n",
       "    <tr>\n",
       "      <th>X2</th>\n",
       "      <td>-0.015556</td>\n",
       "      <td>0.938017</td>\n",
       "      <td>0.036922</td>\n",
       "      <td>-0.256591</td>\n",
       "      <td>-0.017167</td>\n",
       "      <td>-0.009489</td>\n",
       "      <td>0.785183</td>\n",
       "    </tr>\n",
       "    <tr>\n",
       "      <th>X3</th>\n",
       "      <td>0.151320</td>\n",
       "      <td>0.036922</td>\n",
       "      <td>0.842670</td>\n",
       "      <td>-0.035502</td>\n",
       "      <td>-0.080125</td>\n",
       "      <td>0.009872</td>\n",
       "      <td>0.688260</td>\n",
       "    </tr>\n",
       "    <tr>\n",
       "      <th>X4</th>\n",
       "      <td>0.124563</td>\n",
       "      <td>-0.256591</td>\n",
       "      <td>-0.035502</td>\n",
       "      <td>1.130989</td>\n",
       "      <td>-0.077536</td>\n",
       "      <td>0.039992</td>\n",
       "      <td>0.705675</td>\n",
       "    </tr>\n",
       "    <tr>\n",
       "      <th>X5</th>\n",
       "      <td>-0.079168</td>\n",
       "      <td>-0.017167</td>\n",
       "      <td>-0.080125</td>\n",
       "      <td>-0.077536</td>\n",
       "      <td>1.122035</td>\n",
       "      <td>0.025396</td>\n",
       "      <td>0.852120</td>\n",
       "    </tr>\n",
       "    <tr>\n",
       "      <th>T</th>\n",
       "      <td>0.006537</td>\n",
       "      <td>-0.009489</td>\n",
       "      <td>0.009872</td>\n",
       "      <td>0.039992</td>\n",
       "      <td>0.025396</td>\n",
       "      <td>0.250909</td>\n",
       "      <td>1.120366</td>\n",
       "    </tr>\n",
       "    <tr>\n",
       "      <th>Y</th>\n",
       "      <td>0.114248</td>\n",
       "      <td>0.785183</td>\n",
       "      <td>0.688260</td>\n",
       "      <td>0.705675</td>\n",
       "      <td>0.852120</td>\n",
       "      <td>1.120366</td>\n",
       "      <td>14.449947</td>\n",
       "    </tr>\n",
       "  </tbody>\n",
       "</table>\n",
       "</div>"
      ],
      "text/plain": [
       "          X1        X2        X3        X4        X5         T          Y\n",
       "X1  0.816005 -0.015556  0.151320  0.124563 -0.079168  0.006537   0.114248\n",
       "X2 -0.015556  0.938017  0.036922 -0.256591 -0.017167 -0.009489   0.785183\n",
       "X3  0.151320  0.036922  0.842670 -0.035502 -0.080125  0.009872   0.688260\n",
       "X4  0.124563 -0.256591 -0.035502  1.130989 -0.077536  0.039992   0.705675\n",
       "X5 -0.079168 -0.017167 -0.080125 -0.077536  1.122035  0.025396   0.852120\n",
       "T   0.006537 -0.009489  0.009872  0.039992  0.025396  0.250909   1.120366\n",
       "Y   0.114248  0.785183  0.688260  0.705675  0.852120  1.120366  14.449947"
      ]
     },
     "execution_count": 42,
     "metadata": {},
     "output_type": "execute_result"
    }
   ],
   "source": [
    "d_rct.cov()\n"
   ]
  },
  {
   "cell_type": "code",
   "execution_count": 12,
   "metadata": {},
   "outputs": [
    {
     "data": {
      "image/png": "[encoded data removed]",
      "text/plain": [
       "<Figure size 432x288 with 1 Axes>"
      ]
     },
     "metadata": {
      "needs_background": "light"
     },
     "output_type": "display_data"
    }
   ],
   "source": [
    "plt.scatter(d_rct['Y'],d_rct['X2'])\n",
    "plt.xlabel('x')\n",
    "plt.ylabel('y')\n",
    "plt.show()"
   ]
  },
  {
   "cell_type": "code",
   "execution_count": 13,
   "metadata": {},
   "outputs": [],
   "source": [
    "\n",
    "y = d_rct['Y'].values.reshape(-1, 1)\n",
    "x = d_rct['X5'].values.reshape(-1, 1)"
   ]
  },
  {
   "cell_type": "code",
   "execution_count": 15,
   "metadata": {},
   "outputs": [
    {
     "name": "stdout",
     "output_type": "stream",
     "text": [
      "       Actual  Predicted\n",
      "0    2.214664   4.527921\n",
      "1   -1.441297   0.598434\n",
      "2    8.269342   3.216671\n",
      "3    2.282052   2.796535\n",
      "4   -0.043611  -1.043980\n",
      "..        ...        ...\n",
      "95   0.575603   1.317514\n",
      "96  -1.618608   0.785541\n",
      "97  -4.172743   0.739179\n",
      "98   2.611232   2.248225\n",
      "99  10.701466   4.691295\n",
      "\n",
      "[100 rows x 2 columns]\n"
     ]
    }
   ],
   "source": [
    "regressor = LinearRegression()\n",
    "regressor.fit(x,y)\n",
    "y_pred = regressor.predict(x)\n",
    "df_preds = pd.DataFrame({'Actual': y.squeeze(), 'Predicted': y_pred.squeeze()})\n",
    "print(df_preds)"
   ]
  },
  {
   "cell_type": "code",
   "execution_count": null,
   "metadata": {},
   "outputs": [],
   "source": []
  }
 ],
 "metadata": {
  "interpreter": {
   "hash": "aee8b7b246df8f9039afb4144a1f6fd8d2ca17a180786b69acc140d282b71a49"
  },
  "kernelspec": {
   "display_name": "Python 3.9.6 64-bit",
   "language": "python",
   "name": "python3"
  },
  "language_info": {
   "codemirror_mode": {
    "name": "ipython",
    "version": 3
   },
   "file_extension": ".py",
   "mimetype": "text/x-python",
   "name": "python",
   "nbconvert_exporter": "python",
   "pygments_lexer": "ipython3",
   "version": "3.9.6"
  }
 },
 "nbformat": 4,
 "nbformat_minor": 2
}
