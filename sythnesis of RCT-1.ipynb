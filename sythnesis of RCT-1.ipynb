{
 "cells": [
  {
   "cell_type": "code",
<<<<<<< HEAD
   "execution_count": 1,
=======
   "execution_count": 2,
>>>>>>> c3abfa5b4496a235be392db495717419506e6c40
   "metadata": {},
   "outputs": [],
   "source": [
    "import numpy as np\n",
    "import matplotlib.pyplot as plt\n",
    "import pandas as pd\n",
<<<<<<< HEAD
    "from sklearn import datasets\n",
    "import random "
=======
    "from sklearn import datasets\n"
>>>>>>> c3abfa5b4496a235be392db495717419506e6c40
   ]
  },
  {
   "cell_type": "code",
   "execution_count": null,
   "metadata": {},
   "outputs": [],
   "source": [
<<<<<<< HEAD
    "def data_generator(n, true_ate = False):\n",
    "  \"Function to generate data consiting of n observations\"\n",
    "  d = pd.DataFrame()\n",
    "  # Cofounders\n",
    "  d['w1'] = np.round(np.random.uniform(low=1,high = 5, size = n))\n",
    "  d['w2'] = np.random.binomial(n=1,p=0.45,size=n)\n",
    "  d['w3'] = np.round(np.random.uniform(low=0,high=1,size=n)+0.8*d['w1']+0.75*d['w2'])\n",
    "  d['w3'] = np.where(d['w3'])\n"
   ]
  },
  {
   "cell_type": "code",
   "execution_count": 2,
   "metadata": {},
   "outputs": [],
   "source": [
    "random.seed(10)"
   ]
  },
  {
   "cell_type": "code",
   "execution_count": 69,
   "metadata": {},
   "outputs": [],
   "source": [
    "from random import randrange"
   ]
  },
  {
   "cell_type": "code",
   "execution_count": 155,
   "metadata": {},
   "outputs": [],
   "source": [
    "# Set sample size N\n",
    "N = 5000 \n",
    "\n",
    "x = [1,0]\n",
    "\n",
    "random.seed(560)\n",
    "\n",
    "# Generate random variables \n",
    "\n",
    "treat_rand = np.random.choice(x, size = N,replace =True,p=[0.55,0.45])\n",
    "comply_rand = np.random.choice(x, size = N,replace =True,p=[0.2,0.8])\n",
    "age_rand = random.choices(list(range(18,61)),k = N)\n",
    "post_rand = [0]*N\n",
    "female_rand = np.random.binomial(1,0.51,N)\n",
    "educ_rand = random.choices(list(range(3,8)),k = N)\n",
    "a_rand =np.random.binomial (1,0.51,N)\n",
    "\n",
    "# Create dictionaries for each of the generated variables\n",
    "\n",
    "treat = {'treat':treat_rand}\n",
    "comply = {'comply':comply_rand}\n",
    "age = {'age':age_rand}\n",
    "female = {'female':female_rand}\n",
    "educ = {'educ':educ_rand}\n",
    "a_dummy = {'a_dummy':a_rand}\n",
    "post = {'post':post_rand}\n",
    "\n",
    "# combine dictionaires and create dataframe\n",
    "ds = {**treat,**comply,**educ,**age,**female,**a_dummy,**post}\n",
    "df = pd.DataFrame(ds)\n",
    "\n",
    "# Add id variable to the dataset \n",
    "df['id'] = range(1, len(df) + 1)\n",
    "\n",
    "df2 = df\n",
    "df2['post'] = 1\n",
    "\n",
    "#append the two dataframes together\n",
    "df3 = df.append(df2)\n"
   ]
  },
  {
   "cell_type": "code",
   "execution_count": 158,
   "metadata": {},
   "outputs": [
    {
     "data": {
      "text/html": [
       "<div>\n",
       "<style scoped>\n",
       "    .dataframe tbody tr th:only-of-type {\n",
       "        vertical-align: middle;\n",
       "    }\n",
       "\n",
       "    .dataframe tbody tr th {\n",
       "        vertical-align: top;\n",
       "    }\n",
       "\n",
       "    .dataframe thead th {\n",
       "        text-align: right;\n",
       "    }\n",
       "</style>\n",
       "<table border=\"1\" class=\"dataframe\">\n",
       "  <thead>\n",
       "    <tr style=\"text-align: right;\">\n",
       "      <th></th>\n",
       "      <th>treat</th>\n",
       "      <th>comply</th>\n",
       "      <th>educ</th>\n",
       "      <th>age</th>\n",
       "      <th>female</th>\n",
       "      <th>a_dummy</th>\n",
       "      <th>post</th>\n",
       "      <th>id</th>\n",
       "    </tr>\n",
       "  </thead>\n",
       "  <tbody>\n",
       "    <tr>\n",
       "      <th>count</th>\n",
       "      <td>5000.000000</td>\n",
       "      <td>5000.000000</td>\n",
       "      <td>5000.000000</td>\n",
       "      <td>5000.000000</td>\n",
       "      <td>5000.000000</td>\n",
       "      <td>5000.000000</td>\n",
       "      <td>5000.0</td>\n",
       "      <td>5000.000000</td>\n",
       "    </tr>\n",
       "    <tr>\n",
       "      <th>mean</th>\n",
       "      <td>0.542400</td>\n",
       "      <td>0.194800</td>\n",
       "      <td>5.026800</td>\n",
       "      <td>39.083600</td>\n",
       "      <td>0.512200</td>\n",
       "      <td>0.509800</td>\n",
       "      <td>1.0</td>\n",
       "      <td>2500.500000</td>\n",
       "    </tr>\n",
       "    <tr>\n",
       "      <th>std</th>\n",
       "      <td>0.498249</td>\n",
       "      <td>0.396086</td>\n",
       "      <td>1.420171</td>\n",
       "      <td>12.365888</td>\n",
       "      <td>0.499901</td>\n",
       "      <td>0.499954</td>\n",
       "      <td>0.0</td>\n",
       "      <td>1443.520003</td>\n",
       "    </tr>\n",
       "    <tr>\n",
       "      <th>min</th>\n",
       "      <td>0.000000</td>\n",
       "      <td>0.000000</td>\n",
       "      <td>3.000000</td>\n",
       "      <td>18.000000</td>\n",
       "      <td>0.000000</td>\n",
       "      <td>0.000000</td>\n",
       "      <td>1.0</td>\n",
       "      <td>1.000000</td>\n",
       "    </tr>\n",
       "    <tr>\n",
       "      <th>25%</th>\n",
       "      <td>0.000000</td>\n",
       "      <td>0.000000</td>\n",
       "      <td>4.000000</td>\n",
       "      <td>29.000000</td>\n",
       "      <td>0.000000</td>\n",
       "      <td>0.000000</td>\n",
       "      <td>1.0</td>\n",
       "      <td>1250.750000</td>\n",
       "    </tr>\n",
       "    <tr>\n",
       "      <th>50%</th>\n",
       "      <td>1.000000</td>\n",
       "      <td>0.000000</td>\n",
       "      <td>5.000000</td>\n",
       "      <td>39.000000</td>\n",
       "      <td>1.000000</td>\n",
       "      <td>1.000000</td>\n",
       "      <td>1.0</td>\n",
       "      <td>2500.500000</td>\n",
       "    </tr>\n",
       "    <tr>\n",
       "      <th>75%</th>\n",
       "      <td>1.000000</td>\n",
       "      <td>0.000000</td>\n",
       "      <td>6.000000</td>\n",
       "      <td>50.000000</td>\n",
       "      <td>1.000000</td>\n",
       "      <td>1.000000</td>\n",
       "      <td>1.0</td>\n",
       "      <td>3750.250000</td>\n",
       "    </tr>\n",
       "    <tr>\n",
       "      <th>max</th>\n",
       "      <td>1.000000</td>\n",
       "      <td>1.000000</td>\n",
       "      <td>7.000000</td>\n",
       "      <td>60.000000</td>\n",
       "      <td>1.000000</td>\n",
       "      <td>1.000000</td>\n",
       "      <td>1.0</td>\n",
       "      <td>5000.000000</td>\n",
       "    </tr>\n",
       "  </tbody>\n",
       "</table>\n",
       "</div>"
      ],
      "text/plain": [
       "             treat       comply         educ          age       female  \\\n",
       "count  5000.000000  5000.000000  5000.000000  5000.000000  5000.000000   \n",
       "mean      0.542400     0.194800     5.026800    39.083600     0.512200   \n",
       "std       0.498249     0.396086     1.420171    12.365888     0.499901   \n",
       "min       0.000000     0.000000     3.000000    18.000000     0.000000   \n",
       "25%       0.000000     0.000000     4.000000    29.000000     0.000000   \n",
       "50%       1.000000     0.000000     5.000000    39.000000     1.000000   \n",
       "75%       1.000000     0.000000     6.000000    50.000000     1.000000   \n",
       "max       1.000000     1.000000     7.000000    60.000000     1.000000   \n",
       "\n",
       "           a_dummy    post           id  \n",
       "count  5000.000000  5000.0  5000.000000  \n",
       "mean      0.509800     1.0  2500.500000  \n",
       "std       0.499954     0.0  1443.520003  \n",
       "min       0.000000     1.0     1.000000  \n",
       "25%       0.000000     1.0  1250.750000  \n",
       "50%       1.000000     1.0  2500.500000  \n",
       "75%       1.000000     1.0  3750.250000  \n",
       "max       1.000000     1.0  5000.000000  "
      ]
     },
     "execution_count": 158,
     "metadata": {},
     "output_type": "execute_result"
    }
   ],
   "source": [
    "df.describe()"
   ]
  },
  {
   "cell_type": "code",
   "execution_count": 161,
   "metadata": {},
   "outputs": [],
   "source": [
    "from sklearn.linear_model import LinearRegression"
   ]
  },
  {
   "cell_type": "code",
   "execution_count": 162,
   "metadata": {},
   "outputs": [],
   "source": [
    "model = LinearRegression()"
   ]
  },
  {
   "cell_type": "code",
   "execution_count": 170,
   "metadata": {},
   "outputs": [],
   "source": [
    "x = df[['age']]\n",
    "y  = df[['educ']]"
   ]
  },
  {
   "cell_type": "code",
   "execution_count": 175,
   "metadata": {},
   "outputs": [],
   "source": [
    "results = model.fit(x,y)"
   ]
  },
  {
   "cell_type": "code",
   "execution_count": 179,
   "metadata": {},
   "outputs": [
    {
     "data": {
      "text/plain": [
       "array([4.83170501])"
      ]
     },
     "execution_count": 179,
     "metadata": {},
     "output_type": "execute_result"
    }
   ],
   "source": [
    "results.intercept_"
=======
    "\n",
    "\n",
    "def data_generator(n, true_ate = False):\n",
    "  d = pd.DataFrame()\n",
    "  # Cofounders\n",
    "  d['w1']\n"
>>>>>>> c3abfa5b4496a235be392db495717419506e6c40
   ]
  },
  {
   "cell_type": "code",
   "execution_count": null,
   "metadata": {},
   "outputs": [],
   "source": []
  }
 ],
 "metadata": {
  "interpreter": {
<<<<<<< HEAD
   "hash": "aee8b7b246df8f9039afb4144a1f6fd8d2ca17a180786b69acc140d282b71a49"
  },
  "kernelspec": {
   "display_name": "Python 3.9.6 64-bit",
=======
   "hash": "44a7c5cf9512a4ad670122a007d348488b56f79d3796a47615dc74da9f36a764"
  },
  "kernelspec": {
   "display_name": "Python 3.8.5 ('base')",
>>>>>>> c3abfa5b4496a235be392db495717419506e6c40
   "language": "python",
   "name": "python3"
  },
  "language_info": {
   "codemirror_mode": {
    "name": "ipython",
    "version": 3
   },
   "file_extension": ".py",
   "mimetype": "text/x-python",
   "name": "python",
   "nbconvert_exporter": "python",
   "pygments_lexer": "ipython3",
<<<<<<< HEAD
   "version": "3.9.6"
=======
   "version": "3.8.5"
>>>>>>> c3abfa5b4496a235be392db495717419506e6c40
  }
 },
 "nbformat": 4,
 "nbformat_minor": 2
}
