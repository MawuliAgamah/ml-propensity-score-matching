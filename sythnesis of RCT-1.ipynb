{
 "cells": [
  {
   "cell_type": "code",
   "execution_count": 2,
   "metadata": {},
   "outputs": [],
   "source": [
    "import numpy as np\n",
    "import matplotlib.pyplot as plt\n",
    "import pandas as pd\n",
    "from sklearn import datasets\n",
    "import random \n",
    "from random import randrange\n",
    "from sklearn.linear_model import LinearRegression"
   ]
  },
  {
   "cell_type": "code",
   "execution_count": 3,
   "metadata": {},
   "outputs": [],
   "source": [
    "# Set sample size N\n",
    "N = 5000 \n",
    "\n",
    "x = [1,0]\n",
    "\n",
    "random.seed(560)\n",
    "\n",
    "# Generate random variables \n",
    "\n",
    "treat_rand = np.random.choice(x, size = N,replace =True,p=[0.55,0.45])\n",
    "comply_rand = np.random.choice(x, size = N,replace =True,p=[0.2,0.8])\n",
    "age_rand = random.choices(list(range(18,61)),k = N)\n",
    "post_rand = [0]*N\n",
    "female_rand = np.random.binomial(1,0.51,N)\n",
    "educ_rand = random.choices(list(range(3,8)),k = N)\n",
    "a_rand =np.random.binomial (1,0.51,N)\n",
    "\n",
    "# Create dictionaries for each of the generated variables\n",
    "\n",
    "treat = {'treat':treat_rand}\n",
    "comply = {'comply':comply_rand}\n",
    "age = {'age':age_rand}\n",
    "female = {'female':female_rand}\n",
    "educ = {'educ':educ_rand}\n",
    "a_dummy = {'a_dummy':a_rand}\n",
    "post = {'post':post_rand}\n",
    "\n",
    "# combine dictionaires and create dataframe\n",
    "ds = {**treat,**comply,**educ,**age,**female,**a_dummy,**post}\n",
    "df = pd.DataFrame(ds)\n",
    "\n",
    "# Add id variable to the dataset \n",
    "df['id'] = range(1, len(df) + 1)\n",
    "\n",
    "df2 = df\n",
    "df2['post'] = 1\n",
    "\n",
    "#append the two dataframes together\n",
    "df3 = df.append(df2)\n"
   ]
  },
  {
   "cell_type": "code",
   "execution_count": 186,
   "metadata": {},
   "outputs": [],
   "source": [
    "import pickle \n",
    "\n",
    "dataset_number = 8\n",
    "seed = 0\n",
    "\n",
    "name = 'dataset' + str(dataset_number)\n",
    "with open('/Users/mawuliagamah/gitprojects/causal_inference/dataset1.pkl', 'rb') as f:\n",
    "    save_dict = pickle.load(f)"
   ]
  },
  {
   "cell_type": "code",
   "execution_count": 187,
   "metadata": {},
   "outputs": [],
   "source": [
    "y_obser = save_dict['y_obser']\n",
    "x_obser = save_dict['x_obser']\n",
    "y_inter = save_dict['y_inter']\n",
    "x_inter = save_dict['x_inter']"
   ]
  },
  {
   "cell_type": "code",
   "execution_count": 189,
   "metadata": {},
   "outputs": [
    {
     "name": "stdout",
     "output_type": "stream",
     "text": [
      "[[-0.00430083]\n",
      " [ 0.45607497]\n",
      " [ 0.16422963]\n",
      " ...\n",
      " [ 0.3354805 ]\n",
      " [-0.30142274]\n",
      " [ 1.22610283]]\n"
     ]
    }
   ],
   "source": [
    "print(y_obser)"
   ]
  },
  {
   "cell_type": "markdown",
   "metadata": {},
   "source": [
    "# 3. Generate simulation study \n",
    "\n",
    "## 3.1. RCT simulation"
   ]
  },
  {
   "cell_type": "code",
   "execution_count": 8,
   "metadata": {},
   "outputs": [],
   "source": [
    "# Observations\n",
    "n = 100"
   ]
  },
  {
   "cell_type": "code",
   "execution_count": 9,
   "metadata": {},
   "outputs": [],
   "source": [
    "# Generate variables (Measured covariates, unmeasured covariates , binary treatment and assignment).\n",
    "\n",
    "# Measured covariate \n",
    "X_rct = np.random.uniform(-1,1 , size = (n,))\n",
    "# Unmeasured covariate \n",
    "U_rct = np.random.normal(0,1 , size = (n,))\n",
    "# Binary treatment assignment \n",
    "T_rct = random.randint(0,2(n,))\n",
    "#Outcome \n",
    "Y_rct = \n",
    "\n"
   ]
  },
  {
   "cell_type": "code",
   "execution_count": 10,
   "metadata": {},
   "outputs": [
    {
     "data": {
      "text/plain": [
       "array([ 0.12003784,  0.96058188, -0.82472948,  0.89859512,  0.81025685,\n",
       "        0.73326707, -0.39111952, -0.94200532,  0.28880052,  0.29276829,\n",
       "        0.70665761,  0.80293492,  0.32307757,  0.06903807, -0.69349851,\n",
       "        0.76004523,  0.22096721, -0.32272312,  0.10885886, -0.43379428,\n",
       "        0.48187282, -0.10059551,  0.20177159,  0.98386265,  0.99265903,\n",
       "       -0.36078524, -0.61484723,  0.26327038, -0.96313408, -0.87512578,\n",
       "       -0.14094774,  0.65702902, -0.87704334, -0.46452136,  0.54313876,\n",
       "        0.73309731, -0.98374427,  0.37196847, -0.88010041,  0.76840355,\n",
       "        0.68219048, -0.87855411, -0.35673513, -0.48899819, -0.47469385,\n",
       "       -0.54745287, -0.67832536, -0.41571292,  0.48597165,  0.88773669,\n",
       "       -0.78479332, -0.7279158 , -0.59352023,  0.77174468,  0.2828193 ,\n",
       "        0.79800945, -0.12362376,  0.89828356,  0.25304576,  0.8681336 ,\n",
       "        0.60193364, -0.86689533,  0.10065739, -0.76716373,  0.04566941,\n",
       "       -0.65515092, -0.83632822, -0.71963039,  0.557386  ,  0.19512998,\n",
       "       -0.99297753,  0.74243463, -0.44783354, -0.02337218,  0.73627447,\n",
       "       -0.72015935,  0.0108718 ,  0.81503757,  0.39283117,  0.710934  ,\n",
       "        0.98772375, -0.97118827, -0.12880805,  0.52450665, -0.07448321,\n",
       "        0.31058363, -0.69313928,  0.00135284,  0.13494526,  0.08023591,\n",
       "        0.42931585,  0.16581226,  0.3690623 ,  0.36038011,  0.52861168,\n",
       "        0.07314755,  0.56701045,  0.58608784,  0.67776975,  0.16510174])"
      ]
     },
     "execution_count": 10,
     "metadata": {},
     "output_type": "execute_result"
    }
   ],
   "source": [
    "X_rct"
   ]
  },
  {
   "cell_type": "code",
   "execution_count": null,
   "metadata": {},
   "outputs": [],
   "source": []
  }
 ],
 "metadata": {
  "interpreter": {
   "hash": "aee8b7b246df8f9039afb4144a1f6fd8d2ca17a180786b69acc140d282b71a49"
  },
  "kernelspec": {
   "display_name": "Python 3.9.6 64-bit",
   "language": "python",
   "name": "python3"
  },
  "language_info": {
   "codemirror_mode": {
    "name": "ipython",
    "version": 3
   },
   "file_extension": ".py",
   "mimetype": "text/x-python",
   "name": "python",
   "nbconvert_exporter": "python",
   "pygments_lexer": "ipython3",
   "version": "3.9.6"
  }
 },
 "nbformat": 4,
 "nbformat_minor": 2
}
