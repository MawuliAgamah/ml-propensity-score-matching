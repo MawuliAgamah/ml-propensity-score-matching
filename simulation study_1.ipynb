{
 "cells": [
  {
   "cell_type": "code",
   "execution_count": 3,
   "metadata": {},
   "outputs": [],
   "source": [
    "import numpy as np\n",
    "import matplotlib.pyplot as plt\n",
    "import pandas as pd\n",
    "from sklearn import datasets\n",
    "import random \n",
    "import numpy.random as rand\n",
    "from random import randrange\n",
    "from scipy.stats import bernoulli, binom\n",
    "from sklearn.linear_model import LinearRegression\n",
    "import scipy.linalg as spla\n",
    "import seaborn as sns\n",
    "from scipy import stats "
   ]
  },
  {
   "cell_type": "markdown",
   "metadata": {},
   "source": [
    "# 3. Generate simulation study "
   ]
  },
  {
   "cell_type": "code",
   "execution_count": 39,
   "metadata": {},
   "outputs": [],
   "source": [
    "from opossum import UserInterface\n",
    "random.seed(10)\n",
    "#number of observations\n",
    "n = 722\n",
    "#number of covariates\n",
    "k = 2"
   ]
  },
  {
   "cell_type": "markdown",
   "metadata": {},
   "source": [
    "## Experimental data simulation"
   ]
  },
  {
   "cell_type": "code",
   "execution_count": 40,
   "metadata": {},
   "outputs": [
    {
     "data": {
      "text/html": [
       "<div>\n",
       "<style scoped>\n",
       "    .dataframe tbody tr th:only-of-type {\n",
       "        vertical-align: middle;\n",
       "    }\n",
       "\n",
       "    .dataframe tbody tr th {\n",
       "        vertical-align: top;\n",
       "    }\n",
       "\n",
       "    .dataframe thead th {\n",
       "        text-align: right;\n",
       "    }\n",
       "</style>\n",
       "<table border=\"1\" class=\"dataframe\">\n",
       "  <thead>\n",
       "    <tr style=\"text-align: right;\">\n",
       "      <th></th>\n",
       "      <th>outcome</th>\n",
       "      <th>assignment</th>\n",
       "      <th>X0</th>\n",
       "      <th>X1</th>\n",
       "    </tr>\n",
       "  </thead>\n",
       "  <tbody>\n",
       "    <tr>\n",
       "      <th>0</th>\n",
       "      <td>1.313519</td>\n",
       "      <td>1</td>\n",
       "      <td>-1.540570</td>\n",
       "      <td>8.540335</td>\n",
       "    </tr>\n",
       "    <tr>\n",
       "      <th>1</th>\n",
       "      <td>-1.222924</td>\n",
       "      <td>0</td>\n",
       "      <td>-1.673359</td>\n",
       "      <td>-0.624233</td>\n",
       "    </tr>\n",
       "    <tr>\n",
       "      <th>2</th>\n",
       "      <td>1.122636</td>\n",
       "      <td>0</td>\n",
       "      <td>0.000282</td>\n",
       "      <td>5.875150</td>\n",
       "    </tr>\n",
       "    <tr>\n",
       "      <th>3</th>\n",
       "      <td>0.949305</td>\n",
       "      <td>0</td>\n",
       "      <td>-2.509669</td>\n",
       "      <td>0.676081</td>\n",
       "    </tr>\n",
       "    <tr>\n",
       "      <th>4</th>\n",
       "      <td>0.654894</td>\n",
       "      <td>1</td>\n",
       "      <td>1.497831</td>\n",
       "      <td>-0.718033</td>\n",
       "    </tr>\n",
       "    <tr>\n",
       "      <th>...</th>\n",
       "      <td>...</td>\n",
       "      <td>...</td>\n",
       "      <td>...</td>\n",
       "      <td>...</td>\n",
       "    </tr>\n",
       "    <tr>\n",
       "      <th>717</th>\n",
       "      <td>1.207604</td>\n",
       "      <td>0</td>\n",
       "      <td>3.120901</td>\n",
       "      <td>-6.510770</td>\n",
       "    </tr>\n",
       "    <tr>\n",
       "      <th>718</th>\n",
       "      <td>0.706974</td>\n",
       "      <td>0</td>\n",
       "      <td>1.720048</td>\n",
       "      <td>4.047157</td>\n",
       "    </tr>\n",
       "    <tr>\n",
       "      <th>719</th>\n",
       "      <td>-0.054208</td>\n",
       "      <td>1</td>\n",
       "      <td>-0.707019</td>\n",
       "      <td>-4.236388</td>\n",
       "    </tr>\n",
       "    <tr>\n",
       "      <th>720</th>\n",
       "      <td>0.894126</td>\n",
       "      <td>0</td>\n",
       "      <td>2.328962</td>\n",
       "      <td>2.987307</td>\n",
       "    </tr>\n",
       "    <tr>\n",
       "      <th>721</th>\n",
       "      <td>0.993219</td>\n",
       "      <td>1</td>\n",
       "      <td>-0.018209</td>\n",
       "      <td>0.975648</td>\n",
       "    </tr>\n",
       "  </tbody>\n",
       "</table>\n",
       "<p>722 rows × 4 columns</p>\n",
       "</div>"
      ],
      "text/plain": [
       "      outcome  assignment        X0        X1\n",
       "0    1.313519           1 -1.540570  8.540335\n",
       "1   -1.222924           0 -1.673359 -0.624233\n",
       "2    1.122636           0  0.000282  5.875150\n",
       "3    0.949305           0 -2.509669  0.676081\n",
       "4    0.654894           1  1.497831 -0.718033\n",
       "..        ...         ...       ...       ...\n",
       "717  1.207604           0  3.120901 -6.510770\n",
       "718  0.706974           0  1.720048  4.047157\n",
       "719 -0.054208           1 -0.707019 -4.236388\n",
       "720  0.894126           0  2.328962  2.987307\n",
       "721  0.993219           1 -0.018209  0.975648\n",
       "\n",
       "[722 rows x 4 columns]"
      ]
     },
     "execution_count": 40,
     "metadata": {},
     "output_type": "execute_result"
    }
   ],
   "source": [
    "# initilizing class\n",
    "u = UserInterface(n, k, seed=1, categorical_covariates = None)\n",
    "# assign treatment and generate treatment effect inside of class object\n",
    "u.generate_treatment(random_assignment = True, \n",
    "                     assignment_prob = 0.5, \n",
    "                     constant_pos = True, \n",
    "                     constant_neg = False,\n",
    "                     heterogeneous_pos = False, \n",
    "                     heterogeneous_neg = False, \n",
    "                     no_treatment = False, \n",
    "                     discrete_heterogeneous = False,\n",
    "                     treatment_option_weights = None, \n",
    "                     intensity = 5)\n",
    "# generate output variable y and return all 4 variables\n",
    "y, X, assignment, treatment = u.output_data(binary=False, x_y_relation = 'linear_simple')\n",
    "\n",
    "y = pd.DataFrame(y)\n",
    "X = pd.DataFrame(X)\n",
    "\n",
    "X.columns=['X'+str(i) for i in range(0,k)]\n",
    "\n",
    "assignment = pd.DataFrame(assignment)\n",
    "treatment = pd.DataFrame(treatment)\n",
    "covars = pd.DataFrame(X)\n",
    "\n",
    "assignment.columns = ['assignment']\n",
    "treatment.columns = ['treatment']\n",
    "y.columns = ['outcome']\n",
    "\n",
    "frames = [y,assignment,covars]\n",
    "df_e = pd.concat(frames,axis=1)\n",
    "df_e"
   ]
  },
  {
   "cell_type": "markdown",
   "metadata": {
    "tags": []
   },
   "source": [
    "## ODB simulation"
   ]
  },
  {
   "cell_type": "code",
   "execution_count": 72,
   "metadata": {
    "tags": []
   },
   "outputs": [],
   "source": [
    "# initilizing class\n",
    "u = UserInterface(n, k, seed=1, categorical_covariates = None)\n",
    "# assign treatment and generate treatment effect inside of class object\n",
    "u.generate_treatment(random_assignment = False, \n",
    "                     assignment_prob = 'low', \n",
    "                     constant_pos = True, \n",
    "                     constant_neg = False,\n",
    "                     heterogeneous_pos = False, \n",
    "                     heterogeneous_neg = False, \n",
    "                     no_treatment = False, \n",
    "                     discrete_heterogeneous = False,\n",
    "                     treatment_option_weights = None, \n",
    "                     intensity = 2)\n",
    "# generate output variable y and return all 4 variables\n",
    "y, X, assignment, treatment = u.output_data(binary=False, x_y_relation = 'linear_simple')\n",
    "\n",
    "y = pd.DataFrame(y)\n",
    "X = pd.DataFrame(X)\n",
    "\n",
    "X.columns=['X'+str(i) for i in range(0,k)]\n",
    "\n",
    "assignment = pd.DataFrame(assignment)\n",
    "treatment = pd.DataFrame(treatment)\n",
    "covars = pd.DataFrame(X)\n",
    "\n",
    "assignment.columns = ['assignment']\n",
    "treatment.columns = ['treatment']\n",
    "y.columns = ['outcome']\n",
    "frames = [y,assignment,covars]\n",
    "\n",
    "df_o = pd.concat(frames,axis=1)\n"
   ]
  },
  {
   "cell_type": "markdown",
   "metadata": {
    "tags": []
   },
   "source": [
    "# 4 Data analysis"
   ]
  },
  {
   "cell_type": "code",
   "execution_count": 44,
   "metadata": {},
   "outputs": [
    {
     "data": {
      "text/plain": [
       "<matplotlib.legend.Legend at 0x7fecd5590430>"
      ]
     },
     "execution_count": 44,
     "metadata": {},
     "output_type": "execute_result"
    },
    {
     "data": {
      "image/png": "[encoded data removed]",
      "text/plain": [
       "<Figure size 1080x576 with 1 Axes>"
      ]
     },
     "metadata": {
      "needs_background": "light"
     },
     "output_type": "display_data"
    }
   ],
   "source": [
    "plt.figure(figsize=(15,8))\n",
    "# Density plots for treatment and control\n",
    "sns.kdeplot(data=df_e['outcome'][df_e['assignment']==0])\n",
    "sns.kdeplot(data=df_e['outcome'][df_e['assignment']==1])\n",
    "plt.legend(labels=[\"treat 0\",\"treat 1\"])"
   ]
  },
  {
   "cell_type": "markdown",
   "metadata": {},
   "source": [
    "#### Observational study DAG"
   ]
  },
  {
   "cell_type": "code",
   "execution_count": 7,
   "metadata": {
    "tags": []
   },
   "outputs": [
    {
     "name": "stderr",
     "output_type": "stream",
     "text": [
      "No GPU automatically detected. Setting SETTINGS.GPU to 0, and SETTINGS.NJOBS to cpu_count.\n"
     ]
    }
   ],
   "source": [
    "import cdt\n",
    "import networkx as nx\n",
    "cdt.SETTINGS.rpath = '/Library/Frameworks/R.framework/Versions/4.0/Resources/Rscript'"
   ]
  },
  {
   "cell_type": "code",
   "execution_count": 62,
   "metadata": {
    "jupyter": {
     "source_hidden": true
    },
    "tags": []
   },
   "outputs": [
    {
     "ename": "KeyError",
     "evalue": "'assignment'",
     "output_type": "error",
     "traceback": [
      "\u001b[0;31m---------------------------------------------------------------------------\u001b[0m",
      "\u001b[0;31mKeyError\u001b[0m                                  Traceback (most recent call last)",
      "File \u001b[0;32m~/opt/anaconda3/lib/python3.8/site-packages/pandas/core/indexes/base.py:3621\u001b[0m, in \u001b[0;36mIndex.get_loc\u001b[0;34m(self, key, method, tolerance)\u001b[0m\n\u001b[1;32m   3620\u001b[0m \u001b[39mtry\u001b[39;00m:\n\u001b[0;32m-> 3621\u001b[0m     \u001b[39mreturn\u001b[39;00m \u001b[39mself\u001b[39;49m\u001b[39m.\u001b[39;49m_engine\u001b[39m.\u001b[39;49mget_loc(casted_key)\n\u001b[1;32m   3622\u001b[0m \u001b[39mexcept\u001b[39;00m \u001b[39mKeyError\u001b[39;00m \u001b[39mas\u001b[39;00m err:\n",
      "File \u001b[0;32m~/opt/anaconda3/lib/python3.8/site-packages/pandas/_libs/index.pyx:136\u001b[0m, in \u001b[0;36mpandas._libs.index.IndexEngine.get_loc\u001b[0;34m()\u001b[0m\n",
      "File \u001b[0;32m~/opt/anaconda3/lib/python3.8/site-packages/pandas/_libs/index.pyx:163\u001b[0m, in \u001b[0;36mpandas._libs.index.IndexEngine.get_loc\u001b[0;34m()\u001b[0m\n",
      "File \u001b[0;32mpandas/_libs/hashtable_class_helper.pxi:5198\u001b[0m, in \u001b[0;36mpandas._libs.hashtable.PyObjectHashTable.get_item\u001b[0;34m()\u001b[0m\n",
      "File \u001b[0;32mpandas/_libs/hashtable_class_helper.pxi:5206\u001b[0m, in \u001b[0;36mpandas._libs.hashtable.PyObjectHashTable.get_item\u001b[0;34m()\u001b[0m\n",
      "\u001b[0;31mKeyError\u001b[0m: 'assignment'",
      "\nThe above exception was the direct cause of the following exception:\n",
      "\u001b[0;31mKeyError\u001b[0m                                  Traceback (most recent call last)",
      "\u001b[1;32m/Users/mawuliagamah/gitprojects/causal_inference/causal_inference/simulation study_1.ipynb Cell 12\u001b[0m in \u001b[0;36m<cell line: 7>\u001b[0;34m()\u001b[0m\n\u001b[1;32m      <a href='vscode-notebook-cell:/Users/mawuliagamah/gitprojects/causal_inference/causal_inference/simulation%20study_1.ipynb#ch0000012?line=3'>4</a>\u001b[0m skeleton0 \u001b[39m=\u001b[39m glasso\u001b[39m.\u001b[39mpredict(df_o)\n\u001b[1;32m      <a href='vscode-notebook-cell:/Users/mawuliagamah/gitprojects/causal_inference/causal_inference/simulation%20study_1.ipynb#ch0000012?line=5'>6</a>\u001b[0m \u001b[39m# Skeleton for non-treated\u001b[39;00m\n\u001b[0;32m----> <a href='vscode-notebook-cell:/Users/mawuliagamah/gitprojects/causal_inference/causal_inference/simulation%20study_1.ipynb#ch0000012?line=6'>7</a>\u001b[0m treat0 \u001b[39m=\u001b[39m df_o[df_o[\u001b[39m'\u001b[39;49m\u001b[39massignment\u001b[39;49m\u001b[39m'\u001b[39;49m]\u001b[39m==\u001b[39m\u001b[39m0\u001b[39m]\n\u001b[1;32m      <a href='vscode-notebook-cell:/Users/mawuliagamah/gitprojects/causal_inference/causal_inference/simulation%20study_1.ipynb#ch0000012?line=7'>8</a>\u001b[0m \u001b[39mdel\u001b[39;00m treat0[\u001b[39m'\u001b[39m\u001b[39massignment\u001b[39m\u001b[39m'\u001b[39m]\n\u001b[1;32m      <a href='vscode-notebook-cell:/Users/mawuliagamah/gitprojects/causal_inference/causal_inference/simulation%20study_1.ipynb#ch0000012?line=8'>9</a>\u001b[0m skeleton1 \u001b[39m=\u001b[39m glasso\u001b[39m.\u001b[39mpredict(treat0)\n",
      "File \u001b[0;32m~/opt/anaconda3/lib/python3.8/site-packages/pandas/core/frame.py:3505\u001b[0m, in \u001b[0;36mDataFrame.__getitem__\u001b[0;34m(self, key)\u001b[0m\n\u001b[1;32m   3503\u001b[0m \u001b[39mif\u001b[39;00m \u001b[39mself\u001b[39m\u001b[39m.\u001b[39mcolumns\u001b[39m.\u001b[39mnlevels \u001b[39m>\u001b[39m \u001b[39m1\u001b[39m:\n\u001b[1;32m   3504\u001b[0m     \u001b[39mreturn\u001b[39;00m \u001b[39mself\u001b[39m\u001b[39m.\u001b[39m_getitem_multilevel(key)\n\u001b[0;32m-> 3505\u001b[0m indexer \u001b[39m=\u001b[39m \u001b[39mself\u001b[39;49m\u001b[39m.\u001b[39;49mcolumns\u001b[39m.\u001b[39;49mget_loc(key)\n\u001b[1;32m   3506\u001b[0m \u001b[39mif\u001b[39;00m is_integer(indexer):\n\u001b[1;32m   3507\u001b[0m     indexer \u001b[39m=\u001b[39m [indexer]\n",
      "File \u001b[0;32m~/opt/anaconda3/lib/python3.8/site-packages/pandas/core/indexes/base.py:3623\u001b[0m, in \u001b[0;36mIndex.get_loc\u001b[0;34m(self, key, method, tolerance)\u001b[0m\n\u001b[1;32m   3621\u001b[0m     \u001b[39mreturn\u001b[39;00m \u001b[39mself\u001b[39m\u001b[39m.\u001b[39m_engine\u001b[39m.\u001b[39mget_loc(casted_key)\n\u001b[1;32m   3622\u001b[0m \u001b[39mexcept\u001b[39;00m \u001b[39mKeyError\u001b[39;00m \u001b[39mas\u001b[39;00m err:\n\u001b[0;32m-> 3623\u001b[0m     \u001b[39mraise\u001b[39;00m \u001b[39mKeyError\u001b[39;00m(key) \u001b[39mfrom\u001b[39;00m \u001b[39merr\u001b[39;00m\n\u001b[1;32m   3624\u001b[0m \u001b[39mexcept\u001b[39;00m \u001b[39mTypeError\u001b[39;00m:\n\u001b[1;32m   3625\u001b[0m     \u001b[39m# If we have a listlike key, _check_indexing_error will raise\u001b[39;00m\n\u001b[1;32m   3626\u001b[0m     \u001b[39m#  InvalidIndexError. Otherwise we fall through and re-raise\u001b[39;00m\n\u001b[1;32m   3627\u001b[0m     \u001b[39m#  the TypeError.\u001b[39;00m\n\u001b[1;32m   3628\u001b[0m     \u001b[39mself\u001b[39m\u001b[39m.\u001b[39m_check_indexing_error(key)\n",
      "\u001b[0;31mKeyError\u001b[0m: 'assignment'"
     ]
    }
   ],
   "source": [
    "# Skeleton graph\n",
    "# Skeleton for full dataset\n",
    "glasso = cdt.independence.graph.Glasso()\n",
    "skeleton0 = glasso.predict(df_o)\n",
    "\n",
    "# Skeleton for non-treated\n",
    "treat0 = df_o[df_o['assignment']==0]\n",
    "del treat0['assignment']\n",
    "skeleton1 = glasso.predict(treat0)\n",
    "\n",
    "# Skeleton for treated\n",
    "treat1 = df_o[df_o['assignment']==1]\n",
    "del treat1['assignment']\n",
    "skeleton2 = glasso.predict(treat1)"
   ]
  },
  {
   "cell_type": "code",
   "execution_count": 54,
   "metadata": {
    "collapsed": true,
    "jupyter": {
     "outputs_hidden": true
    },
    "tags": []
   },
   "outputs": [
    {
     "name": "stderr",
     "output_type": "stream",
     "text": [
      "GES is ran on the skeleton of the given graph.\n",
      "PC is ran on the skeleton of the given graph.\n",
      "PC is ran on the skeleton of the given graph.\n"
     ]
    },
    {
     "ename": "AttributeError",
     "evalue": "'list' object has no attribute 'is_directed'",
     "output_type": "error",
     "traceback": [
      "\u001b[0;31m---------------------------------------------------------------------------\u001b[0m",
      "\u001b[0;31mAttributeError\u001b[0m                            Traceback (most recent call last)",
      "\u001b[1;32m/Users/mawuliagamah/gitprojects/causal_inference/causal_inference/simulation study_1.ipynb Cell 13\u001b[0m in \u001b[0;36m<cell line: 21>\u001b[0;34m()\u001b[0m\n\u001b[1;32m     <a href='vscode-notebook-cell:/Users/mawuliagamah/gitprojects/causal_inference/causal_inference/simulation%20study_1.ipynb#ch0000013?line=19'>20</a>\u001b[0m ax \u001b[39m=\u001b[39m axes\u001b[39m.\u001b[39mflatten()\n\u001b[1;32m     <a href='vscode-notebook-cell:/Users/mawuliagamah/gitprojects/causal_inference/causal_inference/simulation%20study_1.ipynb#ch0000013?line=20'>21</a>\u001b[0m \u001b[39mfor\u001b[39;00m i \u001b[39min\u001b[39;00m \u001b[39mrange\u001b[39m(\u001b[39m3\u001b[39m):\n\u001b[0;32m---> <a href='vscode-notebook-cell:/Users/mawuliagamah/gitprojects/causal_inference/causal_inference/simulation%20study_1.ipynb#ch0000013?line=21'>22</a>\u001b[0m     nx\u001b[39m.\u001b[39;49mdraw_networkx(graphs,font_size\u001b[39m=\u001b[39;49m\u001b[39m10\u001b[39;49m ,node_size\u001b[39m=\u001b[39;49m\u001b[39m500\u001b[39;49m,edge_cmap\u001b[39m=\u001b[39;49m\u001b[39m'\u001b[39;49m\u001b[39mReds\u001b[39;49m\u001b[39m'\u001b[39;49m,arrowsize\u001b[39m=\u001b[39;49m\u001b[39m15\u001b[39;49m,edge_color\u001b[39m=\u001b[39;49m\u001b[39m'\u001b[39;49m\u001b[39mGreen\u001b[39;49m\u001b[39m'\u001b[39;49m , ax\u001b[39m=\u001b[39;49max[i])\n\u001b[1;32m     <a href='vscode-notebook-cell:/Users/mawuliagamah/gitprojects/causal_inference/causal_inference/simulation%20study_1.ipynb#ch0000013?line=23'>24</a>\u001b[0m plt\u001b[39m.\u001b[39mshow()\n",
      "File \u001b[0;32m~/opt/anaconda3/lib/python3.8/site-packages/networkx/drawing/nx_pylab.py:334\u001b[0m, in \u001b[0;36mdraw_networkx\u001b[0;34m(G, pos, arrows, with_labels, **kwds)\u001b[0m\n\u001b[1;32m    331\u001b[0m     pos \u001b[39m=\u001b[39m nx\u001b[39m.\u001b[39mdrawing\u001b[39m.\u001b[39mspring_layout(G)  \u001b[39m# default to spring layout\u001b[39;00m\n\u001b[1;32m    333\u001b[0m draw_networkx_nodes(G, pos, \u001b[39m*\u001b[39m\u001b[39m*\u001b[39mnode_kwds)\n\u001b[0;32m--> 334\u001b[0m draw_networkx_edges(G, pos, arrows\u001b[39m=\u001b[39;49marrows, \u001b[39m*\u001b[39;49m\u001b[39m*\u001b[39;49medge_kwds)\n\u001b[1;32m    335\u001b[0m \u001b[39mif\u001b[39;00m with_labels:\n\u001b[1;32m    336\u001b[0m     draw_networkx_labels(G, pos, \u001b[39m*\u001b[39m\u001b[39m*\u001b[39mlabel_kwds)\n",
      "File \u001b[0;32m~/opt/anaconda3/lib/python3.8/site-packages/networkx/drawing/nx_pylab.py:675\u001b[0m, in \u001b[0;36mdraw_networkx_edges\u001b[0;34m(G, pos, edgelist, width, edge_color, style, alpha, arrowstyle, arrowsize, edge_cmap, edge_vmin, edge_vmax, ax, arrows, label, node_size, nodelist, node_shape, connectionstyle, min_source_margin, min_target_margin)\u001b[0m\n\u001b[1;32m    669\u001b[0m \u001b[39mimport\u001b[39;00m \u001b[39mmatplotlib\u001b[39;00m\u001b[39m.\u001b[39;00m\u001b[39mpyplot\u001b[39;00m \u001b[39mas\u001b[39;00m \u001b[39mplt\u001b[39;00m\n\u001b[1;32m    671\u001b[0m \u001b[39m# The default behavior is to use LineCollection to draw edges for\u001b[39;00m\n\u001b[1;32m    672\u001b[0m \u001b[39m# undirected graphs (for performance reasons) and use FancyArrowPatches\u001b[39;00m\n\u001b[1;32m    673\u001b[0m \u001b[39m# for directed graphs.\u001b[39;00m\n\u001b[1;32m    674\u001b[0m \u001b[39m# The `arrows` keyword can be used to override the default behavior\u001b[39;00m\n\u001b[0;32m--> 675\u001b[0m use_linecollection \u001b[39m=\u001b[39m \u001b[39mnot\u001b[39;00m G\u001b[39m.\u001b[39;49mis_directed()\n\u001b[1;32m    676\u001b[0m \u001b[39mif\u001b[39;00m arrows \u001b[39min\u001b[39;00m (\u001b[39mTrue\u001b[39;00m, \u001b[39mFalse\u001b[39;00m):\n\u001b[1;32m    677\u001b[0m     use_linecollection \u001b[39m=\u001b[39m \u001b[39mnot\u001b[39;00m arrows\n",
      "\u001b[0;31mAttributeError\u001b[0m: 'list' object has no attribute 'is_directed'"
     ]
    },
    {
     "data": {
      "image/png": "[encoded data removed]",
      "text/plain": [
       "<Figure size 2160x720 with 3 Axes>"
      ]
     },
     "metadata": {
      "needs_background": "light"
     },
     "output_type": "display_data"
    }
   ],
   "source": [
    "graph_data_1 = df_o\n",
    "graph_data_2 = treat0\n",
    "graph_data_3 = treat1\n",
    "\n",
    "# Full\n",
    "model_pc0 = cdt.causality.graph.GES()\n",
    "graph_pc0 = model_pc0.predict(graph_data_1, skeleton0)\n",
    "\n",
    "# not treated\n",
    "model_pc1 = cdt.causality.graph.PC()\n",
    "graph_pc1 = model_pc1.predict(graph_data_2, skeleton1)\n",
    "\n",
    "# Treat\n",
    "model_pc2 = cdt.causality.graph.PC()\n",
    "graph_pc2 = model_pc2.predict(graph_data_3, skeleton2)\n",
    "\n",
    "#Plot all graphs\n",
    "graphs = [graph_pc0,graph_pc1,graph_pc2]\n",
    "fig, axes = plt.subplots(nrows=1, ncols=3,figsize=(30, 10))\n",
    "ax = axes.flatten()\n",
    "for i in range(3):\n",
    "    nx.draw_networkx(graphs,font_size=10 ,node_size=500,edge_cmap='Reds',arrowsize=15,edge_color='Green' , ax=ax[i])\n",
    "\n",
    "plt.show()"
   ]
  },
  {
   "cell_type": "code",
   "execution_count": 73,
   "metadata": {},
   "outputs": [
    {
     "name": "stderr",
     "output_type": "stream",
     "text": [
      "PC is ran on the skeleton of the given graph.\n"
     ]
    },
    {
     "data": {
      "image/png": "[encoded data removed]",
      "text/plain": [
       "<Figure size 432x288 with 1 Axes>"
      ]
     },
     "metadata": {},
     "output_type": "display_data"
    }
   ],
   "source": [
    "\n",
    "glasso = cdt.independence.graph.Glasso()\n",
    "skeleton0 = glasso.predict(df_o)\n",
    "model_pc0 = cdt.causality.graph.PC()\n",
    "graph_pc0 = model_pc0.predict(df_o, skeleton0)\n",
    "nx.draw_networkx(graph_pc0,font_size=10 ,node_size=1000,edge_cmap='Reds',arrowsize=15,edge_color='Green')\n"
   ]
  },
  {
   "cell_type": "code",
   "execution_count": 79,
   "metadata": {},
   "outputs": [
    {
     "ename": "AssertionError",
     "evalue": "",
     "output_type": "error",
     "traceback": [
      "\u001b[0;31m---------------------------------------------------------------------------\u001b[0m",
      "\u001b[0;31mAssertionError\u001b[0m                            Traceback (most recent call last)",
      "\u001b[1;32m/Users/mawuliagamah/gitprojects/causal_inference/causal_inference/simulation study_1.ipynb Cell 15\u001b[0m in \u001b[0;36m<cell line: 27>\u001b[0;34m()\u001b[0m\n\u001b[1;32m     <a href='vscode-notebook-cell:/Users/mawuliagamah/gitprojects/causal_inference/causal_inference/simulation%20study_1.ipynb#ch0000018?line=22'>23</a>\u001b[0m edges \u001b[39m=\u001b[39m \u001b[39mlist\u001b[39m(edges)\n\u001b[1;32m     <a href='vscode-notebook-cell:/Users/mawuliagamah/gitprojects/causal_inference/causal_inference/simulation%20study_1.ipynb#ch0000018?line=23'>24</a>\u001b[0m edges\u001b[39m.\u001b[39mremove( (\u001b[39m'\u001b[39m\u001b[39mX1\u001b[39m\u001b[39m'\u001b[39m, \u001b[39m'\u001b[39m\u001b[39mX0\u001b[39m\u001b[39m'\u001b[39m))\n\u001b[0;32m---> <a href='vscode-notebook-cell:/Users/mawuliagamah/gitprojects/causal_inference/causal_inference/simulation%20study_1.ipynb#ch0000018?line=26'>27</a>\u001b[0m sprinkler \u001b[39m=\u001b[39m CausalGraphicalModel(nodes\u001b[39m=\u001b[39;49mnodes,edges\u001b[39m=\u001b[39;49m edges )\n",
      "File \u001b[0;32m~/opt/anaconda3/lib/python3.8/site-packages/causalgraphicalmodels/cgm.py:55\u001b[0m, in \u001b[0;36mCausalGraphicalModel.__init__\u001b[0;34m(self, nodes, edges, latent_edges, set_nodes)\u001b[0m\n\u001b[1;32m     52\u001b[0m     \u001b[39mself\u001b[39m\u001b[39m.\u001b[39munobserved_variable_edges[new_node] \u001b[39m=\u001b[39m (n1, n2)\n\u001b[1;32m     53\u001b[0m \u001b[39mself\u001b[39m\u001b[39m.\u001b[39munobserved_variables \u001b[39m=\u001b[39m \u001b[39mfrozenset\u001b[39m(unobserved_variables)\n\u001b[0;32m---> 55\u001b[0m \u001b[39massert\u001b[39;00m nx\u001b[39m.\u001b[39mis_directed_acyclic_graph(\u001b[39mself\u001b[39m\u001b[39m.\u001b[39mdag)\n\u001b[1;32m     57\u001b[0m \u001b[39mfor\u001b[39;00m set_node \u001b[39min\u001b[39;00m \u001b[39mself\u001b[39m\u001b[39m.\u001b[39mset_nodes:\n\u001b[1;32m     58\u001b[0m     \u001b[39m# set nodes cannot have parents\u001b[39;00m\n\u001b[1;32m     59\u001b[0m     \u001b[39massert\u001b[39;00m \u001b[39mnot\u001b[39;00m nx\u001b[39m.\u001b[39mancestors(\u001b[39mself\u001b[39m\u001b[39m.\u001b[39mdag, set_node)\n",
      "\u001b[0;31mAssertionError\u001b[0m: "
     ]
    }
   ],
   "source": [
    "from causalgraphicalmodels import CausalGraphicalModel\n",
    "\n",
    "sprinkler = CausalGraphicalModel(\n",
    "    nodes=[\"season\", \"rain\", \"sprinkler\", \"wet\", \"slippery\"],\n",
    "    edges=[\n",
    "        (\"season\", \"rain\"), \n",
    "        (\"season\", \"sprinkler\"), \n",
    "        (\"rain\", \"wet\"),\n",
    "        (\"sprinkler\", \"wet\"), \n",
    "        (\"wet\", \"slippery\")\n",
    "    ]\n",
    ")\n",
    "\n",
    "sprinkler_G = sprinkler.graph\n",
    "\n",
    "\n",
    "Springer_G = nx.to_numpy_matrix(sprinkler_G)\n",
    "df_0_matrix = nx.to_numpy_matrix(graph_pc0)\n",
    "\n",
    "nodes = graph_pc0.nodes\n",
    "edges = graph_pc0.edges\n",
    "nodes = list(nodes)\n",
    "edges = list(edges)\n",
    "edges.remove( ('X1', 'X0'))\n",
    "\n",
    "\n",
    "sprinkler = CausalGraphicalModel(nodes=nodes,edges= edges )\n",
    "#sprinkler.draw()"
   ]
  },
  {
   "cell_type": "code",
   "execution_count": 78,
   "metadata": {},
   "outputs": [
    {
     "data": {
      "text/plain": [
       "[('X0', 'X1'), ('X1', 'outcome'), ('outcome', 'X1')]"
      ]
     },
     "execution_count": 78,
     "metadata": {},
     "output_type": "execute_result"
    }
   ],
   "source": []
  },
  {
   "cell_type": "code",
   "execution_count": 71,
   "metadata": {},
   "outputs": [
    {
     "data": {
      "text/plain": [
       "matrix([[0., 1., 0.],\n",
       "        [1., 0., 1.],\n",
       "        [0., 1., 0.]])"
      ]
     },
     "execution_count": 71,
     "metadata": {},
     "output_type": "execute_result"
    }
   ],
   "source": [
    "df_0_matrix"
   ]
  },
  {
   "cell_type": "code",
   "execution_count": 51,
   "metadata": {},
   "outputs": [
    {
     "data": {
      "text/plain": [
       "OutEdgeView([('X0', 'X1'), ('X0', 'assignment'), ('X1', 'X0'), ('X1', 'assignment'), ('X1', 'outcome'), ('assignment', 'X0'), ('assignment', 'X1'), ('assignment', 'outcome'), ('outcome', 'X1'), ('outcome', 'assignment')])"
      ]
     },
     "execution_count": 51,
     "metadata": {},
     "output_type": "execute_result"
    }
   ],
   "source": [
    "edges"
   ]
  },
  {
   "cell_type": "code",
   "execution_count": 17,
   "metadata": {},
   "outputs": [],
   "source": [
    "# Convert variables to numpy arrays  \n",
    "\n",
    "outcome_a  = np.array([df_e['outcome']])\n",
    "assignment_a  = np.array([df_e['assignment']])\n",
    "X0_a  = np.array([df_e['X0']])\n",
    "X1_a = np.array(df_e['X1'])\n",
    "X2_a = np.array(df_e['X2'])\n",
    "X3_a = np.array(df_e['X3'])\n",
    "X4_a = np.array(df_e['X4'])\n",
    "X5_a = np.array(df_e['X5'])\n",
    "X6_a = np.array(df_e['X6'])\n",
    "\n",
    "# Reshape arrays \n",
    "\n",
    "outcome_a = outcome_a.reshape(722,1)\n",
    "assignment_a = assignment_a.reshape(722,1)\n",
    "X0_a = X0_a.reshape(722,1)\n",
    "X1_a = X1_a.reshape(722,1)\n",
    "X2_a = X2_a.reshape(722,1)\n",
    "X3_a = X3_a.reshape(722,1)\n",
    "X4_a = X4_a.reshape(722,1)\n",
    "X5_a = X5_a.reshape(722,1)\n",
    "X6_a = X6_a.reshape(722,1)\n",
    "\n",
    "\n",
    "## Generate sets for conditional independence testing \n",
    "\n",
    "emptyset = [0]*722\n",
    "emptyset = np.array(emptyset)\n",
    "emptyset = emptyset.reshape(722,1)\n",
    "\n",
    "# n-dimensional arrays\n",
    "\n",
    "z_1 = np.array(df_e[['X0','X1','X2']])"
   ]
  },
  {
   "cell_type": "code",
   "execution_count": 13,
   "metadata": {},
   "outputs": [],
   "source": [
    "from CCIT import CCIT\n",
    "from CCIT import DataGen"
   ]
  },
  {
   "cell_type": "code",
   "execution_count": 19,
   "metadata": {},
   "outputs": [
    {
     "data": {
      "text/plain": [
       "[0.5]"
      ]
     },
     "execution_count": 19,
     "metadata": {},
     "output_type": "execute_result"
    }
   ],
   "source": [
    "ci_pvals = []\n",
    "pvalue = CCIT.CCIT(outcome_a,assignment_a,emptyset) \n",
    "ci_pvals.append(pvalue)\n",
    "ci_pvals"
   ]
  },
  {
   "cell_type": "code",
   "execution_count": null,
   "metadata": {},
   "outputs": [],
   "source": []
  }
 ],
 "metadata": {
  "kernelspec": {
   "display_name": "Python 3 (ipykernel)",
   "language": "python",
   "name": "python3"
  },
  "language_info": {
   "codemirror_mode": {
    "name": "ipython",
    "version": 3
   },
   "file_extension": ".py",
   "mimetype": "text/x-python",
   "name": "python",
   "nbconvert_exporter": "python",
   "pygments_lexer": "ipython3",
   "version": "3.8.13"
  },
  "vscode": {
   "interpreter": {
    "hash": "44a7c5cf9512a4ad670122a007d348488b56f79d3796a47615dc74da9f36a764"
   }
  }
 },
 "nbformat": 4,
 "nbformat_minor": 4
}
