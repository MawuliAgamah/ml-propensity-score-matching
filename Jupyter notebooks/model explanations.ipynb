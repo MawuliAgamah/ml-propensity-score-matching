{
 "cells": [
  {
   "cell_type": "code",
   "execution_count": 165,
   "metadata": {},
   "outputs": [],
   "source": [
    "# standard libraries \n",
    "import warnings\n",
    "import pandas as pd\n",
    "import numpy as np\n",
    "import matplotlib.pyplot as plt\n",
    "from matplotlib.lines import Line2D\n",
    "from tueplots import axes, bundles , figsizes, fonts,fontsizes\n",
    "import seaborn as sns\n",
    "import random \n",
    "from random import randrange"
   ]
  },
  {
   "cell_type": "code",
   "execution_count": 166,
   "metadata": {},
   "outputs": [],
   "source": [
    "# statistics \n",
    "import statsmodels.api as sm\n",
    "from scipy import stats as stat\n",
    "from sklearn.inspection import partial_dependence\n",
    "from sklearn.utils import resample\n",
    "from scipy.stats import sem\n",
    "from statsmodels.graphics.regressionplots import plot_partregress"
   ]
  },
  {
   "cell_type": "code",
   "execution_count": 167,
   "metadata": {},
   "outputs": [],
   "source": [
    "# ML models\n",
    "from sklearn import tree  # Classification tree        \n",
    "from xgboost import XGBClassifier # xgboost \n",
    "from sklearn.ensemble import RandomForestClassifier # Random forest "
   ]
  },
  {
   "cell_type": "code",
   "execution_count": 168,
   "metadata": {},
   "outputs": [],
   "source": [
    "from imblearn.combine import SMOTEENN # data augmentation \n",
    "from sklearn.utils import shuffle\n",
    "from sklearn.inspection import PartialDependenceDisplay"
   ]
  },
  {
   "cell_type": "markdown",
   "metadata": {},
   "source": [
    "# read in data "
   ]
  },
  {
   "cell_type": "code",
   "execution_count": 169,
   "metadata": {},
   "outputs": [],
   "source": [
    "nsw = pd.read_csv('/Users/mawuliagamah/gitprojects/causal_inference/causal_inference/datasets/quasi data/unmatched data/NswLalonde_transformed.csv') # RCT\n",
    "nswre74 = pd.read_csv('/Users/mawuliagamah/gitprojects/causal_inference/causal_inference/datasets/quasi data/unmatched data/NswDeWab_transformed.csv') # RCT \n",
    "nswCps_lalonde =  pd.read_csv('/Users/mawuliagamah/gitprojects/causal_inference/causal_inference/datasets/quasi data/unmatched data/Quasi_NswCps_lalonde.csv') # Quasi data \n",
    "nswPsid_lalonde = pd.read_csv('/Users/mawuliagamah/gitprojects/causal_inference/causal_inference/datasets/quasi data/unmatched data/Quasi_NswPsid_lalonde.csv') # Quasi data \n",
    "nswCps_dehWab =   pd.read_csv('/Users/mawuliagamah/gitprojects/causal_inference/causal_inference/datasets/quasi data/unmatched data/Quasi_NswCps_dehWab.csv') # Quasi data \n",
    "nswPsid_dehWab =  pd.read_csv('/Users/mawuliagamah/gitprojects/causal_inference/causal_inference/datasets/quasi data/unmatched data/Quasi_NswPsid_dehWab.csv') # Quasi data "
   ]
  },
  {
   "cell_type": "markdown",
   "metadata": {},
   "source": [
    "<p> scatter plot's </p>"
   ]
  },
  {
   "cell_type": "code",
   "execution_count": 170,
   "metadata": {},
   "outputs": [
    {
     "name": "stderr",
     "output_type": "stream",
     "text": [
      "/Users/mawuliagamah/opt/anaconda3/lib/python3.8/site-packages/seaborn/_decorators.py:36: FutureWarning: Pass the following variables as keyword args: x, y. From version 0.12, the only valid positional argument will be `data`, and passing other arguments without an explicit keyword will result in an error or misinterpretation.\n",
      "  warnings.warn(\n",
      "/Users/mawuliagamah/opt/anaconda3/lib/python3.8/site-packages/statsmodels/nonparametric/smoothers_lowess.py:227: RuntimeWarning: invalid value encountered in divide\n",
      "  res, _ = _lowess(y, x, x, np.ones_like(x),\n"
     ]
    },
    {
     "data": {
      "image/png": "[encoded data removed]",
      "text/plain": [
       "<Figure size 432x288 with 1 Axes>"
      ]
     },
     "metadata": {
      "needs_background": "light"
     },
     "output_type": "display_data"
    }
   ],
   "source": [
    "sns.regplot(nswCps_lalonde['black'], nswCps_lalonde['re78'], lowess=True)\n",
    "plt.ylabel(' ')\n",
    "plt.xlabel(' ')\n",
    "plt.title(' ')\n",
    "plt.show()"
   ]
  },
  {
   "cell_type": "markdown",
   "metadata": {},
   "source": [
    "<p> building block 1 </p>"
   ]
  },
  {
   "cell_type": "markdown",
   "metadata": {},
   "source": [
    "\n",
    "plot = PartialDependenceDisplay.from_estimator(**pdp_params,response_method = \"predict_proba\")\n",
    "\n",
    "pdp_params = {\"estimator\":boostestedTree,\n",
    "               \"features\":plot_features,\n",
    "                \"X\":features,\n",
    "                \"feature_names\":plot_features }\n",
    "\n",
    "target_variable = \"treat\"\n",
    "covariateSelection1 = ['treat','age','education*','black','hispanic','married','nodegree','re75']\n",
    "features,target = dataset(target_variable,covariateSelection1,nswCps_lalonde)\n",
    "\n",
    "features,target = dataset(target_variable,covariateSelection1,nswCps_lalonde)\n",
    "\n",
    "hyper_parameter_ict = {\"objective\":\"binary:logistic\",\"seed\":0,\n",
    "                       \"booster\":\"dart\", \"colsample_bytree\":0.3,\n",
    "                         \"gamma\":0.5, \"learning_rate\" : 0.05,\n",
    "                           \"max_depth\":None, \"min_child_weight\":2,\n",
    "                      \"subsample\":0.5, \"nthread\":4 }\n",
    "plot_features = ['treat','age','education*','black','hispanic','married','nodegree','re75']\n",
    "\n",
    "\n",
    "target_variable = \"treat\"\n",
    "covariateSelection1 = ['treat','age','education*','black','hispanic','married','nodegree','re75']\n",
    "features,target = dataset(target_variable,covariateSelection1,nswCps_lalonde)"
   ]
  },
  {
   "cell_type": "markdown",
   "metadata": {},
   "source": [
    "<p> building block 2  </p>"
   ]
  },
  {
   "cell_type": "markdown",
   "metadata": {},
   "source": [
    "def features_and_targets_function(target,features,dataset):\n",
    "        \"\"\"\n",
    "        Split dataset into features and targets \n",
    "        \"\"\"\n",
    "        dataset = shuffle(dataset).reset_index(drop=True) # shuffle data \n",
    "        target = dataset[target]\n",
    "        features = dataset[features]\n",
    "        return features,target;\n",
    "\n",
    "\n",
    "target_variable = \"treat\"\n",
    "covariateSelection1 = ['treat','age','education*','black','hispanic','married','nodegree','re75']\n",
    "features,target = dataset(target_variable,covariateSelection1,nswCps_lalonde)\n",
    "\n",
    "\n",
    "def fitandRunModelfunct(hyper_parameter_ict,features,target):\n",
    "\n",
    "        model = XGBClassifier(**hyper_parameter_ict).fit(features,target)  # unpack dictionary \n",
    "\n",
    "        return model\n",
    "\n",
    "\n",
    "model = fitandRunModelfunct(hyper_parameter_ict,features,target)\n",
    "\n",
    "def partialdependenceplotfunct(model,features,feature_string, target_string):\n",
    "\n",
    "        \n",
    "\n",
    "        x_values = np.linspace(np.min(features[feature_string]), np.max(features[feature_string]))\n",
    "\n",
    "        pdp_values = []\n",
    "        for n in x_values:\n",
    "            X_pdp = features.copy()\n",
    "            X_pdp[feature_string] = n\n",
    "            pdp_values.append(np.mean(model.predict(X_pdp)))\n",
    "\n",
    "        plt.plot(x_values, pdp_values)\n",
    "        plt.ylabel(target_string)\n",
    "        plt.xlabel(feature_string)\n",
    "        plt.title('Partial dependence plot for treated vs boosted tree')\n",
    "        plt.show()\n",
    "\n",
    "        return plot\n",
    "\n",
    "feature_string = \"education*\"\n",
    "target_string = \"treat\"\n",
    "partialdependenceplotfunct(model,features,feature_string,target_string)       "
   ]
  },
  {
   "cell_type": "markdown",
   "metadata": {},
   "source": [
    "boostestedTree = XGBClassifier(hyper_parameter_ict).fit(features,target)  # unpack dictionary "
   ]
  },
  {
   "cell_type": "markdown",
   "metadata": {},
   "source": [
    "def features_and_targets_function(target,features,dataset):\n",
    "        \"\"\"\n",
    "        Split dataset into features and targets \n",
    "        \"\"\"\n",
    "        dataset = shuffle(dataset).reset_index(drop=True) # shuffle data \n",
    "        target = dataset[target]\n",
    "        features = dataset[features]\n",
    "        return features,target;\n",
    "\n",
    "\n",
    "target_variable = \"treat\"\n",
    "covariateSelection1 = ['treat','age','education*','black','hispanic','married','nodegree','re75']\n",
    "features,target = dataset(target_variable,covariateSelection1,nswCps_lalonde)\n"
   ]
  },
  {
   "cell_type": "markdown",
   "metadata": {},
   "source": [
    "boostestedTree = XGBClassifier(**hyper_parameter_ict).fit(features,target)  # unpack dictionary \n",
    "\n",
    "x_values = np.linspace(np.min(features['age']), np.max(features['age']))\n",
    "pdp_values = []\n",
    "for n in x_values:\n",
    "  X_pdp = features.copy()\n",
    "  X_pdp['age'] = n\n",
    "  pdp_values.append(np.mean(boostestedTree.predict(X_pdp)))\n",
    "\n",
    "plt.plot(x_values, pdp_values)\n",
    "plt.ylabel('treated')\n",
    "plt.xlabel('age')\n",
    "plt.title('Partial dependence plot for treated vs boosted tree')\n",
    "plt.show()"
   ]
  },
  {
   "cell_type": "markdown",
   "metadata": {},
   "source": [
    "pdp_values"
   ]
  },
  {
   "cell_type": "markdown",
   "metadata": {},
   "source": [
    "# WIP BOOTSTRAPPED partial dependence plot\n",
    "\n",
    "n_bootstrap = 100\n",
    "\n",
    "nox_values = np.linspace(np.min(X['NOX']), np.max(X['NOX']))\n",
    "\n",
    "expected_value_bootstrap_replications = []\n",
    "\n",
    "for _ in range(n_bootstrap):\n",
    "    X_boot, y_boot = resample(X, y)\n",
    "    rf_model_boot = RandomForestRegressor(n_estimators=100).fit(X_boot, y_boot)\n",
    "    \n",
    "    bootstrap_model_predictions = []\n",
    "    for n in nox_values:\n",
    "        X_pdp = X_boot.copy()\n",
    "        X_pdp['NOX'] = n\n",
    "        bootstrap_model_predictions.append(np.mean(rf_model.predict(X_pdp)))\n",
    "    expected_value_bootstrap_replications.append(bootstrap_model_predictions)\n",
    "    \n",
    "expected_value_bootstrap_replications = np.array(expected_value_bootstrap_replications)\n",
    "for ev in expected_value_bootstrap_replications:\n",
    "    plt.plot(nox_values, ev, color='blue', alpha=.1)\n",
    "\n",
    "prediction_se = np.std(expected_value_bootstrap_replications, axis=0)\n",
    "\n",
    "plt.plot(nox_values, pdp_values, label='Model predictions')\n",
    "plt.fill_between(nox_values, pdp_values - 3*prediction_se, pdp_values + 3*prediction_se, alpha=.5, label='Bootstrap CI')\n",
    "plt.legend()\n",
    "plt.ylabel('Median house price')\n",
    "plt.xlabel('NOX')\n",
    "plt.title('Partial dependence plot for NOX vs Price for Random Forest')\n",
    "plt.show()"
   ]
  },
  {
   "cell_type": "markdown",
   "metadata": {},
   "source": [
    "plot.figure_.suptitle(\n",
    "    \"Partial dependence plt\"\n",
    ")\n",
    "plot.figure_.subplots_adjust(hspace=0.3)\n",
    "\n",
    "\n",
    "plt.rcParams.update({\"figure.dpi\": 300}) \n",
    "plt.rcParams.update(bundles.neurips2022())\n",
    "plt.rcParams.update(fonts.neurips2022())\n",
    "plt.rcParams.update(axes.tick_direction( y=\"in\"))\n",
    "plt.rcParams.update(axes.color(base=\"black\"))\n",
    "plt.rcParams.update(figsizes.neurips2022(nrows=1, ncols=1))\n",
    "plt.rcParams.update({'font.size': 18})"
   ]
  },
  {
   "cell_type": "code",
   "execution_count": null,
   "metadata": {},
   "outputs": [],
   "source": [
    "\n",
    "hyper_parameter_ict = {\"objective\":\"binary:logistic\",\"seed\":0,\n",
    "                       \"booster\":\"dart\", \"colsample_bytree\":0.3,\n",
    "                         \"gamma\":0.5, \"learning_rate\" : 0.05,\n",
    "                           \"max_depth\":None, \"min_child_weight\":2,\n",
    "                      \"subsample\":0.5, \"nthread\":4 }\n",
    "\n",
    "\n",
    "# models \n",
    "\n",
    "# Function called fit model \n",
    "# def fitandRunModelfunct():\n",
    "#  probabilities = model.predict_proba(dataset.drop('treat', axis=1))\n",
    "\n",
    "# plotting function\n",
    "#from sklearn import tree\n",
    "#import graphviz\n",
    "#tree_graph = tree.export_graphviz(tree_model, out_file=None, feature_names=feature_names)\n",
    "#graphviz.Source(tree_graph)"
   ]
  },
  {
   "cell_type": "markdown",
   "metadata": {},
   "source": [
    "    #@classmethod\n",
    "    #def variables_to_plot(self,features_string,target_string):\n",
    "        #dataset = shuffle(self.dataset).reset_index(drop=True) # shuffle data \n",
    "    #    self.features_str = features_string\n",
    "    #    self.target_str = target_string\n",
    "    #    return self.features_str,self.target_str\n"
   ]
  },
  {
   "cell_type": "markdown",
   "metadata": {},
   "source": [
    "def features_and_targets_function(target,features,dataset):\n",
    "        \"\"\"\n",
    "        Split dataset into features and targets \n",
    "        \"\"\"\n",
    "        dataset = shuffle(dataset).reset_index(drop=True) # shuffle data \n",
    "        target = dataset[target]\n",
    "        features = dataset[features]\n",
    "        return features,target;\n",
    "\n",
    "target_variable = \"treat\"\n",
    "covariateSelection1 = ['treat','age','education*','black','hispanic','married','nodegree','re75']\n",
    "features,target = features_and_targets_function(target_variable,covariateSelection1,nswCps_lalonde)"
   ]
  },
  {
   "cell_type": "code",
   "execution_count": null,
   "metadata": {},
   "outputs": [],
   "source": [
    "# Load classifiers "
   ]
  },
  {
   "cell_type": "code",
   "execution_count": 144,
   "metadata": {},
   "outputs": [],
   "source": [
    "class explainer(object):\n",
    "    \"\"\"\n",
    "    explainer class takes in a model, dataset, list of covariates, list of targets and feature and target to plot \n",
    "    \"\"\"\n",
    "    # Class attribute\n",
    "    def __init__(self,model,dataset,covariates,target,xy_list): # initialise class \n",
    "                  #bootstrap true false           \n",
    "        super(explainer, self).__init__() \n",
    "        self.model = model\n",
    "        self.dataset = shuffle(dataset).reset_index(drop=True) # shuffle data\n",
    "        self.features = dataset[covariates]\n",
    "        self.target = dataset[target]\n",
    "        self.features_str = xy_list[0]\n",
    "        self.target_str = xy_list[1]\n",
    "        \n",
    "    \"\"\"\n",
    "    create partial dependence plot\n",
    "    \"\"\"    \n",
    "    \n",
    "    def partialDependPlot(self,ax):\n",
    "        x_values = np.linspace(np.min(self.features[self.features_str]), np.max(self.features[self.features_str])) # x-range for the feature\n",
    "        pdp_values = []\n",
    "        for n in x_values:\n",
    "            X_pdp = self.features.copy()\n",
    "            X_pdp[self.features_str] = n\n",
    "            pdp_values.append(np.mean(self.model.predict(X_pdp)))  \n",
    "        ax = ax\n",
    "        ax.plot(x_values, pdp_values)\n",
    "        ax.set_ylabel(self.target_str)\n",
    "        ax.set_xlabel(self.features_str)\n",
    "        ax.set_title('Partial dependence plot for treated vs boosted tree')\n",
    "        return ax\n",
    "    \n",
    "    # def plotTree(ax)\n",
    "\n",
    "\n",
    "\n",
    "\n"
   ]
  },
  {
   "cell_type": "code",
   "execution_count": 140,
   "metadata": {},
   "outputs": [],
   "source": [
    "def features_and_targets_function(target,features,dataset):\n",
    "        \"\"\"\n",
    "        Split dataset into features and targets \n",
    "        \"\"\"\n",
    "        dataset = shuffle(dataset).reset_index(drop=True) # shuffle data \n",
    "        target = dataset[target]\n",
    "        features = dataset[features]\n",
    "        return features,target;\n",
    "\n"
   ]
  },
  {
   "cell_type": "markdown",
   "metadata": {},
   "source": [
    "<p> KEY </p>\n",
    "<p> 1 - nsw treated + CPS control  (Lalonde's original sample) </p>\n",
    "<p> 2 - nsw treated + PSID control (Lalonde's original sample) </p>\n",
    "<p> 3 - nsw treated + CPS control  (Dehejia & Wahba sub-sample) </p>\n",
    "<p> 4 - nsw treated + PSID control (Dehejia & Wahba sub-sample) </p>"
   ]
  },
  {
   "cell_type": "markdown",
   "metadata": {},
   "source": [
    "# Fit all tree based models "
   ]
  },
  {
   "cell_type": "code",
   "execution_count": 171,
   "metadata": {},
   "outputs": [],
   "source": [
    "# Features and Tarfets \n",
    "target_variable = \"treat\" # target \n",
    "covariateSelection1 = ['treat','age','education*','black','hispanic','married','nodegree','re75'] # features \n",
    "\n",
    "# features and target function to split dataset up ( this could go into the explainer class)\n",
    "features,target = features_and_targets_function(target_variable,covariateSelection1,nswCps_lalonde) \n",
    "\n",
    "# Hyper parameters ( taken from grid search)\n",
    "\n",
    "# CART\n",
    "cart_hyper_params1 = {\"random_state\":0,\"criterion\":'entropy',\n",
    "                        \"max_depth\":5,\"max_leaf_nodes\":12,\n",
    "                      \"min_samples_leaf\":2}     \n",
    "\n",
    "#Random forest\n",
    "forest_hyper_params1 = {\"random_state\":0,\"criterion\":'entropy',\n",
    "                            \"max_depth\":8,\"max_features\":'sqrt',\"min_samples_split\" :2,\n",
    "                          \"n_estimators\":100}     \n",
    "\n",
    "# xgboost \n",
    "boost_hyper_params1 = {\"objective\":\"binary:logistic\",\"seed\":0,\n",
    "                       \"booster\":\"dart\", \"colsample_bytree\":0.3,\n",
    "                         \"gamma\":0.5, \"learning_rate\" : 0.05,\n",
    "                           \"max_depth\":None, \"min_child_weight\":2,\n",
    "                        \"subsample\":0.5, \"nthread\":4 }                \n",
    "\n"
   ]
  },
  {
   "cell_type": "code",
   "execution_count": 172,
   "metadata": {},
   "outputs": [],
   "source": [
    "# fit cart\n",
    "tree1 = tree.DecisionTreeClassifier(**cart_hyper_params1).fit(features,target)\n",
    "# fit random forest\n",
    "forest1 = RandomForestClassifier(**forest_hyper_params1).fit(features,target)\n",
    "# Fit boost\n",
    "boost1 = XGBClassifier(**boost_hyper_params1).fit(features,target)  "
   ]
  },
  {
   "cell_type": "markdown",
   "metadata": {},
   "source": [
    "#### analysis"
   ]
  },
  {
   "cell_type": "code",
   "execution_count": 157,
   "metadata": {},
   "outputs": [],
   "source": [
    "# Boosted tree\n",
    "pdp = explainer(boost1,nsw,covariateSelection1,target_variable,[\"re75\",\"treat\"])\n",
    "pdp2 = explainer(boost1,nsw,covariateSelection1,target_variable,[\"education*\",\"treat\"])\n",
    "pdp3 = explainer(boost1,nsw,covariateSelection1,target_variable,[\"black\",\"treat\"])\n",
    "pdp4 = explainer(boost1,nsw,covariateSelection1,target_variable,[\"hispanic\",\"treat\"])\n",
    "pdp5 = explainer(boost1,nsw,covariateSelection1,target_variable,[\"age\",\"treat\"])\n",
    "pdp6 = explainer(boost1,nsw,covariateSelection1,target_variable,[\"married\",\"treat\"])"
   ]
  },
  {
   "cell_type": "code",
   "execution_count": null,
   "metadata": {},
   "outputs": [],
   "source": [
    "# Random Forest\n",
    "pdp = explainer(boost1,nsw,covariateSelection1,target_variable,[\"re75\",\"treat\"])\n",
    "pdp2 = explainer(boost1,nsw,covariateSelection1,target_variable,[\"education*\",\"treat\"])\n",
    "pdp3 = explainer(boost1,nsw,covariateSelection1,target_variable,[\"black\",\"treat\"])\n",
    "pdp4 = explainer(boost1,nsw,covariateSelection1,target_variable,[\"hispanic\",\"treat\"])\n",
    "pdp5 = explainer(boost1,nsw,covariateSelection1,target_variable,[\"age\",\"treat\"])\n",
    "pdp6 = explainer(boost1,nsw,covariateSelection1,target_variable,[\"married\",\"treat\"])"
   ]
  },
  {
   "cell_type": "code",
   "execution_count": 158,
   "metadata": {},
   "outputs": [
    {
     "data": {
      "image/png": "[encoded data removed]",
      "text/plain": [
       "<Figure size 1800x576 with 6 Axes>"
      ]
     },
     "metadata": {
      "needs_background": "light"
     },
     "output_type": "display_data"
    }
   ],
   "source": [
    "\n",
    "# NSW trial plots \n",
    "fig, ax = plt.subplots(nrows=2, ncols=3,figsize=(25,8))\n",
    "\n",
    "# Boosted Tree\n",
    "plot1 = pdp.partialDependPlot(ax[0,0])\n",
    "plot2 = pdp2.partialDependPlot(ax[0,1])\n",
    "plot3 = pdp3.partialDependPlot(ax[0,2])\n",
    "plot4 = pdp4.partialDependPlot(ax[1,0])\n",
    "plot5 = pdp5.partialDependPlot(ax[1,1])\n",
    "plot6 = pdp6.partialDependPlot(ax[1,2])\n",
    "\n",
    "plt.show()\n"
   ]
  },
  {
   "cell_type": "markdown",
   "metadata": {},
   "source": [
    "# Decision tree explainer"
   ]
  },
  {
   "cell_type": "code",
   "execution_count": null,
   "metadata": {},
   "outputs": [],
   "source": [
    "explainer.fitModel(tree.DecisionTreeClassifier(**boost_hyper_params))"
   ]
  },
  {
   "cell_type": "code",
   "execution_count": null,
   "metadata": {},
   "outputs": [],
   "source": [
    "#forest_explainer = explainer(forest,dataset,features,target)\n",
    "#tree_plot = forest_explainer.partialDependPlot(ax[0,0])"
   ]
  },
  {
   "cell_type": "code",
   "execution_count": null,
   "metadata": {},
   "outputs": [],
   "source": [
    "# Function called fit model \n",
    "# def fitandRunModelfunct():\n",
    "#  probabilities = model.predict_proba(dataset.drop('treat', axis=1))\n",
    "\n",
    "plotting function\n",
    "from sklearn import tree\n",
    "import graphviz\n",
    "tree_graph = tree.export_graphviz(tree_model, out_file=None, feature_names=feature_names)\n",
    "graphviz.Source(tree_graph)"
   ]
  },
  {
   "cell_type": "code",
   "execution_count": null,
   "metadata": {},
   "outputs": [],
   "source": []
  }
 ],
 "metadata": {
  "kernelspec": {
   "display_name": "Python 3.8.13 ('base')",
   "language": "python",
   "name": "python3"
  },
  "language_info": {
   "codemirror_mode": {
    "name": "ipython",
    "version": 3
   },
   "file_extension": ".py",
   "mimetype": "text/x-python",
   "name": "python",
   "nbconvert_exporter": "python",
   "pygments_lexer": "ipython3",
   "version": "3.8.13"
  },
  "orig_nbformat": 4,
  "vscode": {
   "interpreter": {
    "hash": "44a7c5cf9512a4ad670122a007d348488b56f79d3796a47615dc74da9f36a764"
   }
  }
 },
 "nbformat": 4,
 "nbformat_minor": 2
}
