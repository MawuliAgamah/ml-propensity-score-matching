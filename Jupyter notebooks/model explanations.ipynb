{
 "cells": [
  {
   "cell_type": "code",
   "execution_count": 60,
   "metadata": {},
   "outputs": [],
   "source": [
    "# Import standard libraries \n",
    "import warnings\n",
    "import numpy as np\n",
    "import matplotlib.pyplot as plt\n",
    "import pandas as pd\n",
    "\n",
    "from sklearn import datasets\n",
    "import random \n",
    "import numpy.random as rand\n",
    "from random import randrange\n",
    "from scipy.stats import bernoulli, binom\n",
    "import seaborn as sns\n",
    "from scipy import stats as stat\n",
    "import pylab \n",
    "from tueplots import axes, bundles , figsizes, fonts,fontsizes\n",
    "from matplotlib.lines import Line2D\n",
    "from xgboost import XGBClassifier\n",
    "from sklearn.utils import shuffle\n",
    "from imblearn.combine import SMOTEENN\n",
    "from sklearn.inspection import PartialDependenceDisplay\n",
    "#from pdpbox import pdp, get_dataset, info_plots\n",
    "\n"
   ]
  },
  {
   "cell_type": "code",
   "execution_count": 59,
   "metadata": {},
   "outputs": [],
   "source": [
    "\n",
    "import pandas as pd\n",
    "from matplotlib import pyplot as plt\n",
    "import seaborn as sns\n",
    "import statsmodels.api as sm\n",
    "from sklearn.inspection import partial_dependence\n",
    "from sklearn.utils import resample\n",
    "from scipy.stats import sem\n",
    "import numpy as np\n",
    "from statsmodels.graphics.regressionplots import plot_partregress"
   ]
  },
  {
   "cell_type": "code",
   "execution_count": 9,
   "metadata": {},
   "outputs": [],
   "source": [
    "nsw = pd.read_csv('/Users/mawuliagamah/gitprojects/causal_inference/causal_inference/datasets/quasi data/unmatched data/NswLalonde_transformed.csv')\n",
    "nswre74 = pd.read_csv('/Users/mawuliagamah/gitprojects/causal_inference/causal_inference/datasets/quasi data/unmatched data/NswDeWab_transformed.csv')\n",
    "# Quasi data \n",
    "nswCps_lalonde =  pd.read_csv('/Users/mawuliagamah/gitprojects/causal_inference/causal_inference/datasets/quasi data/unmatched data/Quasi_NswCps_lalonde.csv')\n",
    "nswPsid_lalonde = pd.read_csv('/Users/mawuliagamah/gitprojects/causal_inference/causal_inference/datasets/quasi data/unmatched data/Quasi_NswPsid_lalonde.csv')\n",
    "nswCps_dehWab =   pd.read_csv('/Users/mawuliagamah/gitprojects/causal_inference/causal_inference/datasets/quasi data/unmatched data/Quasi_NswCps_dehWab.csv')\n",
    "nswPsid_dehWab =  pd.read_csv('/Users/mawuliagamah/gitprojects/causal_inference/causal_inference/datasets/quasi data/unmatched data/Quasi_NswPsid_dehWab.csv')\n"
   ]
  },
  {
   "cell_type": "code",
   "execution_count": 61,
   "metadata": {},
   "outputs": [],
   "source": [
    "def dataset(target,features,dataset):\n",
    "\n",
    "    dataset = shuffle(dataset).reset_index(drop=True) # shuffle data \n",
    "\n",
    "    def features_and_targets_function(target,features,dataset):\n",
    "        \"\"\"\n",
    "        Split dataset into features and targets \n",
    "        \"\"\"\n",
    "        target = dataset[target]\n",
    "        features = dataset[features]\n",
    "        return features,target;\n",
    "\n",
    "    features,target = features_and_targets_function(target,features,dataset)\n",
    "\n",
    "\n",
    "    return features,target; "
   ]
  },
  {
   "cell_type": "code",
   "execution_count": 62,
   "metadata": {},
   "outputs": [],
   "source": [
    "\n",
    "def features_and_targets_function(target,features,dataset):\n",
    "        \"\"\"\n",
    "        Split dataset into features and targets \n",
    "        \"\"\"\n",
    "        dataset = shuffle(dataset).reset_index(drop=True) # shuffle data \n",
    "        target = dataset[target]\n",
    "        features = dataset[features]\n",
    "        return features,target;"
   ]
  },
  {
   "cell_type": "code",
   "execution_count": 63,
   "metadata": {},
   "outputs": [],
   "source": [
    "target_variable = \"treat\"\n",
    "covariateSelection1 = ['treat','age','education*','black','hispanic','married','nodegree','re75']\n",
    "features,target = dataset(target_variable,covariateSelection1,nswCps_lalonde)\n",
    "\n"
   ]
  },
  {
   "cell_type": "code",
   "execution_count": null,
   "metadata": {},
   "outputs": [],
   "source": []
  },
  {
   "cell_type": "code",
   "execution_count": 67,
   "metadata": {},
   "outputs": [
    {
     "name": "stderr",
     "output_type": "stream",
     "text": [
      "/Users/mawuliagamah/opt/anaconda3/lib/python3.8/site-packages/seaborn/_decorators.py:36: FutureWarning: Pass the following variables as keyword args: x, y. From version 0.12, the only valid positional argument will be `data`, and passing other arguments without an explicit keyword will result in an error or misinterpretation.\n",
      "  warnings.warn(\n",
      "/Users/mawuliagamah/opt/anaconda3/lib/python3.8/site-packages/statsmodels/nonparametric/smoothers_lowess.py:227: RuntimeWarning: invalid value encountered in divide\n",
      "  res, _ = _lowess(y, x, x, np.ones_like(x),\n"
     ]
    },
    {
     "data": {
      "image/png": "[encoded data removed]",
      "text/plain": [
       "<Figure size 432x288 with 1 Axes>"
      ]
     },
     "metadata": {
      "needs_background": "light"
     },
     "output_type": "display_data"
    }
   ],
   "source": [
    "sns.regplot(nswCps_lalonde['black'], nswCps_lalonde['re78'], lowess=True)\n",
    "plt.ylabel(' ')\n",
    "plt.xlabel(' ')\n",
    "plt.title(' ')\n",
    "plt.show()"
   ]
  },
  {
   "cell_type": "code",
   "execution_count": 68,
   "metadata": {},
   "outputs": [
    {
     "name": "stderr",
     "output_type": "stream",
     "text": [
      "/Users/mawuliagamah/opt/anaconda3/lib/python3.8/site-packages/seaborn/_decorators.py:36: FutureWarning: Pass the following variables as keyword args: x, y. From version 0.12, the only valid positional argument will be `data`, and passing other arguments without an explicit keyword will result in an error or misinterpretation.\n",
      "  warnings.warn(\n",
      "/Users/mawuliagamah/opt/anaconda3/lib/python3.8/site-packages/statsmodels/nonparametric/smoothers_lowess.py:227: RuntimeWarning: invalid value encountered in divide\n",
      "  res, _ = _lowess(y, x, x, np.ones_like(x),\n"
     ]
    },
    {
     "data": {
      "image/png": "[encoded data removed]",
      "text/plain": [
       "<Figure size 432x288 with 1 Axes>"
      ]
     },
     "metadata": {
      "needs_background": "light"
     },
     "output_type": "display_data"
    }
   ],
   "source": [
    "sns.regplot(nswCps_lalonde['hispanic'], nswCps_lalonde['re78'], lowess=True)\n",
    "plt.ylabel(' ')\n",
    "plt.xlabel(' ')\n",
    "plt.title(' ')\n",
    "plt.show()"
   ]
  },
  {
   "cell_type": "code",
   "execution_count": null,
   "metadata": {},
   "outputs": [],
   "source": [
    "# Function called fit model \n",
    "plot = PartialDependenceDisplay.from_estimator(**pdp_params,response_method = \"predict_proba\")\n",
    "\n",
    "pdp_params = {\"estimator\":boostestedTree,\n",
    "               \"features\":plot_features,\n",
    "                \"X\":features,\n",
    "                \"feature_names\":plot_features }"
   ]
  },
  {
   "cell_type": "code",
   "execution_count": 35,
   "metadata": {},
   "outputs": [],
   "source": [
    "\n"
   ]
  },
  {
   "cell_type": "code",
   "execution_count": 70,
   "metadata": {},
   "outputs": [],
   "source": [
    "target_variable = \"treat\"\n",
    "covariateSelection1 = ['treat','age','education*','black','hispanic','married','nodegree','re75']\n",
    "features,target = dataset(target_variable,covariateSelection1,nswCps_lalonde)"
   ]
  },
  {
   "cell_type": "code",
   "execution_count": null,
   "metadata": {},
   "outputs": [],
   "source": [
    "\n"
   ]
  },
  {
   "cell_type": "code",
   "execution_count": 55,
   "metadata": {},
   "outputs": [],
   "source": [
    "features,target = dataset(target_variable,covariateSelection1,nswCps_lalonde)\n"
   ]
  },
  {
   "cell_type": "code",
   "execution_count": 56,
   "metadata": {},
   "outputs": [],
   "source": [
    "hyper_parameter_ict = {\"objective\":\"binary:logistic\",\"seed\":0,\n",
    "                       \"booster\":\"dart\", \"colsample_bytree\":0.3,\n",
    "                         \"gamma\":0.5, \"learning_rate\" : 0.05,\n",
    "                           \"max_depth\":None, \"min_child_weight\":2,\n",
    "                      \"subsample\":0.5, \"nthread\":4 }\n",
    "plot_features = ['treat','age','education*','black','hispanic','married','nodegree','re75']\n",
    "\n"
   ]
  },
  {
   "cell_type": "code",
   "execution_count": null,
   "metadata": {},
   "outputs": [],
   "source": []
  },
  {
   "cell_type": "markdown",
   "metadata": {},
   "source": [
    "boostestedTree = XGBClassifier(hyper_parameter_ict).fit(features,target)  # unpack dictionary "
   ]
  },
  {
   "cell_type": "code",
   "execution_count": 107,
   "metadata": {},
   "outputs": [],
   "source": [
    "def features_and_targets_function(target,features,dataset):\n",
    "        \"\"\"\n",
    "        Split dataset into features and targets \n",
    "        \"\"\"\n",
    "        dataset = shuffle(dataset).reset_index(drop=True) # shuffle data \n",
    "        target = dataset[target]\n",
    "        features = dataset[features]\n",
    "        return features,target;\n",
    "\n",
    "\n",
    "target_variable = \"treat\"\n",
    "covariateSelection1 = ['treat','age','education*','black','hispanic','married','nodegree','re75']\n",
    "features,target = dataset(target_variable,covariateSelection1,nswCps_lalonde)\n",
    "\n",
    "\n",
    "def fitandRunModelfunct(hyper_parameter_ict,features,target):\n",
    "\n",
    "        model = XGBClassifier(**hyper_parameter_ict).fit(features,target)  # unpack dictionary \n",
    "\n",
    "        return model\n",
    "\n",
    "\n",
    "model = fitandRunModelfunct(hyper_parameter_ict,features,target)\n",
    "\n",
    "def partialdependenceplotfunct(model,features,feature_string, target_string):\n",
    "\n",
    "        \n",
    "\n",
    "        x_values = np.linspace(np.min(features[feature_string]), np.max(features[feature_string]))\n",
    "\n",
    "        pdp_values = []\n",
    "        for n in x_values:\n",
    "            X_pdp = features.copy()\n",
    "            X_pdp[feature_string] = n\n",
    "            pdp_values.append(np.mean(model.predict(X_pdp)))\n",
    "\n",
    "        plt.plot(x_values, pdp_values)\n",
    "        plt.ylabel(target_string)\n",
    "        plt.xlabel(feature_string)\n",
    "        plt.title('Partial dependence plot for treated vs boosted tree')\n",
    "        plt.show()\n",
    "\n",
    "        return plot"
   ]
  },
  {
   "cell_type": "code",
   "execution_count": 109,
   "metadata": {},
   "outputs": [
    {
     "data": {
      "image/png": "[encoded data removed]",
      "text/plain": [
       "<Figure size 432x288 with 1 Axes>"
      ]
     },
     "metadata": {
      "needs_background": "light"
     },
     "output_type": "display_data"
    },
    {
     "data": {
      "text/plain": [
       "<sklearn.inspection._plot.partial_dependence.PartialDependenceDisplay at 0x7fa085131a90>"
      ]
     },
     "execution_count": 109,
     "metadata": {},
     "output_type": "execute_result"
    }
   ],
   "source": [
    "feature_string = \"education*\"\n",
    "target_string = \"treat\"\n",
    "partialdependenceplotfunct(model,features,feature_string,target_string)"
   ]
  },
  {
   "cell_type": "markdown",
   "metadata": {},
   "source": [
    "def features_and_targets_function(target,features,dataset):\n",
    "        \"\"\"\n",
    "        Split dataset into features and targets \n",
    "        \"\"\"\n",
    "        dataset = shuffle(dataset).reset_index(drop=True) # shuffle data \n",
    "        target = dataset[target]\n",
    "        features = dataset[features]\n",
    "        return features,target;\n",
    "\n",
    "\n",
    "target_variable = \"treat\"\n",
    "covariateSelection1 = ['treat','age','education*','black','hispanic','married','nodegree','re75']\n",
    "features,target = dataset(target_variable,covariateSelection1,nswCps_lalonde)\n"
   ]
  },
  {
   "cell_type": "markdown",
   "metadata": {},
   "source": [
    "boostestedTree = XGBClassifier(**hyper_parameter_ict).fit(features,target)  # unpack dictionary \n",
    "\n",
    "x_values = np.linspace(np.min(features['age']), np.max(features['age']))\n",
    "\n",
    "pdp_values = []\n",
    "for n in x_values:\n",
    "  X_pdp = features.copy()\n",
    "  X_pdp['age'] = n\n",
    "  pdp_values.append(np.mean(boostestedTree.predict(X_pdp)))\n",
    "\n",
    "plt.plot(x_values, pdp_values)\n",
    "plt.ylabel('treated')\n",
    "plt.xlabel('age')\n",
    "plt.title('Partial dependence plot for treated vs boosted tree')\n",
    "plt.show()"
   ]
  },
  {
   "cell_type": "markdown",
   "metadata": {},
   "source": [
    "pdp_values"
   ]
  },
  {
   "cell_type": "markdown",
   "metadata": {},
   "source": [
    "# BOOTSTRAP PDP\n",
    "\n",
    "n_bootstrap = 100\n",
    "\n",
    "nox_values = np.linspace(np.min(X['NOX']), np.max(X['NOX']))\n",
    "\n",
    "expected_value_bootstrap_replications = []\n",
    "\n",
    "for _ in range(n_bootstrap):\n",
    "    X_boot, y_boot = resample(X, y)\n",
    "    rf_model_boot = RandomForestRegressor(n_estimators=100).fit(X_boot, y_boot)\n",
    "    \n",
    "    bootstrap_model_predictions = []\n",
    "    for n in nox_values:\n",
    "        X_pdp = X_boot.copy()\n",
    "        X_pdp['NOX'] = n\n",
    "        bootstrap_model_predictions.append(np.mean(rf_model.predict(X_pdp)))\n",
    "    expected_value_bootstrap_replications.append(bootstrap_model_predictions)\n",
    "    \n",
    "expected_value_bootstrap_replications = np.array(expected_value_bootstrap_replications)\n",
    "for ev in expected_value_bootstrap_replications:\n",
    "    plt.plot(nox_values, ev, color='blue', alpha=.1)\n",
    "\n",
    "prediction_se = np.std(expected_value_bootstrap_replications, axis=0)\n",
    "\n",
    "plt.plot(nox_values, pdp_values, label='Model predictions')\n",
    "plt.fill_between(nox_values, pdp_values - 3*prediction_se, pdp_values + 3*prediction_se, alpha=.5, label='Bootstrap CI')\n",
    "plt.legend()\n",
    "plt.ylabel('Median house price')\n",
    "plt.xlabel('NOX')\n",
    "plt.title('Partial dependence plot for NOX vs Price for Random Forest')\n",
    "plt.show()"
   ]
  },
  {
   "cell_type": "markdown",
   "metadata": {},
   "source": [
    "plot.figure_.suptitle(\n",
    "    \"Partial dependence plt\"\n",
    ")\n",
    "plot.figure_.subplots_adjust(hspace=0.3)\n",
    "\n",
    "\n",
    "plt.rcParams.update({\"figure.dpi\": 300}) \n",
    "plt.rcParams.update(bundles.neurips2022())\n",
    "plt.rcParams.update(fonts.neurips2022())\n",
    "plt.rcParams.update(axes.tick_direction( y=\"in\"))\n",
    "plt.rcParams.update(axes.color(base=\"black\"))\n",
    "plt.rcParams.update(figsizes.neurips2022(nrows=1, ncols=1))\n",
    "plt.rcParams.update({'font.size': 18})"
   ]
  },
  {
   "cell_type": "code",
   "execution_count": null,
   "metadata": {},
   "outputs": [],
   "source": []
  },
  {
   "cell_type": "code",
   "execution_count": 118,
   "metadata": {},
   "outputs": [],
   "source": [
    "# Import tree based model's \n",
    "from re import S\n",
    "from sklearn import tree # classification tree       \n",
    "\n",
    "boost1_metrics = pd.DataFrame()\n",
    "\n",
    "\n",
    "xgboost = XGBClassifier(objective= 'binary:logistic',seed=0,nthread=4)\n",
    "\n",
    "\n",
    "hyper_parameter_ict = {\"objective\":\"binary:logistic\",\"seed\":0,\n",
    "                       \"booster\":\"dart\", \"colsample_bytree\":0.3,\n",
    "                         \"gamma\":0.5, \"learning_rate\" : 0.05,\n",
    "                           \"max_depth\":None, \"min_child_weight\":2,\n",
    "                      \"subsample\":0.5, \"nthread\":4 }\n",
    "\n",
    "\n",
    "# models \n",
    "\n",
    "grid_search_boost1 = XGBClassifier(objective= 'binary:logistic',\n",
    "                                    seed=0,\n",
    "                                    booster = 'dart',\n",
    "                                    colsample_bytree = 0.3,\n",
    "                                    gamma = 0.5,\n",
    "                                    learning_rate = 0.05,\n",
    "                                    max_depth = None,\n",
    "                                    min_child_weight = 2,\n",
    "                                    subsample = 0.5,\n",
    "                                    nthread=4) \n",
    "# Function called fit model \n",
    "# def fitandRunModelfunct():\n",
    "#  probabilities = model.predict_proba(dataset.drop('treat', axis=1))\n",
    "\n",
    "# plotting function\n",
    "#from sklearn import tree\n",
    "#import graphviz\n",
    "#tree_graph = tree.export_graphviz(tree_model, out_file=None, feature_names=feature_names)\n",
    "#graphviz.Source(tree_graph)\n",
    "\n",
    "\n",
    "class explainer:\n",
    "    # Class attribute\n",
    "    def __init__(self,model,dataset): # initialise class \n",
    "                  #bootstrap true false           \n",
    "        super(explainer, self).__init__() \n",
    "        self.model = model\n",
    "        self.dataset = dataset\n",
    "\n",
    " \n",
    "    @classmethod\n",
    "    def partialdependenceplotfunct(pdp,feature_string, target_string):\n",
    "        x_values = np.linspace(np.min(features[feature_string]), np.max(features[feature_string]))\n",
    "        pdp_values = []\n",
    "        for n in x_values:\n",
    "            X_pdp = features.copy()\n",
    "            X_pdp[feature_string] = n\n",
    "            pdp_values.append(np.mean(model.predict(X_pdp)))\n",
    "        plt.plot(x_values, pdp_values)\n",
    "        plt.ylabel(target_string)\n",
    "        plt.xlabel(feature_string)\n",
    "        plt.title('Partial dependence plot for treated vs boosted tree')\n",
    "        plt.show()\n",
    "        plot = pdp(feature_string,target_string)\n",
    "        return plot\n",
    "        \n",
    "        #def organiseDatafunct():  \n",
    "\n",
    "        #return # dataframe of organised data\n",
    "\n",
    "        # show tree's \n",
    "        #def treeGraph():\n",
    "\n",
    "        #return plot\n",
    "    \n",
    "        #def partialdependenceplotfunct():\n",
    "\n",
    "\n",
    "          #  return plot \n",
    "\n",
    "\n",
    "\n",
    "\n"
   ]
  },
  {
   "cell_type": "code",
   "execution_count": 119,
   "metadata": {},
   "outputs": [],
   "source": [
    "features,target = dataset(target_variable,covariateSelection1,nswCps_lalonde)\n",
    "boost = XGBClassifier(**hyper_parameter_ict).fit(features,target)  # unpack dictionary \n",
    "\n",
    "target_variable = \"treat\"\n",
    "covariateSelection1 = ['treat','age','education*','black','hispanic','married','nodegree','re75']\n",
    "features,target = dataset(target_variable,covariateSelection1,nswCps_lalonde)\n",
    "\n"
   ]
  },
  {
   "cell_type": "code",
   "execution_count": 120,
   "metadata": {},
   "outputs": [
    {
     "data": {
      "image/png": "[encoded data removed]",
      "text/plain": [
       "<Figure size 432x288 with 1 Axes>"
      ]
     },
     "metadata": {
      "needs_background": "light"
     },
     "output_type": "display_data"
    },
    {
     "data": {
      "text/plain": [
       "<__main__.explainer at 0x7fa09c5ec8e0>"
      ]
     },
     "execution_count": 120,
     "metadata": {},
     "output_type": "execute_result"
    }
   ],
   "source": [
    "#pdp = explainer(dataset,model,bootstrap,)\n",
    "pdp = explainer(model,nswCps_lalonde)\n",
    "pdp.partialdependenceplotfunct(\"age\",\"treat\")"
   ]
  },
  {
   "cell_type": "code",
   "execution_count": null,
   "metadata": {},
   "outputs": [],
   "source": [
    "tree_explainer.explain(\"data goes here\",\"method\")\n",
    "\n",
    "\n",
    "# this thing is the plot \n",
    "plot = tree_explainer.explain(boost,dataset)\n",
    "# what should it return \n",
    "\n"
   ]
  },
  {
   "cell_type": "code",
   "execution_count": null,
   "metadata": {},
   "outputs": [],
   "source": [
    "from sklearn.ensemble import GradientBoostingClassifier\n",
    "from sklearn.inspection import PartialDependenceDisplay"
   ]
  },
  {
   "cell_type": "code",
   "execution_count": null,
   "metadata": {},
   "outputs": [],
   "source": [
    "tree.DecisionTreeClassifier(random_state=0) # decision tree"
   ]
  },
  {
   "cell_type": "code",
   "execution_count": null,
   "metadata": {},
   "outputs": [],
   "source": []
  }
 ],
 "metadata": {
  "kernelspec": {
   "display_name": "Python 3.8.13 ('base')",
   "language": "python",
   "name": "python3"
  },
  "language_info": {
   "codemirror_mode": {
    "name": "ipython",
    "version": 3
   },
   "file_extension": ".py",
   "mimetype": "text/x-python",
   "name": "python",
   "nbconvert_exporter": "python",
   "pygments_lexer": "ipython3",
   "version": "3.8.13"
  },
  "orig_nbformat": 4,
  "vscode": {
   "interpreter": {
    "hash": "44a7c5cf9512a4ad670122a007d348488b56f79d3796a47615dc74da9f36a764"
   }
  }
 },
 "nbformat": 4,
 "nbformat_minor": 2
}
