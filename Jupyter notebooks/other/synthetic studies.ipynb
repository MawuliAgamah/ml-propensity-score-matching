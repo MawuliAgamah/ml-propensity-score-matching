{
 "cells": [
  {
   "cell_type": "code",
   "execution_count": 6,
   "metadata": {},
   "outputs": [],
   "source": [
    "import numpy as np\n",
    "import pandas as pd\n",
    "import matplotlib.pyplot as plt\n",
    "import random \n",
    "import numpy.random as rand\n",
    "from random import randrange\n",
    "from scipy.stats import bernoulli, binom\n",
    "import seaborn as sns\n",
    "from scipy import stats "
   ]
  },
  {
   "cell_type": "markdown",
   "metadata": {},
   "source": [
    "# 3. Generate simulation study "
   ]
  },
  {
   "cell_type": "code",
   "execution_count": 7,
   "metadata": {},
   "outputs": [],
   "source": [
    "from opossum import UserInterface\n",
    "random.seed(10)\n",
    "#number of observations\n",
    "n = 1000\n",
    "#number of covariates\n",
    "k = 10"
   ]
  },
  {
   "cell_type": "markdown",
   "metadata": {},
   "source": [
    "## Experimental data simulation"
   ]
  },
  {
   "cell_type": "markdown",
   "metadata": {},
   "source": [
    "<p> Simulation 1  </p>\n"
   ]
  },
  {
   "cell_type": "code",
   "execution_count": 8,
   "metadata": {},
   "outputs": [],
   "source": [
    "\"\"\"\n",
    "RCT Simulation 1 :\n",
    "\n",
    "Positive and constant treatment effect\n",
    "Linear relationship between treatment and outcome\n",
    "Linear relationship between covariates\n",
    "\n",
    "10 covariates \n",
    "4 categorical covariates \n",
    "    (1) Binary\n",
    "    (2) Binaey\n",
    "    (3) 8 categories \n",
    "    (4) 2 categories\n",
    "\"\"\"\n",
    "categorical_covs_1 = [4,[8,3]] # 4 categorical covariates , 2 binary , one with 8 categories and one with 3. \n",
    "\n",
    "# initilizing class\n",
    "u = UserInterface(n, k, seed=1, categorical_covariates = categorical_covs_1)\n",
    "# assign treatment and generate treatment effect inside of class object\n",
    "u.generate_treatment(random_assignment = True, \n",
    "                     assignment_prob = 0.48, \n",
    "                     constant_pos = True, \n",
    "                     constant_neg = False,\n",
    "                     heterogeneous_pos = False, \n",
    "                     heterogeneous_neg = False, \n",
    "                     no_treatment = False, \n",
    "                     discrete_heterogeneous = False,\n",
    "                     treatment_option_weights = None, \n",
    "                     intensity = 5)\n",
    "# generate output variable y and return all 4 variables\n",
    "y, X, assignment, treatment = u.output_data(binary=False, x_y_relation = 'linear_simple')\n",
    "\n",
    "y = pd.DataFrame(y)\n",
    "X = pd.DataFrame(X)\n",
    "\n",
    "X.columns=['X'+str(i) for i in range(0,k)]\n",
    "\n",
    "assignment = pd.DataFrame(assignment)\n",
    "treatment = pd.DataFrame(treatment)\n",
    "covars = pd.DataFrame(X)\n",
    "\n",
    "assignment.columns = ['assignment']\n",
    "treatment.columns = ['treatment']\n",
    "y.columns = ['outcome']\n",
    "\n",
    "frames = [y,assignment,covars]\n",
    "df_e = pd.concat(frames,axis=1)\n",
    "# Save experiemntal dataset to csv file \n",
    "df_e.to_csv (r'/Users/mawuliagamah/gitprojects/causal_inference/causal_inference/datasets/simulation_1_RCT.csv', index = True, header=True) \n",
    "\n",
    "\n",
    "\"\"\"\n",
    "RCT Simulation 2 :\n",
    "Positive and constant treatment effect\n",
    "Linear relationship between treatment and outcome\n",
    "Linear relationship between covariates\n",
    "\n",
    "\"\"\"\n",
    "\n",
    "# initilizing class\n",
    "u = UserInterface(n, k, seed=1, categorical_covariates = categorical_covs_1)\n",
    "# assign treatment and generate treatment effect inside of class object\n",
    "u.generate_treatment(random_assignment = True, \n",
    "                     assignment_prob = 0.48, \n",
    "                     constant_pos = True, \n",
    "                     constant_neg = False,\n",
    "                     heterogeneous_pos = False, \n",
    "                     heterogeneous_neg = False, \n",
    "                     no_treatment = False, \n",
    "                     discrete_heterogeneous = False,\n",
    "                     treatment_option_weights = None, \n",
    "                     intensity = 5)\n",
    "\n",
    "# generate output variable y and return all 4 variables\n",
    "y, X, assignment, treatment = u.output_data(binary=False, x_y_relation = 'nonlinear_interaction')\n",
    "\n",
    "y = pd.DataFrame(y)\n",
    "X = pd.DataFrame(X)\n",
    "\n",
    "X.columns=['X'+str(i) for i in range(0,k)]\n",
    "\n",
    "assignment = pd.DataFrame(assignment)\n",
    "treatment = pd.DataFrame(treatment)\n",
    "covars = pd.DataFrame(X)\n",
    "\n",
    "assignment.columns = ['assignment']\n",
    "treatment.columns = ['treatment']\n",
    "y.columns = ['outcome']\n",
    "\n",
    "frames = [y,assignment,covars]\n",
    "df_e = pd.concat(frames,axis=1)\n",
    "# Save experiemntal dataset to csv file \n",
    "df_e.to_csv (r'/Users/mawuliagamah/gitprojects/causal_inference/causal_inference/datasets/simulation_2_RCT.csv', index = True, header=True) "
   ]
  },
  {
   "cell_type": "markdown",
   "metadata": {
    "tags": []
   },
   "source": [
    "## ODB simulation"
   ]
  },
  {
   "cell_type": "code",
   "execution_count": 9,
   "metadata": {
    "tags": []
   },
   "outputs": [],
   "source": [
    "\"\"\"\n",
    "ODB Simulation 1 :\n",
    "\n",
    "Positive and constant treatment effect\n",
    "Linear relationship between treatment and outcome\n",
    "\n",
    "\n",
    "10 covariates \n",
    "4 categorical covariates \n",
    "    (1) Binary\n",
    "    (2) Binary\n",
    "    (3) 8 categories \n",
    "    (4) 2 categories\n",
    "\n",
    "\"\"\"\n",
    "\n",
    "u = UserInterface(n, k, seed=1, categorical_covariates = categorical_covs_1)\n",
    "# assign treatment and generate treatment effect inside of class object\n",
    "u.generate_treatment(random_assignment = False, \n",
    "                     assignment_prob = 'medium', \n",
    "                     constant_pos = True, \n",
    "                     constant_neg = False,\n",
    "                     heterogeneous_pos = False, \n",
    "                     heterogeneous_neg = False, \n",
    "                     no_treatment = False, \n",
    "                     discrete_heterogeneous = False,\n",
    "                     treatment_option_weights = None, \n",
    "                     intensity = 5)\n",
    "# generate output variable y and return all 4 variables\n",
    "y, X, assignment, treatment = u.output_data(binary=False, x_y_relation = 'linear_simple')\n",
    "\n",
    "y = pd.DataFrame(y)\n",
    "X = pd.DataFrame(X)\n",
    "\n",
    "X.columns=['X'+str(i) for i in range(0,k)]\n",
    "\n",
    "assignment = pd.DataFrame(assignment)\n",
    "treatment = pd.DataFrame(treatment)\n",
    "covars = pd.DataFrame(X)\n",
    "\n",
    "assignment.columns = ['assignment']\n",
    "treatment.columns = ['treatment']\n",
    "y.columns = ['outcome']\n",
    "frames = [y,assignment,covars]\n",
    "\n",
    "# Save experiemntal dataset to csv file \n",
    "df_o = pd.concat(frames,axis=1)\n",
    "df_o.to_csv (r'/Users/mawuliagamah/gitprojects/causal_inference/causal_inference/datasets/simulation_1_ODB.csv', index = True, header=True) \n",
    "\n",
    "\"\"\"\n",
    "ODB Simulation 2 :\n",
    "\n",
    "Positive and constant treatment effect\n",
    "non-linear relationship between treatment and outcome\n",
    "\n",
    "10 covariates \n",
    "4 categorical covariates \n",
    "\n",
    "    (1) Binary\n",
    "    (2) Binary\n",
    "    (3) 8 categories \n",
    "    (4) 2 categories\n",
    "\n",
    "\"\"\"\n",
    "\n",
    "u = UserInterface(n, k, seed=1, categorical_covariates = categorical_covs_1)\n",
    "# assign treatment and generate treatment effect inside of class object\n",
    "u.generate_treatment(random_assignment = False, \n",
    "                     assignment_prob = 'medium', \n",
    "                     constant_pos = True, \n",
    "                     constant_neg = False,\n",
    "                     heterogeneous_pos = False, \n",
    "                     heterogeneous_neg = False, \n",
    "                     no_treatment = False, \n",
    "                     discrete_heterogeneous = False,\n",
    "                     treatment_option_weights = None, \n",
    "                     intensity = 2)\n",
    "# generate output variable y and return all 4 variables\n",
    "y, X, assignment, treatment = u.output_data(binary=False, x_y_relation = 'nonlinear_interaction')\n",
    "\n",
    "y = pd.DataFrame(y)\n",
    "X = pd.DataFrame(X)\n",
    "\n",
    "X.columns=['X'+str(i) for i in range(0,k)]\n",
    "\n",
    "assignment = pd.DataFrame(assignment)\n",
    "treatment = pd.DataFrame(treatment)\n",
    "covars = pd.DataFrame(X)\n",
    "\n",
    "assignment.columns = ['assignment']\n",
    "treatment.columns = ['treatment']\n",
    "y.columns = ['outcome']\n",
    "frames = [y,assignment,covars]\n",
    "\n",
    "# Save experiemntal dataset to csv file \n",
    "df_o = pd.concat(frames,axis=1)\n",
    "df_o.to_csv (r'/Users/mawuliagamah/gitprojects/causal_inference/causal_inference/datasets/simulation_2_ODB.csv', index = True, header=True) \n"
   ]
  },
  {
   "cell_type": "markdown",
   "metadata": {
    "tags": []
   },
   "source": [
    "# 4 Data analysis"
   ]
  },
  {
   "cell_type": "code",
   "execution_count": 13,
   "metadata": {},
   "outputs": [
    {
     "data": {
      "text/plain": [
       "<matplotlib.legend.Legend at 0x7f968942df10>"
      ]
     },
     "execution_count": 13,
     "metadata": {},
     "output_type": "execute_result"
    },
    {
     "data": {
      "image/png": "[encoded data removed]",
      "text/plain": [
       "<Figure size 1080x576 with 1 Axes>"
      ]
     },
     "metadata": {
      "needs_background": "light"
     },
     "output_type": "display_data"
    }
   ],
   "source": [
    "plt.figure(figsize=(15,8))\n",
    "# Density plots for treatment and control\n",
    "sns.kdeplot(data=df_e['outcome'][df_e['assignment']==0])\n",
    "sns.kdeplot(data=df_e['outcome'][df_e['assignment']==1])\n",
    "plt.legend(labels=[\"treat 0\",\"treat 1\"])"
   ]
  },
  {
   "cell_type": "code",
   "execution_count": 14,
   "metadata": {},
   "outputs": [],
   "source": [
    "import scipy.stats as stat\n",
    "import pylab \n",
    "from tueplots import axes, bundles , figsizes, fonts,fontsizes\n",
    "\n",
    "#### Q-Q plot\n",
    "def plot_data(df,feature,title):\n",
    "    # neat plot \n",
    "    plt.rcParams.update({\"figure.dpi\": 150}) \n",
    "    plt.rcParams.update(bundles.neurips2022())\n",
    "    plt.rcParams.update(fonts.neurips2022())\n",
    "    plt.rcParams.update(axes.tick_direction( y=\"in\"))\n",
    "    plt.rcParams.update(axes.color(base=\"black\"))\n",
    "    plt.rcParams.update(figsizes.neurips2022(nrows=1, ncols=2))\n",
    "    #historigram\n",
    "    plt.figure(figsize=(4,3))\n",
    "    plt.subplot(1,2,1)\n",
    "    plt.grid(color='white', axis='y')\n",
    "    plt.grid(color='white', axis='x')\n",
    "    plt.tick_params(right='on')\n",
    "    plt.tick_params(left='on')\n",
    "    plt.tick_params(top='on')\n",
    "    plt.title(\"Histogram\")\n",
    "    df[feature].hist(bins=20)\n",
    "    #qq plot \n",
    "    plt.subplot(1,2,2)\n",
    "    plt.grid(color='white', axis='y')\n",
    "    plt.grid(color='white', axis='x')\n",
    "    stat.probplot(df[feature],dist='norm',plot=pylab)\n",
    "    plt.suptitle(title)\n",
    "    plt.show()"
   ]
  },
  {
   "cell_type": "markdown",
   "metadata": {},
   "source": [
    "# PS estimation and matching\n"
   ]
  },
  {
   "cell_type": "markdown",
   "metadata": {},
   "source": [
    "# Logistic regression"
   ]
  },
  {
   "cell_type": "code",
   "execution_count": 11,
   "metadata": {},
   "outputs": [],
   "source": [
    "# Import libraries for LR\n",
    "from sklearn.linear_model import LogisticRegression\n",
    "from sklearn import metrics\n",
    "from sklearn.metrics import confusion_matrix, accuracy_score\n",
    "import statsmodels.api as sm"
   ]
  },
  {
   "cell_type": "code",
   "execution_count": 17,
   "metadata": {},
   "outputs": [
    {
     "data": {
      "image/png": "[encoded data removed]",
      "text/plain": [
       "<Figure size 600x450 with 2 Axes>"
      ]
     },
     "metadata": {
      "needs_background": "light"
     },
     "output_type": "display_data"
    }
   ],
   "source": [
    "from sklearn.model_selection import train_test_split\n",
    "from sklearn.utils import shuffle \n",
    "\n",
    "\n",
    "plot_data(df_e,'X7',\"X6\")"
   ]
  },
  {
   "cell_type": "markdown",
   "metadata": {},
   "source": [
    "#### Observational study DAG"
   ]
  },
  {
   "cell_type": "code",
   "execution_count": 12,
   "metadata": {
    "tags": []
   },
   "outputs": [
    {
     "name": "stderr",
     "output_type": "stream",
     "text": [
      "No GPU automatically detected. Setting SETTINGS.GPU to 0, and SETTINGS.NJOBS to cpu_count.\n"
     ]
    }
   ],
   "source": [
    "import cdt\n",
    "import networkx as nx\n",
    "cdt.SETTINGS.rpath = '/Library/Frameworks/R.framework/Versions/4.0/Resources/Rscript'"
   ]
  },
  {
   "cell_type": "code",
   "execution_count": 13,
   "metadata": {
    "jupyter": {
     "source_hidden": true
    },
    "tags": []
   },
   "outputs": [],
   "source": [
    "# Skeleton graph\n",
    "# Skeleton for full dataset\n",
    "glasso = cdt.independence.graph.Glasso()\n",
    "skeleton0 = glasso.predict(df_o)\n",
    "\n",
    "# Skeleton for non-treated\n",
    "treat0 = df_o[df_o['assignment']==0]\n",
    "del treat0['assignment']\n",
    "skeleton1 = glasso.predict(treat0)\n",
    "\n",
    "# Skeleton for treated\n",
    "treat1 = df_o[df_o['assignment']==1]\n",
    "del treat1['assignment']\n",
    "skeleton2 = glasso.predict(treat1)"
   ]
  },
  {
   "cell_type": "code",
   "execution_count": 14,
   "metadata": {
    "collapsed": true,
    "jupyter": {
     "outputs_hidden": true
    },
    "tags": []
   },
   "outputs": [
    {
     "name": "stdout",
     "output_type": "stream",
     "text": [
      "R Call errored, is R available ?\n"
     ]
    },
    {
     "ename": "FileNotFoundError",
     "evalue": "[Errno 2] No such file or directory: '/Library/Frameworks/R.framework/Versions/4.0/Resources/Rscript'",
     "output_type": "error",
     "traceback": [
      "\u001b[0;31m---------------------------------------------------------------------------\u001b[0m",
      "\u001b[0;31mFileNotFoundError\u001b[0m                         Traceback (most recent call last)",
      "\u001b[1;32m/Users/mawuliagamah/gitprojects/causal_inference/causal_inference/Jupyter notebooks/synthetic studies.ipynb Cell 14\u001b[0m in \u001b[0;36m<cell line: 6>\u001b[0;34m()\u001b[0m\n\u001b[1;32m      <a href='vscode-notebook-cell:/Users/mawuliagamah/gitprojects/causal_inference/causal_inference/Jupyter%20notebooks/synthetic%20studies.ipynb#ch0000012?line=2'>3</a>\u001b[0m graph_data_3 \u001b[39m=\u001b[39m treat1\n\u001b[1;32m      <a href='vscode-notebook-cell:/Users/mawuliagamah/gitprojects/causal_inference/causal_inference/Jupyter%20notebooks/synthetic%20studies.ipynb#ch0000012?line=4'>5</a>\u001b[0m \u001b[39m# Full\u001b[39;00m\n\u001b[0;32m----> <a href='vscode-notebook-cell:/Users/mawuliagamah/gitprojects/causal_inference/causal_inference/Jupyter%20notebooks/synthetic%20studies.ipynb#ch0000012?line=5'>6</a>\u001b[0m model_pc0 \u001b[39m=\u001b[39m cdt\u001b[39m.\u001b[39;49mcausality\u001b[39m.\u001b[39;49mgraph\u001b[39m.\u001b[39;49mGES()\n\u001b[1;32m      <a href='vscode-notebook-cell:/Users/mawuliagamah/gitprojects/causal_inference/causal_inference/Jupyter%20notebooks/synthetic%20studies.ipynb#ch0000012?line=6'>7</a>\u001b[0m graph_pc0 \u001b[39m=\u001b[39m model_pc0\u001b[39m.\u001b[39mpredict(graph_data_1, skeleton0)\n\u001b[1;32m      <a href='vscode-notebook-cell:/Users/mawuliagamah/gitprojects/causal_inference/causal_inference/Jupyter%20notebooks/synthetic%20studies.ipynb#ch0000012?line=8'>9</a>\u001b[0m \u001b[39m# not treated\u001b[39;00m\n",
      "File \u001b[0;32m~/CausalDiscoveryToolbox/cdt/causality/graph/GES.py:109\u001b[0m, in \u001b[0;36mGES.__init__\u001b[0;34m(self, score, verbose)\u001b[0m\n\u001b[1;32m    107\u001b[0m \u001b[39mdef\u001b[39;00m \u001b[39m__init__\u001b[39m(\u001b[39mself\u001b[39m, score\u001b[39m=\u001b[39m\u001b[39m'\u001b[39m\u001b[39mobs\u001b[39m\u001b[39m'\u001b[39m,verbose\u001b[39m=\u001b[39m\u001b[39mNone\u001b[39;00m):\n\u001b[1;32m    108\u001b[0m     \u001b[39m\"\"\"Init the model and its available arguments.\"\"\"\u001b[39;00m\n\u001b[0;32m--> 109\u001b[0m     \u001b[39mif\u001b[39;00m \u001b[39mnot\u001b[39;00m RPackages\u001b[39m.\u001b[39;49mpcalg:\n\u001b[1;32m    110\u001b[0m         \u001b[39mraise\u001b[39;00m \u001b[39mImportError\u001b[39;00m(\u001b[39m\"\u001b[39m\u001b[39mR Package pcalg is not available.\u001b[39m\u001b[39m\"\u001b[39m)\n\u001b[1;32m    112\u001b[0m     \u001b[39msuper\u001b[39m(GES, \u001b[39mself\u001b[39m)\u001b[39m.\u001b[39m\u001b[39m__init__\u001b[39m()\n",
      "File \u001b[0;32m~/CausalDiscoveryToolbox/cdt/utils/R.py:132\u001b[0m, in \u001b[0;36mDefaultRPackages.__getattribute__\u001b[0;34m(self, name)\u001b[0m\n\u001b[1;32m    130\u001b[0m out \u001b[39m=\u001b[39m \u001b[39mobject\u001b[39m\u001b[39m.\u001b[39m\u001b[39m__getattribute__\u001b[39m(\u001b[39mself\u001b[39m, name)\n\u001b[1;32m    131\u001b[0m \u001b[39mif\u001b[39;00m out \u001b[39mis\u001b[39;00m \u001b[39mNone\u001b[39;00m \u001b[39mand\u001b[39;00m \u001b[39mnot\u001b[39;00m \u001b[39mobject\u001b[39m\u001b[39m.\u001b[39m\u001b[39m__getattribute__\u001b[39m(\u001b[39mself\u001b[39m, \u001b[39m'\u001b[39m\u001b[39minit\u001b[39m\u001b[39m'\u001b[39m):\n\u001b[0;32m--> 132\u001b[0m     availability \u001b[39m=\u001b[39m \u001b[39mself\u001b[39;49m\u001b[39m.\u001b[39;49mcheck_R_package(name)\n\u001b[1;32m    133\u001b[0m     \u001b[39msetattr\u001b[39m(\u001b[39mself\u001b[39m, name, availability)\n\u001b[1;32m    134\u001b[0m     \u001b[39mreturn\u001b[39;00m availability\n",
      "File \u001b[0;32m~/CausalDiscoveryToolbox/cdt/utils/R.py:146\u001b[0m, in \u001b[0;36mDefaultRPackages.check_R_package\u001b[0;34m(self, package)\u001b[0m\n\u001b[1;32m    137\u001b[0m \u001b[39mdef\u001b[39;00m \u001b[39mcheck_R_package\u001b[39m(\u001b[39mself\u001b[39m, package):\n\u001b[1;32m    138\u001b[0m     \u001b[39m\"\"\"Execute a subprocess to check the package's availability.\u001b[39;00m\n\u001b[1;32m    139\u001b[0m \n\u001b[1;32m    140\u001b[0m \u001b[39m    Args:\u001b[39;00m\n\u001b[0;32m   (...)\u001b[0m\n\u001b[1;32m    144\u001b[0m \u001b[39m        bool: `True` if the package is available, `False` otherwise\u001b[39;00m\n\u001b[1;32m    145\u001b[0m \u001b[39m    \"\"\"\u001b[39;00m\n\u001b[0;32m--> 146\u001b[0m     test_package \u001b[39m=\u001b[39m \u001b[39mnot\u001b[39;00m \u001b[39mbool\u001b[39m(launch_R_script(Path(\u001b[39m\"\u001b[39;49m\u001b[39m{}\u001b[39;49;00m\u001b[39m/R_templates/test_import.R\u001b[39;49m\u001b[39m\"\u001b[39;49m\u001b[39m.\u001b[39;49mformat(os\u001b[39m.\u001b[39;49mpath\u001b[39m.\u001b[39;49mdirname(os\u001b[39m.\u001b[39;49mpath\u001b[39m.\u001b[39;49mrealpath(\u001b[39m__file__\u001b[39;49m)))),\n\u001b[1;32m    147\u001b[0m                                                  {\u001b[39m\"\u001b[39;49m\u001b[39m{package}\u001b[39;49;00m\u001b[39m\"\u001b[39;49m: package}, verbose\u001b[39m=\u001b[39;49m\u001b[39mTrue\u001b[39;49;00m))\n\u001b[1;32m    148\u001b[0m     \u001b[39mreturn\u001b[39;00m test_package\n",
      "File \u001b[0;32m~/CausalDiscoveryToolbox/cdt/utils/R.py:197\u001b[0m, in \u001b[0;36mlaunch_R_script\u001b[0;34m(template, arguments, output_function, verbose, debug)\u001b[0m\n\u001b[1;32m    195\u001b[0m     \u001b[39mexcept\u001b[39;00m \u001b[39mException\u001b[39;00m \u001b[39mas\u001b[39;00m e:\n\u001b[1;32m    196\u001b[0m         \u001b[39mprint\u001b[39m(\u001b[39m\"\u001b[39m\u001b[39mR Call errored, is R available ?\u001b[39m\u001b[39m\"\u001b[39m)\n\u001b[0;32m--> 197\u001b[0m         \u001b[39mraise\u001b[39;00m e\n\u001b[1;32m    199\u001b[0m \u001b[39melse\u001b[39;00m:\n\u001b[1;32m    200\u001b[0m     \u001b[39mtry\u001b[39;00m:\n",
      "File \u001b[0;32m~/CausalDiscoveryToolbox/cdt/utils/R.py:192\u001b[0m, in \u001b[0;36mlaunch_R_script\u001b[0;34m(template, arguments, output_function, verbose, debug)\u001b[0m\n\u001b[1;32m    190\u001b[0m \u001b[39mif\u001b[39;00m output_function \u001b[39mis\u001b[39;00m \u001b[39mNone\u001b[39;00m:\n\u001b[1;32m    191\u001b[0m     \u001b[39mtry\u001b[39;00m:\n\u001b[0;32m--> 192\u001b[0m         output \u001b[39m=\u001b[39m subprocess\u001b[39m.\u001b[39;49mcall([\u001b[39mstr\u001b[39;49m(rpath), \u001b[39m\"\u001b[39;49m\u001b[39m--vanilla\u001b[39;49m\u001b[39m\"\u001b[39;49m, \u001b[39mstr\u001b[39;49m(scriptpath)],\n\u001b[1;32m    193\u001b[0m                                 stdout\u001b[39m=\u001b[39;49msubprocess\u001b[39m.\u001b[39;49mDEVNULL,\n\u001b[1;32m    194\u001b[0m                                 stderr\u001b[39m=\u001b[39;49msubprocess\u001b[39m.\u001b[39;49mDEVNULL)\n\u001b[1;32m    195\u001b[0m     \u001b[39mexcept\u001b[39;00m \u001b[39mException\u001b[39;00m \u001b[39mas\u001b[39;00m e:\n\u001b[1;32m    196\u001b[0m         \u001b[39mprint\u001b[39m(\u001b[39m\"\u001b[39m\u001b[39mR Call errored, is R available ?\u001b[39m\u001b[39m\"\u001b[39m)\n",
      "File \u001b[0;32m~/opt/anaconda3/lib/python3.8/subprocess.py:340\u001b[0m, in \u001b[0;36mcall\u001b[0;34m(timeout, *popenargs, **kwargs)\u001b[0m\n\u001b[1;32m    332\u001b[0m \u001b[39mdef\u001b[39;00m \u001b[39mcall\u001b[39m(\u001b[39m*\u001b[39mpopenargs, timeout\u001b[39m=\u001b[39m\u001b[39mNone\u001b[39;00m, \u001b[39m*\u001b[39m\u001b[39m*\u001b[39mkwargs):\n\u001b[1;32m    333\u001b[0m     \u001b[39m\"\"\"Run command with arguments.  Wait for command to complete or\u001b[39;00m\n\u001b[1;32m    334\u001b[0m \u001b[39m    timeout, then return the returncode attribute.\u001b[39;00m\n\u001b[1;32m    335\u001b[0m \n\u001b[0;32m   (...)\u001b[0m\n\u001b[1;32m    338\u001b[0m \u001b[39m    retcode = call([\"ls\", \"-l\"])\u001b[39;00m\n\u001b[1;32m    339\u001b[0m \u001b[39m    \"\"\"\u001b[39;00m\n\u001b[0;32m--> 340\u001b[0m     \u001b[39mwith\u001b[39;00m Popen(\u001b[39m*\u001b[39;49mpopenargs, \u001b[39m*\u001b[39;49m\u001b[39m*\u001b[39;49mkwargs) \u001b[39mas\u001b[39;00m p:\n\u001b[1;32m    341\u001b[0m         \u001b[39mtry\u001b[39;00m:\n\u001b[1;32m    342\u001b[0m             \u001b[39mreturn\u001b[39;00m p\u001b[39m.\u001b[39mwait(timeout\u001b[39m=\u001b[39mtimeout)\n",
      "File \u001b[0;32m~/opt/anaconda3/lib/python3.8/subprocess.py:858\u001b[0m, in \u001b[0;36mPopen.__init__\u001b[0;34m(self, args, bufsize, executable, stdin, stdout, stderr, preexec_fn, close_fds, shell, cwd, env, universal_newlines, startupinfo, creationflags, restore_signals, start_new_session, pass_fds, encoding, errors, text)\u001b[0m\n\u001b[1;32m    854\u001b[0m         \u001b[39mif\u001b[39;00m \u001b[39mself\u001b[39m\u001b[39m.\u001b[39mtext_mode:\n\u001b[1;32m    855\u001b[0m             \u001b[39mself\u001b[39m\u001b[39m.\u001b[39mstderr \u001b[39m=\u001b[39m io\u001b[39m.\u001b[39mTextIOWrapper(\u001b[39mself\u001b[39m\u001b[39m.\u001b[39mstderr,\n\u001b[1;32m    856\u001b[0m                     encoding\u001b[39m=\u001b[39mencoding, errors\u001b[39m=\u001b[39merrors)\n\u001b[0;32m--> 858\u001b[0m     \u001b[39mself\u001b[39;49m\u001b[39m.\u001b[39;49m_execute_child(args, executable, preexec_fn, close_fds,\n\u001b[1;32m    859\u001b[0m                         pass_fds, cwd, env,\n\u001b[1;32m    860\u001b[0m                         startupinfo, creationflags, shell,\n\u001b[1;32m    861\u001b[0m                         p2cread, p2cwrite,\n\u001b[1;32m    862\u001b[0m                         c2pread, c2pwrite,\n\u001b[1;32m    863\u001b[0m                         errread, errwrite,\n\u001b[1;32m    864\u001b[0m                         restore_signals, start_new_session)\n\u001b[1;32m    865\u001b[0m \u001b[39mexcept\u001b[39;00m:\n\u001b[1;32m    866\u001b[0m     \u001b[39m# Cleanup if the child failed starting.\u001b[39;00m\n\u001b[1;32m    867\u001b[0m     \u001b[39mfor\u001b[39;00m f \u001b[39min\u001b[39;00m \u001b[39mfilter\u001b[39m(\u001b[39mNone\u001b[39;00m, (\u001b[39mself\u001b[39m\u001b[39m.\u001b[39mstdin, \u001b[39mself\u001b[39m\u001b[39m.\u001b[39mstdout, \u001b[39mself\u001b[39m\u001b[39m.\u001b[39mstderr)):\n",
      "File \u001b[0;32m~/opt/anaconda3/lib/python3.8/subprocess.py:1704\u001b[0m, in \u001b[0;36mPopen._execute_child\u001b[0;34m(self, args, executable, preexec_fn, close_fds, pass_fds, cwd, env, startupinfo, creationflags, shell, p2cread, p2cwrite, c2pread, c2pwrite, errread, errwrite, restore_signals, start_new_session)\u001b[0m\n\u001b[1;32m   1702\u001b[0m     \u001b[39mif\u001b[39;00m errno_num \u001b[39m!=\u001b[39m \u001b[39m0\u001b[39m:\n\u001b[1;32m   1703\u001b[0m         err_msg \u001b[39m=\u001b[39m os\u001b[39m.\u001b[39mstrerror(errno_num)\n\u001b[0;32m-> 1704\u001b[0m     \u001b[39mraise\u001b[39;00m child_exception_type(errno_num, err_msg, err_filename)\n\u001b[1;32m   1705\u001b[0m \u001b[39mraise\u001b[39;00m child_exception_type(err_msg)\n",
      "\u001b[0;31mFileNotFoundError\u001b[0m: [Errno 2] No such file or directory: '/Library/Frameworks/R.framework/Versions/4.0/Resources/Rscript'"
     ]
    }
   ],
   "source": [
    "graph_data_1 = df_o\n",
    "graph_data_2 = treat0\n",
    "graph_data_3 = treat1\n",
    "\n",
    "# Full\n",
    "model_pc0 = cdt.causality.graph.GES()\n",
    "graph_pc0 = model_pc0.predict(graph_data_1, skeleton0)\n",
    "\n",
    "# not treated\n",
    "model_pc1 = cdt.causality.graph.PC()\n",
    "graph_pc1 = model_pc1.predict(graph_data_2, skeleton1)\n",
    "\n",
    "# Treat\n",
    "model_pc2 = cdt.causality.graph.PC()\n",
    "graph_pc2 = model_pc2.predict(graph_data_3, skeleton2)\n",
    "\n",
    "#Plot all graphs\n",
    "graphs = [graph_pc0,graph_pc1,graph_pc2]\n",
    "fig, axes = plt.subplots(nrows=1, ncols=3,figsize=(30, 10))\n",
    "ax = axes.flatten()\n",
    "for i in range(3):\n",
    "    nx.draw_networkx(graphs,font_size=10 ,node_size=500,edge_cmap='Reds',arrowsize=15,edge_color='Green' , ax=ax[i])\n",
    "\n",
    "plt.show()"
   ]
  },
  {
   "cell_type": "code",
   "execution_count": 11,
   "metadata": {},
   "outputs": [
    {
     "ename": "NameError",
     "evalue": "name 'cdt' is not defined",
     "output_type": "error",
     "traceback": [
      "\u001b[0;31m---------------------------------------------------------------------------\u001b[0m",
      "\u001b[0;31mNameError\u001b[0m                                 Traceback (most recent call last)",
      "\u001b[1;32m/Users/mawuliagamah/gitprojects/causal_inference/causal_inference/Jupyter notebooks/synthetic studies.ipynb Cell 15\u001b[0m in \u001b[0;36m<cell line: 1>\u001b[0;34m()\u001b[0m\n\u001b[0;32m----> <a href='vscode-notebook-cell:/Users/mawuliagamah/gitprojects/causal_inference/causal_inference/Jupyter%20notebooks/synthetic%20studies.ipynb#ch0000013?line=0'>1</a>\u001b[0m glasso \u001b[39m=\u001b[39m cdt\u001b[39m.\u001b[39mindependence\u001b[39m.\u001b[39mgraph\u001b[39m.\u001b[39mGlasso()\n\u001b[1;32m      <a href='vscode-notebook-cell:/Users/mawuliagamah/gitprojects/causal_inference/causal_inference/Jupyter%20notebooks/synthetic%20studies.ipynb#ch0000013?line=1'>2</a>\u001b[0m skeleton0 \u001b[39m=\u001b[39m glasso\u001b[39m.\u001b[39mpredict(df_o)\n\u001b[1;32m      <a href='vscode-notebook-cell:/Users/mawuliagamah/gitprojects/causal_inference/causal_inference/Jupyter%20notebooks/synthetic%20studies.ipynb#ch0000013?line=2'>3</a>\u001b[0m model_pc0 \u001b[39m=\u001b[39m cdt\u001b[39m.\u001b[39mcausality\u001b[39m.\u001b[39mgraph\u001b[39m.\u001b[39mPC()\n",
      "\u001b[0;31mNameError\u001b[0m: name 'cdt' is not defined"
     ]
    }
   ],
   "source": [
    "\n",
    "glasso = cdt.independence.graph.Glasso()\n",
    "skeleton0 = glasso.predict(df_o)\n",
    "model_pc0 = cdt.causality.graph.PC()\n",
    "graph_pc0 = model_pc0.predict(df_o, skeleton0)\n",
    "nx.draw_networkx(graph_pc0,font_size=10 ,node_size=1000,edge_cmap='Reds',arrowsize=15,edge_color='Green')\n"
   ]
  },
  {
   "cell_type": "code",
   "execution_count": 79,
   "metadata": {},
   "outputs": [
    {
     "ename": "AssertionError",
     "evalue": "",
     "output_type": "error",
     "traceback": [
      "\u001b[0;31m---------------------------------------------------------------------------\u001b[0m",
      "\u001b[0;31mAssertionError\u001b[0m                            Traceback (most recent call last)",
      "\u001b[1;32m/Users/mawuliagamah/gitprojects/causal_inference/causal_inference/simulation study_1.ipynb Cell 15\u001b[0m in \u001b[0;36m<cell line: 27>\u001b[0;34m()\u001b[0m\n\u001b[1;32m     <a href='vscode-notebook-cell:/Users/mawuliagamah/gitprojects/causal_inference/causal_inference/simulation%20study_1.ipynb#ch0000018?line=22'>23</a>\u001b[0m edges \u001b[39m=\u001b[39m \u001b[39mlist\u001b[39m(edges)\n\u001b[1;32m     <a href='vscode-notebook-cell:/Users/mawuliagamah/gitprojects/causal_inference/causal_inference/simulation%20study_1.ipynb#ch0000018?line=23'>24</a>\u001b[0m edges\u001b[39m.\u001b[39mremove( (\u001b[39m'\u001b[39m\u001b[39mX1\u001b[39m\u001b[39m'\u001b[39m, \u001b[39m'\u001b[39m\u001b[39mX0\u001b[39m\u001b[39m'\u001b[39m))\n\u001b[0;32m---> <a href='vscode-notebook-cell:/Users/mawuliagamah/gitprojects/causal_inference/causal_inference/simulation%20study_1.ipynb#ch0000018?line=26'>27</a>\u001b[0m sprinkler \u001b[39m=\u001b[39m CausalGraphicalModel(nodes\u001b[39m=\u001b[39;49mnodes,edges\u001b[39m=\u001b[39;49m edges )\n",
      "File \u001b[0;32m~/opt/anaconda3/lib/python3.8/site-packages/causalgraphicalmodels/cgm.py:55\u001b[0m, in \u001b[0;36mCausalGraphicalModel.__init__\u001b[0;34m(self, nodes, edges, latent_edges, set_nodes)\u001b[0m\n\u001b[1;32m     52\u001b[0m     \u001b[39mself\u001b[39m\u001b[39m.\u001b[39munobserved_variable_edges[new_node] \u001b[39m=\u001b[39m (n1, n2)\n\u001b[1;32m     53\u001b[0m \u001b[39mself\u001b[39m\u001b[39m.\u001b[39munobserved_variables \u001b[39m=\u001b[39m \u001b[39mfrozenset\u001b[39m(unobserved_variables)\n\u001b[0;32m---> 55\u001b[0m \u001b[39massert\u001b[39;00m nx\u001b[39m.\u001b[39mis_directed_acyclic_graph(\u001b[39mself\u001b[39m\u001b[39m.\u001b[39mdag)\n\u001b[1;32m     57\u001b[0m \u001b[39mfor\u001b[39;00m set_node \u001b[39min\u001b[39;00m \u001b[39mself\u001b[39m\u001b[39m.\u001b[39mset_nodes:\n\u001b[1;32m     58\u001b[0m     \u001b[39m# set nodes cannot have parents\u001b[39;00m\n\u001b[1;32m     59\u001b[0m     \u001b[39massert\u001b[39;00m \u001b[39mnot\u001b[39;00m nx\u001b[39m.\u001b[39mancestors(\u001b[39mself\u001b[39m\u001b[39m.\u001b[39mdag, set_node)\n",
      "\u001b[0;31mAssertionError\u001b[0m: "
     ]
    }
   ],
   "source": [
    "from causalgraphicalmodels import CausalGraphicalModel\n",
    "\n",
    "sprinkler = CausalGraphicalModel(\n",
    "    nodes=[\"season\", \"rain\", \"sprinkler\", \"wet\", \"slippery\"],\n",
    "    edges=[\n",
    "        (\"season\", \"rain\"), \n",
    "        (\"season\", \"sprinkler\"), \n",
    "        (\"rain\", \"wet\"),\n",
    "        (\"sprinkler\", \"wet\"), \n",
    "        (\"wet\", \"slippery\")\n",
    "    ]\n",
    ")\n",
    "\n",
    "sprinkler_G = sprinkler.graph\n",
    "\n",
    "\n",
    "Springer_G = nx.to_numpy_matrix(sprinkler_G)\n",
    "df_0_matrix = nx.to_numpy_matrix(graph_pc0)\n",
    "\n",
    "nodes = graph_pc0.nodes\n",
    "edges = graph_pc0.edges\n",
    "nodes = list(nodes)\n",
    "edges = list(edges)\n",
    "edges.remove( ('X1', 'X0'))\n",
    "\n",
    "\n",
    "sprinkler = CausalGraphicalModel(nodes=nodes,edges= edges )\n",
    "#sprinkler.draw()"
   ]
  },
  {
   "cell_type": "code",
   "execution_count": 78,
   "metadata": {},
   "outputs": [
    {
     "data": {
      "text/plain": [
       "[('X0', 'X1'), ('X1', 'outcome'), ('outcome', 'X1')]"
      ]
     },
     "execution_count": 78,
     "metadata": {},
     "output_type": "execute_result"
    }
   ],
   "source": []
  },
  {
   "cell_type": "code",
   "execution_count": 71,
   "metadata": {},
   "outputs": [
    {
     "data": {
      "text/plain": [
       "matrix([[0., 1., 0.],\n",
       "        [1., 0., 1.],\n",
       "        [0., 1., 0.]])"
      ]
     },
     "execution_count": 71,
     "metadata": {},
     "output_type": "execute_result"
    }
   ],
   "source": [
    "df_0_matrix"
   ]
  },
  {
   "cell_type": "code",
   "execution_count": 51,
   "metadata": {},
   "outputs": [
    {
     "data": {
      "text/plain": [
       "OutEdgeView([('X0', 'X1'), ('X0', 'assignment'), ('X1', 'X0'), ('X1', 'assignment'), ('X1', 'outcome'), ('assignment', 'X0'), ('assignment', 'X1'), ('assignment', 'outcome'), ('outcome', 'X1'), ('outcome', 'assignment')])"
      ]
     },
     "execution_count": 51,
     "metadata": {},
     "output_type": "execute_result"
    }
   ],
   "source": [
    "edges"
   ]
  },
  {
   "cell_type": "code",
   "execution_count": 17,
   "metadata": {},
   "outputs": [],
   "source": [
    "# Convert variables to numpy arrays  \n",
    "\n",
    "outcome_a  = np.array([df_e['outcome']])\n",
    "assignment_a  = np.array([df_e['assignment']])\n",
    "X0_a  = np.array([df_e['X0']])\n",
    "X1_a = np.array(df_e['X1'])\n",
    "X2_a = np.array(df_e['X2'])\n",
    "X3_a = np.array(df_e['X3'])\n",
    "X4_a = np.array(df_e['X4'])\n",
    "X5_a = np.array(df_e['X5'])\n",
    "X6_a = np.array(df_e['X6'])\n",
    "\n",
    "# Reshape arrays \n",
    "\n",
    "outcome_a = outcome_a.reshape(722,1)\n",
    "assignment_a = assignment_a.reshape(722,1)\n",
    "X0_a = X0_a.reshape(722,1)\n",
    "X1_a = X1_a.reshape(722,1)\n",
    "X2_a = X2_a.reshape(722,1)\n",
    "X3_a = X3_a.reshape(722,1)\n",
    "X4_a = X4_a.reshape(722,1)\n",
    "X5_a = X5_a.reshape(722,1)\n",
    "X6_a = X6_a.reshape(722,1)\n",
    "\n",
    "\n",
    "## Generate sets for conditional independence testing \n",
    "\n",
    "emptyset = [0]*722\n",
    "emptyset = np.array(emptyset)\n",
    "emptyset = emptyset.reshape(722,1)\n",
    "\n",
    "# n-dimensional arrays\n",
    "\n",
    "z_1 = np.array(df_e[['X0','X1','X2']])"
   ]
  },
  {
   "cell_type": "code",
   "execution_count": 13,
   "metadata": {},
   "outputs": [],
   "source": [
    "from CCIT import CCIT\n",
    "from CCIT import DataGen"
   ]
  },
  {
   "cell_type": "code",
   "execution_count": 19,
   "metadata": {},
   "outputs": [
    {
     "data": {
      "text/plain": [
       "[0.5]"
      ]
     },
     "execution_count": 19,
     "metadata": {},
     "output_type": "execute_result"
    }
   ],
   "source": [
    "ci_pvals = []\n",
    "pvalue = CCIT.CCIT(outcome_a,assignment_a,emptyset) \n",
    "ci_pvals.append(pvalue)\n",
    "ci_pvals"
   ]
  },
  {
   "cell_type": "code",
   "execution_count": null,
   "metadata": {},
   "outputs": [],
   "source": []
  }
 ],
 "metadata": {
  "kernelspec": {
   "display_name": "Python 3 (ipykernel)",
   "language": "python",
   "name": "python3"
  },
  "language_info": {
   "codemirror_mode": {
    "name": "ipython",
    "version": 3
   },
   "file_extension": ".py",
   "mimetype": "text/x-python",
   "name": "python",
   "nbconvert_exporter": "python",
   "pygments_lexer": "ipython3",
   "version": "3.8.13"
  },
  "vscode": {
   "interpreter": {
    "hash": "44a7c5cf9512a4ad670122a007d348488b56f79d3796a47615dc74da9f36a764"
   }
  }
 },
 "nbformat": 4,
 "nbformat_minor": 4
}
