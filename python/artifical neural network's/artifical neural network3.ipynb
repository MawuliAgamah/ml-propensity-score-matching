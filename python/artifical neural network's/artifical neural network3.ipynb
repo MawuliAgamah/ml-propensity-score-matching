{
 "cells": [
  {
   "cell_type": "code",
   "execution_count": 1,
   "metadata": {},
   "outputs": [
    {
     "name": "stderr",
     "output_type": "stream",
     "text": [
      "/Users/mawuliagamah/opt/anaconda3/lib/python3.8/site-packages/scipy/__init__.py:146: UserWarning: A NumPy version >=1.16.5 and <1.23.0 is required for this version of SciPy (detected version 1.23.1\n",
      "  warnings.warn(f\"A NumPy version >={np_minversion} and <{np_maxversion}\"\n"
     ]
    }
   ],
   "source": [
    "import pandas as pd\n",
    "import numpy as np\n",
    "import matplotlib.pyplot as plt \n",
    "import seaborn as sns\n",
    "import torch\n",
    "from torch import nn\n",
    "from torch.utils.data import  DataLoader,SubsetRandomSampler \n",
    "import torch.optim as optim # Optimization package\n",
    "from sklearn.model_selection import KFold\n",
    "from sklearn.utils import shuffle\n",
    "from scipy import stats  as stat\n",
    "from imblearn.combine import SMOTEENN"
   ]
  },
  {
   "cell_type": "markdown",
   "metadata": {},
   "source": [
    "# Helper functions for model training"
   ]
  },
  {
   "cell_type": "code",
   "execution_count": 2,
   "metadata": {},
   "outputs": [],
   "source": [
    "def see_data_stored(data_from_customDataFunction):\n",
    "  x = print('\\nFirst iteration of data set: ', next(iter(data_from_customDataFunction)), '\\n') # Display text and label.\n",
    "  y =print('Length of data set: ', len(data_from_customDataFunction), '\\n')                  # Print how many items are in the data set\n",
    "  #z = print('Entire data set: ', list(DataLoader(data_from_customDataFunction)), '\\n')        # Print entire data set\n",
    "  return x,y"
   ]
  },
  {
   "cell_type": "markdown",
   "metadata": {},
   "source": [
    "#### Data pre-processing for NN "
   ]
  },
  {
   "cell_type": "code",
   "execution_count": 117,
   "metadata": {},
   "outputs": [],
   "source": [
    "from sklearn.preprocessing import StandardScaler, MinMaxScaler\n",
    "\n",
    "def data_cleaning_function(dataset):\n",
    "    \"\"\"\n",
    "    Function to clean the lalond dasets.\n",
    "    \n",
    "    \"\"\"\n",
    "    \n",
    "    dataset = shuffle(dataset).reset_index(drop=True) # shuffle data \n",
    "    dataset.rename(columns={'education*': 'education'}, inplace=True)\n",
    "\n",
    "    sc = MinMaxScaler()\n",
    "    covariate_subset1a = ['treat','ageboxcox','education','black','hispanic','married','nodegree','lnre75']\n",
    "    covariate_subset1b = ['treat','ageboxcox','black','hispanic','married','nodegree','lnre75','education_8', 'education_9','education_10', 'education_11', 'education_12', 'education_13',\n",
    "                           'education_14', 'education_15', 'education_16', 'education_17']  \n",
    "\n",
    "    covariate_subset2a = ['treat','ageboxcox','education','black','hispanic','married','nodegree','lnre74','lnre75']\n",
    "    covariate_subset2b = ['treat','age','black','hispanic','married','nodegree','lnre74','lnre75','education_8', 'education_9','education_10', 'education_11', 'education_12', \n",
    "                          'education_13', 'education_14', 'education_15', 'education_16', 'education_17']\n",
    "\n",
    "\n",
    "    continous_variables1a = ['ageboxcox','education','lnre75'] \n",
    "    continous_variables1b = ['ageboxcox','lnre75'] \n",
    "    continous_variables2a = ['ageboxcox','education','lnre74','lnre75'] \n",
    "    continous_variables2b = ['ageboxcox','lnre74','lnre75'] \n",
    "\n",
    "    \n",
    "    if 're74' in dataset.columns:\n",
    "        dataset= dataset[covariate_subset2b]\n",
    "        dataset[continous_variables2b] = sc.fit_transform(dataset[continous_variables2b]) # scale continuos variables\n",
    "    else:\n",
    "        dataset= dataset[covariate_subset1b]    \n",
    "        dataset[continous_variables1b] = sc.fit_transform(dataset[continous_variables1b]) # scale continuos variables\n",
    "     \n",
    "    return dataset \n"
   ]
  },
  {
   "cell_type": "code",
   "execution_count": 118,
   "metadata": {},
   "outputs": [],
   "source": [
    "def features_and_targets_function(dataset,upsample):\n",
    "\n",
    "    \"\"\"\n",
    "    Split dataset into features and targets \n",
    "    \n",
    "    \"\"\"\n",
    "    features = dataset.drop('treat', axis=1) # Drop treated units \n",
    "    target = dataset.iloc[:,0] # target column\n",
    "    features_as_array = np.array(features)\n",
    "    target_as_array = np.array(target)\n",
    "    upsample = upsample\n",
    "    if upsample == True:\n",
    "        resample=SMOTEENN(random_state=0) # resampling\n",
    "        features_as_array, target_as_array = resample.fit_resample(features_as_array, target_as_array)\n",
    "    else:\n",
    "        pass \n",
    "\n",
    "    features_as_tensor = torch.tensor(features_as_array)\n",
    "    target_as_tensor = torch.tensor(target_as_array).unsqueeze(1)\n",
    "    shape = features_as_tensor.shape[1]\n",
    "\n",
    "    return features_as_tensor, target_as_tensor,shape; "
   ]
  },
  {
   "cell_type": "code",
   "execution_count": 119,
   "metadata": {},
   "outputs": [],
   "source": [
    "from sklearn.model_selection import train_test_split\n",
    "\n",
    "def train_test_split_upsampled(dataset):\n",
    "\n",
    "    train_dataset, test_dataset = train_test_split(dataset,  test_size=0.3, random_state=0)\n",
    "\n",
    "    X_train, y_train,shape_features_train = features_and_targets_function(train_dataset,False)\n",
    "\n",
    "    X_test, y_test,shape_features_test = features_and_targets_function(train_dataset,True)\n",
    "\n",
    "    print(y_test)\n",
    "    return X_train,y_train,X_test,y_test,shape_features_train;\n",
    "    "
   ]
  },
  {
   "cell_type": "markdown",
   "metadata": {},
   "source": [
    "#### Pytorch : custom class for datasets"
   ]
  },
  {
   "cell_type": "code",
   "execution_count": 120,
   "metadata": {},
   "outputs": [],
   "source": [
    "class CustomDataset:\n",
    "  def __init__(self,features,target):    \n",
    "    \n",
    "    #import features and targets  \n",
    "    self.features = features              \n",
    "    self.target = target               \n",
    "  \n",
    "  def __len__(self):\n",
    "    \"\"\"\n",
    "    Returns length of the dataset.\n",
    "    \"\"\"\n",
    "    return len(self.features)\n",
    "\n",
    "  def __getitem__(self,idx):\n",
    "    \"\"\"\n",
    "    Returns features and target with index idx.\n",
    "    \"\"\"\n",
    "    features = self.features[idx]\n",
    "    target = self.target[idx]    \n",
    "    return (features, target)"
   ]
  },
  {
   "cell_type": "markdown",
   "metadata": {},
   "source": [
    "#### construct neural netowrk"
   ]
  },
  {
   "cell_type": "markdown",
   "metadata": {},
   "source": [
    "### Model "
   ]
  },
  {
   "cell_type": "code",
   "execution_count": 121,
   "metadata": {},
   "outputs": [],
   "source": [
    "# Define neural netowork class \n",
    "class fourlayerNN(nn.Module):\n",
    "    def __init__(self, num_features, num_classes, num_hidden_1, num_hidden_2,num_hidden_3,num_hidden_4,num_hidden_5):\n",
    "        super(fourlayerNN, self).__init__() \n",
    "       \n",
    "        self.input_layer =  nn.Linear(num_features,num_hidden_1)                        \n",
    "        self.hidden_layer1 = nn.Linear(num_hidden_1,num_hidden_2)                          \n",
    "        self.hidden_layer2 =  nn.Linear(num_hidden_2, num_hidden_3) \n",
    "        self.hidden_layer3 =  nn.Linear(num_hidden_3, num_hidden_4) \n",
    "        self.hidden_layer4 =  nn.Linear(num_hidden_4, num_hidden_5)\n",
    "        self.hidden_layer5 =  nn.Linear(num_hidden_5, num_classes) \n",
    "    \n",
    "        # Activation functions\n",
    "        self.relu_activation = nn.ReLU()    \n",
    "        self.output_activation = nn.Sigmoid()\n",
    "        #Drop out and batch normalisation \n",
    "        self.dropout = nn.Dropout(p=0.35)\n",
    "        self.batchnorm1 = nn.BatchNorm1d(num_hidden_1)\n",
    "        self.batchnorm2 = nn.BatchNorm1d(num_hidden_2)\n",
    "        self.batchnorm3 = nn.BatchNorm1d(num_hidden_3)\n",
    "        self.batchnorm4 = nn.BatchNorm1d(num_hidden_4)\n",
    "        self.batchnorm5 = nn.BatchNorm1d(num_hidden_5)\n",
    "    \n",
    "    # Forward propogation method\n",
    "    def forward(self, x):\n",
    "        # input \n",
    "        x = self.input_layer(x)\n",
    "        x = self.relu_activation(x)\n",
    "        x = self.batchnorm1(x)\n",
    "        x = self.dropout(x)\n",
    "        # first hidden layer\n",
    "        x = self.hidden_layer1(x)\n",
    "        x = self.relu_activation(x)\n",
    "        x = self.batchnorm2(x)\n",
    "        x = self.dropout(x)\n",
    "        # second hidden layer \n",
    "        x = self.hidden_layer2(x)\n",
    "        x = self.relu_activation(x)\n",
    "        x = self.batchnorm3(x)\n",
    "        x = self.dropout(x)\n",
    "        # third hidden layer\n",
    "        x = self.hidden_layer3(x)\n",
    "        x = self.relu_activation(x)\n",
    "        x = self.batchnorm4(x)\n",
    "        x = self.dropout(x)\n",
    "        # fourth hidden layer\n",
    "        x = self.hidden_layer4(x)\n",
    "        x = self.relu_activation(x)\n",
    "        x = self.batchnorm5(x)\n",
    "        x = self.dropout(x)\n",
    "        # fourth out layer\n",
    "        x = self.hidden_layer5(x)\n",
    "        x = self.output_activation(x)\n",
    "        return x\n",
    "\n",
    "\n",
    "class twoLayerNN(nn.Module):\n",
    "    def __init__(self,num_features, num_classes, num_hidden_1, num_hidden_2):\n",
    "        super(twoLayerNN, self).__init__() \n",
    "       \n",
    "        self.input_layer =  nn.Linear(num_features,num_hidden_1)                        \n",
    "        self.hidden_layer1 = nn.Linear(num_hidden_1,num_hidden_2)                          \n",
    "        self.out_layer =  nn.Linear(num_hidden_2, num_classes) \n",
    "\n",
    "        # Activation functions\n",
    "        self.relu_activation = nn.ReLU()    \n",
    "        self.output_activation = nn.Sigmoid()\n",
    "        #Drop out and batch normalisation \n",
    "        self.dropout = nn.Dropout(p=0.35)\n",
    "        self.batchnorm1 = nn.BatchNorm1d(num_hidden_1)\n",
    "        self.batchnorm2 = nn.BatchNorm1d(num_hidden_2)\n",
    "\n",
    "    # Forward propogation method\n",
    "    def forward(self, inputs):\n",
    "        x = self.relu_activation(self.input_layer(inputs))\n",
    "        x = self.batchnorm1(x)\n",
    "        x = self.relu_activation(self.hidden_layer1(x))\n",
    "        x = self.batchnorm2(x)\n",
    "        x = self.dropout(x)\n",
    "        x = self.output_activation(self.out_layer(x))\n",
    "        return x\n",
    "\n",
    "    def compute_l1_loss(self, w):\n",
    "      return torch.abs(w).sum()\n",
    "\n",
    "class ONELayerNN(nn.Module):\n",
    "    def __init__(self,num_features, num_classes, num_hidden_1):\n",
    "        super(ONELayerNN, self).__init__() \n",
    "       \n",
    "        self.input_layer =  nn.Linear(num_features,num_hidden_1)                                               \n",
    "        self.out_layer =  nn.Linear(num_hidden_1, num_classes) \n",
    "\n",
    "        # Activation functions\n",
    "        self.relu_activation = nn.ReLU()    \n",
    "        self.output_activation = nn.Sigmoid()\n",
    "        #Drop out and batch normalisation \n",
    "        self.dropout = nn.Dropout(p=0.2)\n",
    "        self.batchnorm1 = nn.BatchNorm1d(num_hidden_1)\n",
    "\n",
    "    # Forward propogation method\n",
    "    def forward(self, inputs):\n",
    "        x = self.relu_activation(self.input_layer(inputs))\n",
    "        x = self.batchnorm1(x)\n",
    "        x = self.dropout(x)\n",
    "        x = self.output_activation(self.out_layer(x))\n",
    "        return x\n",
    "\n",
    "    def compute_l1_loss(self, w):\n",
    "      return torch.abs(w).sum()      \n",
    "\n",
    "device = torch.device(\"cuda\" if torch.cuda.is_available() else \"cpu\")\n"
   ]
  },
  {
   "cell_type": "markdown",
   "metadata": {},
   "source": [
    "### NN helper functions "
   ]
  },
  {
   "cell_type": "code",
   "execution_count": 122,
   "metadata": {},
   "outputs": [],
   "source": [
    "# Function to reset model weights \n",
    "def reset_weights(m):\n",
    "  '''\n",
    "    Try resetting model weights to avoid\n",
    "    weight leakage.\n",
    "  '''\n",
    "  for layer in m.children():\n",
    "   if hasattr(layer, 'reset_parameters'):\n",
    "    layer.reset_parameters()\n",
    "\n",
    "# Function to initialise model weights \n",
    "def initialize_weights(m):\n",
    "    classname = m.__class__.__name__  \n",
    "    if classname.find('Linear') != -1:\n",
    "     n = m.in_features\n",
    "     y = 1.0/np.sqrt(n)\n",
    "     m.weight.data.uniform_(-y, y)\n",
    "     m.bias.data.fill_(0)\n",
    "    "
   ]
  },
  {
   "cell_type": "markdown",
   "metadata": {},
   "source": [
    "### Model training - Train, Test Split, no Kfold , with imbalanced dalaloader and upsampling"
   ]
  },
  {
   "cell_type": "code",
   "execution_count": 123,
   "metadata": {},
   "outputs": [],
   "source": [
    "from sklearn.metrics import roc_curve\n",
    "from sklearn.metrics import roc_auc_score"
   ]
  },
  {
   "cell_type": "code",
   "execution_count": 124,
   "metadata": {},
   "outputs": [],
   "source": [
    "def nn_ready_data_function(dataset):\n",
    "   dataset = data_cleaning_function(dataset)\n",
    "   X_train,y_train,X_test,y_test,shape =  train_test_split_upsampled(dataset)\n",
    "   train_data = CustomDataset(features = X_train,target = y_train)\n",
    "   test_data = CustomDataset(features = X_test,target = y_test)\n",
    "   return train_data, test_data, shape; "
   ]
  },
  {
   "cell_type": "code",
   "execution_count": 125,
   "metadata": {},
   "outputs": [],
   "source": [
    "'''\n",
    "Load the two datasets.\n",
    "nsw = Male sub sample of treated and control units as used by Lalonde.\n",
    "nswre74  = Further subsample extracted by Dehejia and Wahba (1999) which includes information on earnings in 1974 (re74)\n",
    "'''\n",
    "# RCT's \n",
    "nsw = pd.read_csv(\"/Users/mawuliagamah/gitprojects/causal_inference/causal_inference/datasets/nsw_featureTransformed.csv\")\n",
    "nswre74 = pd.read_csv(\"/Users/mawuliagamah/gitprojects/causal_inference/causal_inference/datasets/nswre74_featureTransformed.csv\")\n",
    "# Quasi data \n",
    "nswCps_lalonde =  pd.read_csv('/Users/mawuliagamah/gitprojects/causal_inference/causal_inference/datasets/quasi data/unmatched data/Quasi_NswCps_lalonde.csv')\n",
    "nswPsid_lalonde = pd.read_csv('/Users/mawuliagamah/gitprojects/causal_inference/causal_inference/datasets/quasi data/unmatched data/Quasi_NswPsid_lalonde.csv')\n",
    "nswCps_dehWab =   pd.read_csv('/Users/mawuliagamah/gitprojects/causal_inference/causal_inference/datasets/quasi data/unmatched data/Quasi_NswCps_dehWab.csv')\n",
    "nswPsid_dehWab =  pd.read_csv('/Users/mawuliagamah/gitprojects/causal_inference/causal_inference/datasets/quasi data/unmatched data/Quasi_NswPsid_dehWab.csv')"
   ]
  },
  {
   "cell_type": "markdown",
   "metadata": {},
   "source": [
    "<P> LOAD SIMULATED DATASET</P>"
   ]
  },
  {
   "cell_type": "code",
   "execution_count": 126,
   "metadata": {},
   "outputs": [],
   "source": [
    "simulated_dataset = pd.read_csv('/Users/mawuliagamah/gitprojects/causal_inference/causal_inference/datasets/simulated_experimental_dataset.csv')\n",
    "simulated_dataset.drop('Unnamed: 0', axis=1, inplace=True)"
   ]
  },
  {
   "cell_type": "code",
   "execution_count": 127,
   "metadata": {},
   "outputs": [
    {
     "name": "stdout",
     "output_type": "stream",
     "text": [
      "tensor([[0.],\n",
      "        [0.],\n",
      "        [0.],\n",
      "        ...,\n",
      "        [1.],\n",
      "        [1.],\n",
      "        [1.]], dtype=torch.float64)\n"
     ]
    }
   ],
   "source": [
    "# Subset dataset for ANN training \n",
    "train_data, test_data , shape = nn_ready_data_function(nswCps_lalonde)"
   ]
  },
  {
   "cell_type": "code",
   "execution_count": 190,
   "metadata": {},
   "outputs": [],
   "source": [
    "NUM_FEATURES = shape\n",
    "NUM_HIDDEN_1 = 12\n",
    "NUM_HIDDEN_2 = 12\n",
    "NUM_HIDDEN_3 = 12\n",
    "NUM_HIDDEN_4 = 12\n",
    "NUM_HIDDEN_5 = 12\n",
    "NUM_CLASSES = 1\n",
    "NUM_EPOCHS = 100\n",
    "BATCH_SIZE = 480\n",
    "LEARNING_RATE = 0.001\n",
    "WEIGHT_DECAY = 0.0182"
   ]
  },
  {
   "cell_type": "code",
   "execution_count": 191,
   "metadata": {},
   "outputs": [],
   "source": [
    "import sklearn.metrics as metrics\n",
    "\n",
    "trainloader = DataLoader(train_data,  batch_size=BATCH_SIZE)\n",
    "testloader = DataLoader(test_data,batch_size=BATCH_SIZE)\n",
    "\n",
    "# Instanstiate model \n",
    "\n",
    "#model = twoLayerNN(num_features = NUM_FEATURES,num_classes  = NUM_CLASSES, num_hidden_1 = NUM_HIDDEN_1,num_hidden_2 = NUM_HIDDEN_2)\n",
    "model = fourlayerNN(num_features = NUM_FEATURES,num_classes  = NUM_CLASSES, num_hidden_1 = NUM_HIDDEN_1,num_hidden_2 = NUM_HIDDEN_2,num_hidden_3=NUM_HIDDEN_3,num_hidden_4 = NUM_HIDDEN_4,num_hidden_5=NUM_HIDDEN_5)\n",
    "model.to(device)\n",
    "# Reset weights \n",
    "model.apply(reset_weights)\n",
    "model.apply(initialize_weights)\n",
    "#Initialise optimiser and loss function \n",
    "optimizer = optim.Adam(model.parameters(), lr=LEARNING_RATE,weight_decay=WEIGHT_DECAY)\n",
    "criterion = nn.BCEWithLogitsLoss()\n",
    "\n",
    "metrics = {'train_loss': [], 'test_loss': [],'train_acc':[],'test_acc':[]}\n"
   ]
  },
  {
   "cell_type": "code",
   "execution_count": 192,
   "metadata": {},
   "outputs": [],
   "source": [
    "# Dictionaries to store results  \n",
    "validation_accuracy_dict = {}      \n",
    "validation_loss_dict = {}\n",
    "training_accuracy_dict = {}\n",
    "training_loss_dict = {}\n",
    "\n",
    "train_precision_dict = {}\n",
    "train_recall_dict = {}\n",
    "train_f1_dict = {}\n",
    "train_mse_dict = {}\n",
    "\n",
    "test_precision_dict = {}\n",
    "test_recall_dict = {}\n",
    "test_f1_dict = {}\n",
    "test_mse_dict = {}\n",
    "\n",
    "\n",
    "foldperf = {}\n",
    "acc_per_epoch = {}\n",
    "fold_validation_accuracy = {}"
   ]
  },
  {
   "cell_type": "code",
   "execution_count": 193,
   "metadata": {},
   "outputs": [],
   "source": [
    "import warnings\n",
    "\n",
    "# Functions for ANN training \n",
    "# def get loss each epoch \n",
    "def store_loss(loss,features,dataloader,running_loss,epoch,dataloader_id):\n",
    "    if dataloader.__hash__() == dataloader_id:\n",
    "        x = running_loss\n",
    "        x += loss.item()*features.size(0)\n",
    "        avg_loss = x / len(trainloader.sampler)\n",
    "        training_loss_dict[(epoch)] = avg_loss\n",
    "    else:\n",
    "        x = running_loss\n",
    "        x += loss.item()*features.size(0)\n",
    "        avg_loss = x / len(trainloader.sampler)\n",
    "        validation_loss_dict[(epoch)] = avg_loss\n",
    "\n",
    "\n",
    "from sklearn import metrics\n",
    "\n",
    "# def get metrics \n",
    "def store_metrics(pred,target,dataloader,epoch,dataloader_id):\n",
    "    \n",
    "    if dataloader.__hash__() == dataloader_id:\n",
    "        # Precision\n",
    "        precision = metrics.precision_score(target,pred)\n",
    "        train_precision_dict[(epoch)] = precision\n",
    "        # Recall\n",
    "        recall = metrics.recall_score(target,pred)\n",
    "        train_recall_dict[(epoch)] = recall\n",
    "        # MSE \n",
    "        mse = metrics.mean_squared_error(target,pred)\n",
    "        train_mse_dict[(epoch)] = mse\n",
    "        # F1\n",
    "        f1 = metrics.f1_score(target,pred)\n",
    "        train_f1_dict[(epoch)] = f1\n",
    "        warnings.filterwarnings('ignore')\n",
    "    else:\n",
    "        precision = metrics.precision_score(target,pred)\n",
    "        test_precision_dict[(epoch)] = precision\n",
    "        # Recall\n",
    "        recall = metrics.recall_score(target,pred)\n",
    "        test_recall_dict[(epoch)] = recall\n",
    "        # MSE \n",
    "        mse = metrics.mean_squared_error(target,pred)\n",
    "        test_mse_dict[(epoch)] = mse\n",
    "        # F1\n",
    "        f1 = metrics.f1_score(target,pred)\n",
    "        test_f1_dict[(epoch)] = f1\n",
    "        warnings.filterwarnings('ignore')\n",
    "\n"
   ]
  },
  {
   "cell_type": "code",
   "execution_count": 194,
   "metadata": {},
   "outputs": [],
   "source": [
    "# Define train and test\n",
    "def trainTestModel(train_loader, test_loader):\n",
    "    \n",
    "    model = twoLayerNN(num_features = NUM_FEATURES,num_classes  = NUM_CLASSES, num_hidden_1 = NUM_HIDDEN_1,num_hidden_2 = NUM_HIDDEN_2) \n",
    "    #model = ONELayerNN(num_features = NUM_FEATURES,num_classes  = NUM_CLASSES, num_hidden_1 = NUM_HIDDEN_1) \n",
    "    model.to(device)\n",
    "    model.apply(initialize_weights)\n",
    "\n",
    "    optimizer = optim.AdamW(model.parameters(), lr=LEARNING_RATE,weight_decay=WEIGHT_DECAY)\n",
    "    criterion = nn.BCEWithLogitsLoss()\n",
    "    # train & test process\n",
    "    def train(trainloader,epoch,accuracy,dataloader_id):\n",
    "        model.train()\n",
    "        correct = 0\n",
    "        for batch_idx, (data, target) in enumerate(trainloader):\n",
    "            data, target = data.float().to(device), target.float().to(device)\n",
    "            optimizer.zero_grad()\n",
    "            output = model(data)\n",
    "            output = output\n",
    "            target = target\n",
    "            loss = criterion(output, target)\n",
    "            store_loss(loss,data,trainloader,running_loss,epoch,dataloader_id) # loss for plotting\n",
    "            pred = (output >= 0.5).type(torch.uint8)\n",
    "            store_metrics(pred,target,trainloader,epoch,dataloader_id)\n",
    "            correct += pred.eq(target.view_as(pred)).sum().item()   \n",
    "            loss.backward()\n",
    "            optimizer.step()\n",
    "\n",
    "        train_acc = 100. * correct / len(trainloader.dataset)\n",
    "        training_accuracy_dict[(epoch)] = train_acc\n",
    "        #store_accuracy(pred,target,correct_store,trainloader,epoch,accuracy,dataloader_id) # accuracy for plotting\n",
    "\n",
    "    def test(testloader,epoch,accuracy,dataloader_id):\n",
    "        model.eval()\n",
    "        correct = 0\n",
    "        targets, preds = [], []\n",
    "        with torch.no_grad():\n",
    "            for data, target in test_loader:\n",
    "                data, target = data.float().to(device), target.float().to(device)\n",
    "                output = model(data)\n",
    "                loss = criterion(output , target)\n",
    "                store_loss(loss,data,test_loader,running_loss,epoch,dataloader_id) # loss for plotting\n",
    "                pred = (output >= 0.5).type(torch.uint8) \n",
    "                #print(pred)\n",
    "                store_metrics(pred,target,testloader,epoch,dataloader_id)\n",
    "                correct += pred.eq(target.view_as(pred)).sum().item()\n",
    "                targets += list(target.cpu().numpy())\n",
    "                preds += list(pred.cpu().numpy())\n",
    "        \n",
    "        #store_accuracy(pred,target,correct_store,trainloader,epoch,accuracy,dataloader_id) # accuracy for plotting  \n",
    "        test_acc = 100. * correct / len(testloader.dataset)\n",
    "        validation_accuracy_dict[(epoch)] = test_acc\n",
    "        confusion_mtx = metrics.confusion_matrix(targets, preds)\n",
    "        return test_acc, confusion_mtx\n",
    "    \n",
    "    test_accs, confusion_mtxes = [], []\n",
    "    trainloader_id = train_loader.__hash__()    \n",
    "    for epoch in range(1, NUM_EPOCHS + 1):\n",
    "        running_loss = 0.0\n",
    "        accuracy = 0\n",
    "        train(train_loader,epoch,accuracy,trainloader_id)\n",
    "        test_acc, confusion_mtx = test(test_loader,epoch,accuracy,trainloader_id)\n",
    "        test_accs.append(test_acc)\n",
    "        confusion_mtxes.append(confusion_mtx)\n",
    "        print('\\rBest test acc = %2.2f%%' % max(test_accs), end='', flush=True)\n",
    "        \n",
    "  "
   ]
  },
  {
   "cell_type": "code",
   "execution_count": 195,
   "metadata": {},
   "outputs": [
    {
     "name": "stdout",
     "output_type": "stream",
     "text": [
      "Best test acc = 88.56%"
     ]
    }
   ],
   "source": [
    "trainTestModel(train_loader=trainloader,test_loader=testloader)"
   ]
  },
  {
   "cell_type": "code",
   "execution_count": 196,
   "metadata": {},
   "outputs": [],
   "source": [
    "# Create lists\n",
    "train_accuracy_list = list(training_accuracy_dict.values())\n",
    "test_accuracy_list = list(validation_accuracy_dict.values())\n",
    "\n",
    "train_loss_list = list(training_loss_dict.values())\n",
    "test_loss_list = list(validation_loss_dict.values())\n",
    "\n",
    "train_precision_list = list(train_precision_dict.values()) \n",
    "train_recall_list = list(train_recall_dict.values()) \n",
    "\n",
    "train_f1_list = list(train_f1_dict.values())\n",
    "train_mse_list = list(train_mse_dict.values())\n",
    "\n",
    "test_precision_list = list(test_precision_dict.values()) \n",
    "test_recall_list = list(test_recall_dict.values()) \n",
    "test_f1_list = list(test_f1_dict.values())\n",
    "test_mse_list = list(test_mse_dict.values())"
   ]
  },
  {
   "cell_type": "code",
   "execution_count": 197,
   "metadata": {},
   "outputs": [
    {
     "name": "stdout",
     "output_type": "stream",
     "text": [
      "avg train acc: 90.07 | avg test acc : 86.96 | avg train prec : 0.03 |avg test prec : 1.00 | avg train mse: 0.10 | avg test mse: 0.21 | avg train F1: 0.06 |  avg test F1: 0.88\n"
     ]
    }
   ],
   "source": [
    "print(f'avg train acc: {np.mean(train_accuracy_list):.2f} | 'f'avg test acc : {np.mean(test_accuracy_list):.2f} | '\n",
    "      f'avg train prec : {np.mean(train_precision_list):.2f} |'f'avg test prec : {np.mean(test_precision_list):.2f} |'\n",
    "      f' avg train mse: {np.mean(train_mse_list):.2f} | ' f'avg test mse: {np.mean(test_mse_list):.2f} |'\n",
    "      f' avg train F1: {np.mean(train_f1_list):.2f} | 'f' avg test F1: {np.mean(test_f1_list):.2f}')"
   ]
  },
  {
   "cell_type": "code",
   "execution_count": 198,
   "metadata": {},
   "outputs": [
    {
     "data": {
      "text/plain": [
       "<matplotlib.legend.Legend at 0x7fe692f29c10>"
      ]
     },
     "execution_count": 198,
     "metadata": {},
     "output_type": "execute_result"
    },
    {
     "data": {
      "image/png": "[encoded data removed]",
      "text/plain": [
       "<Figure size 1800x600 with 6 Axes>"
      ]
     },
     "metadata": {
      "needs_background": "light"
     },
     "output_type": "display_data"
    }
   ],
   "source": [
    "from tueplots import axes, bundles , figsizes, fonts,fontsizes\n",
    "# Create plots of all metrics \n",
    "\n",
    "# Global plot settings \n",
    "\n",
    "fig, ax = plt.subplots(nrows=2, ncols=3,figsize=(12,4))\n",
    "plt.rcParams.update({\"figure.dpi\": 150})\n",
    "plt.rcParams.update(bundles.neurips2022())\n",
    "plt.rcParams.update(fonts.neurips2022())\n",
    "plt.rcParams.update(axes.tick_direction( y=\"in\",x = \"in\"))\n",
    "plt.rcParams.update(axes.color(base=\"black\"))\n",
    "plt.rcParams.update(figsizes.neurips2022(nrows=2, ncols=3))\n",
    "plt.rcParams.update(fontsizes.neurips2022())\n",
    "\n",
    "\n",
    "#x-axis\n",
    "xrange = range(0,NUM_EPOCHS+1)\n",
    "\n",
    "# Loss\n",
    "ax[0,0].plot(range(0,len(train_loss_list)-1), train_loss_list[:-1], label='Train',color='magenta')\n",
    "ax[0,0].plot(range(0,len(test_loss_list)-1), test_loss_list[:-1], label='Test',color = 'darkgreen')\n",
    "ax[0,0].legend()\n",
    "ax[0,0].set_xlabel('Epoch')\n",
    "ax[0,0].set_ylabel('Loss')\n",
    "ax[0,0].set_title(' Loss')\n",
    "\n",
    "# Precison \n",
    "ax[0,1].plot(range(0,len(train_precision_list)), train_precision_list, label='Train ',color='magenta')\n",
    "ax[0,1].plot(range(0,len(test_precision_list)), test_precision_list, label='Test ',color = 'darkgreen')\n",
    "ax[0,1].set_xlabel('Epoch')\n",
    "ax[0,1].set_ylabel('Precision')\n",
    "ax[0,1].set_title(' Loss')\n",
    "ax[0,1].set_title(' Precision')\n",
    "ax[0,1].legend()\n",
    "# F1 \n",
    "ax[0,2].plot(range(0,len(train_f1_list)), train_f1_list, label='Train',color='magenta')\n",
    "ax[0,2].plot(range(0,len(test_f1_list)), test_f1_list, label='Test',color = 'darkgreen')\n",
    "ax[0,2].set_xlabel('Epoch')\n",
    "ax[0,2].set_ylabel('F1')\n",
    "ax[0,2].set_title(' Loss')\n",
    "ax[0,2].set_title(' F1 Score ')\n",
    "ax[0,2].legend()\n",
    "# Accuracy \n",
    "ax[1,0].plot(range(0,len(train_accuracy_list)), train_accuracy_list, label='Train',color='magenta')\n",
    "ax[1,0].plot(range(0,len(test_accuracy_list)), test_accuracy_list, label='Test',color = 'darkgreen')\n",
    "ax[1,0].set_xlabel('Epoch')\n",
    "ax[1,0].set_ylabel('Accuracy')\n",
    "ax[1,0].set_title(' Accurary')\n",
    "ax[1,0].legend()\n",
    "# MSE\n",
    "ax[1,1].plot(range(0,len(train_mse_list)), train_mse_list, label='Train',color='magenta')\n",
    "ax[1,1].plot(range(0,len(test_mse_list)), test_mse_list, label='Test',color = 'darkgreen')\n",
    "ax[1,1].set_xlabel('Epoch')\n",
    "ax[1,1].set_ylabel('mse')\n",
    "ax[1,1].set_title(' mean-squared error')\n",
    "ax[1,1].legend()\n",
    "# recall\n",
    "ax[1,2].plot(range(0,len(train_recall_list)), train_recall_list, label='Train',color='magenta')\n",
    "ax[1,2].plot(range(0,len(test_recall_list)), test_recall_list, label='Test',color = 'darkgreen')\n",
    "ax[1,2].set_xlabel('Epoch')\n",
    "ax[1,2].set_ylabel('recall')\n",
    "ax[1,2].set_title(' Recall')\n",
    "ax[1,2].legend()"
   ]
  },
  {
   "cell_type": "code",
   "execution_count": 199,
   "metadata": {},
   "outputs": [
    {
     "data": {
      "text/plain": [
       "<function matplotlib.pyplot.show(close=None, block=None)>"
      ]
     },
     "execution_count": 199,
     "metadata": {},
     "output_type": "execute_result"
    },
    {
     "data": {
      "image/png": "[encoded data removed]",
      "text/plain": [
       "<Figure size 1800x600 with 1 Axes>"
      ]
     },
     "metadata": {
      "needs_background": "light"
     },
     "output_type": "display_data"
    }
   ],
   "source": [
    "fig, ax = plt.subplots(figsize=(12,4))\n",
    "\n",
    "ax.set_facecolor('gainsboro')\n",
    "# Set boarder colour \n",
    "for spine in ax.spines:\n",
    "    ax.spines[spine].set_color('black')\n",
    "    ax.spines[spine].set_linewidth(1)\n",
    "\n",
    "ax.grid(color='white', axis='x', linestyle='-', linewidth=1, alpha=0.5)\n",
    "ax.grid(color='white', axis='y', linestyle='-', linewidth=1, alpha=0.5)\n",
    "\n",
    "epochs_train = len(train_accuracy_list)\n",
    "epochs_val = len(test_accuracy_list)\n",
    "\n",
    "plt.plot(np.arange(1, NUM_EPOCHS+1),train_accuracy_list, label='Training',color='magenta')\n",
    "plt.plot(np.arange(1, NUM_EPOCHS+1),test_accuracy_list, label='Validation',color='darkgreen')\n",
    "\n",
    "plt.xlabel('Epoch')\n",
    "plt.ylabel('Accuracy')\n",
    "plt.legend()\n",
    "\n",
    "plt.tight_layout()\n",
    "plt.show"
   ]
  },
  {
   "cell_type": "code",
   "execution_count": 200,
   "metadata": {},
   "outputs": [
    {
     "data": {
      "text/plain": [
       "<function matplotlib.pyplot.show(close=None, block=None)>"
      ]
     },
     "execution_count": 200,
     "metadata": {},
     "output_type": "execute_result"
    },
    {
     "data": {
      "image/png": "[encoded data removed]",
      "text/plain": [
       "<Figure size 1800x600 with 1 Axes>"
      ]
     },
     "metadata": {
      "needs_background": "light"
     },
     "output_type": "display_data"
    }
   ],
   "source": [
    "# Plot training and validation losses \n",
    "\n",
    "fig, ax = plt.subplots(figsize=(12,4))\n",
    "\n",
    "for spine in ax.spines:\n",
    "    ax.spines[spine].set_color('black')\n",
    "    ax.spines[spine].set_linewidth(1)\n",
    "\n",
    "ax.grid(color='white', axis='x', linestyle='-', linewidth=1, alpha=0.5)\n",
    "ax.grid(color='white', axis='y', linestyle='-', linewidth=1, alpha=0.5)\n",
    "\n",
    "\n",
    "plt.plot(train_loss_list, label='Training',color='magenta')\n",
    "plt.plot(test_loss_list, label='Validation',color='darkgreen')\n",
    "\n",
    "plt.xlabel('Epoch')\n",
    "plt.ylabel('Accuracy')\n",
    "plt.legend()\n",
    "plt.show\n",
    "\n"
   ]
  },
  {
   "cell_type": "code",
   "execution_count": 230,
   "metadata": {},
   "outputs": [],
   "source": [
    "def predict_function(dataset):\n",
    "\n",
    "    \"\"\"\n",
    "    Split dataset into features and targets \n",
    "    \n",
    "    \"\"\"\n",
    "    dataset_preclean = dataset\n",
    "    dataset = data_cleaning_function(dataset)\n",
    "    \n",
    "    features = dataset.drop('treat', axis=1) # Drop treated units \n",
    "    target = dataset.iloc[:,0] # target column\n",
    "    features_as_array = np.array(features)\n",
    "    target_as_array = np.array(target)\n",
    "\n",
    "    features_as_tensor = torch.tensor(features_as_array)\n",
    "    features_as_tensor= features_as_tensor.to(torch.float)\n",
    "\n",
    "    with torch.no_grad():\n",
    "        prediction =  model(features_as_tensor)\n",
    "   \n",
    "    prediction_array = prediction.numpy() \n",
    "    prediction_df = pd.DataFrame(prediction_array)\n",
    "    dataset_proba = pd.merge(dataset_preclean, prediction_df, left_index=True, right_index=True)\n",
    "    dataset_proba.rename(index=int, columns={0:'propensity_score'}, inplace = True) # rename column\n",
    "    dataset_proba['propensity_logit'] = np.log(dataset_proba['propensity_score'] / (1-dataset_proba['propensity_score']))\n",
    "\n",
    "    return dataset_proba"
   ]
  },
  {
   "cell_type": "code",
   "execution_count": 233,
   "metadata": {},
   "outputs": [],
   "source": [
    "nswCps_lalonde_ps_ANN = predict_function(nswCps_lalonde)\n",
    "nswPsid_lalonde_ps_ANN = predict_function(nswPsid_lalonde)\n",
    "#nswCps_dehWab_lalonde_ps_ANN = predict_function(nswCps_dehWab)\n",
    "#nswPsid_dehWab_lalonde_ps_ANN = predict_function(nswPsid_dehWab)"
   ]
  },
  {
   "cell_type": "code",
   "execution_count": null,
   "metadata": {},
   "outputs": [],
   "source": [
    "# save unmatched boost datasets \n",
    "nswCps_lalonde_ps_ANN.to_csv('/Users/mawuliagamah/gitprojects/causal_inference/causal_inference/datasets/quasi data/ann/unmatched/nswCps_lalonde_ps_unmatched_ANN.csv')\n",
    "nswPsid_lalonde_ps_ANN.to_csv('/Users/mawuliagamah/gitprojects/causal_inference/causal_inference/datasets/quasi data/ann/unmatched/nswPsid_lalonde_ps_unmatched_ANN.csv')\n",
    "nswCps_dehWab_ps_ANN.to_csv('/Users/mawuliagamah/gitprojects/causal_inference/causal_inference/datasets/quasi data/ann/unmatched/nswCps_dehWab_ps_unmatched_ANN.csv')\n",
    "nswPsid_dehWab_ps_ANN.to_csv('/Users/mawuliagamah/gitprojects/causal_inference/causal_inference/datasets/quasi data/ann/unmatched/nswPsid_dehWab_ps_unmatched_ANN.csv')"
   ]
  },
  {
   "cell_type": "markdown",
   "metadata": {},
   "source": [
    "# K-Fold cross validation"
   ]
  },
  {
   "cell_type": "code",
   "execution_count": null,
   "metadata": {},
   "outputs": [],
   "source": [
    "def train_test_cross_validation_function(trainloader,testloader,model): \n",
    "\n",
    "\n",
    "\n",
    "    # function call "
   ]
  },
  {
   "cell_type": "code",
   "execution_count": null,
   "metadata": {},
   "outputs": [],
   "source": [
    "def ANN(data,model,training):\n",
    "\n",
    "\n",
    "    # returns training results and dataframe with predicted propensity score \n",
    "\n",
    "    "
   ]
  }
 ],
 "metadata": {
  "kernelspec": {
   "display_name": "Python 3.8.13 ('base')",
   "language": "python",
   "name": "python3"
  },
  "language_info": {
   "codemirror_mode": {
    "name": "ipython",
    "version": 3
   },
   "file_extension": ".py",
   "mimetype": "text/x-python",
   "name": "python",
   "nbconvert_exporter": "python",
   "pygments_lexer": "ipython3",
   "version": "3.8.13"
  },
  "orig_nbformat": 4,
  "vscode": {
   "interpreter": {
    "hash": "44a7c5cf9512a4ad670122a007d348488b56f79d3796a47615dc74da9f36a764"
   }
  }
 },
 "nbformat": 4,
 "nbformat_minor": 2
}
