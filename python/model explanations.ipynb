{
 "cells": [
  {
   "cell_type": "code",
   "execution_count": 165,
   "metadata": {},
   "outputs": [],
   "source": [
    "# standard libraries \n",
    "import warnings\n",
    "import pandas as pd\n",
    "import numpy as np\n",
    "import matplotlib.pyplot as plt\n",
    "from matplotlib.lines import Line2D\n",
    "from tueplots import axes, bundles , figsizes, fonts,fontsizes\n",
    "import seaborn as sns\n",
    "import random \n",
    "from random import randrange"
   ]
  },
  {
   "cell_type": "code",
   "execution_count": 166,
   "metadata": {},
   "outputs": [],
   "source": [
    "# statistics \n",
    "import statsmodels.api as sm\n",
    "from scipy import stats as stat\n",
    "from sklearn.inspection import partial_dependence\n",
    "from sklearn.utils import resample\n",
    "from scipy.stats import sem\n",
    "from statsmodels.graphics.regressionplots import plot_partregress"
   ]
  },
  {
   "cell_type": "code",
   "execution_count": 167,
   "metadata": {},
   "outputs": [],
   "source": [
    "# ML models\n",
    "from sklearn import tree  # Classification tree        \n",
    "from xgboost import XGBClassifier # xgboost \n",
    "from sklearn.ensemble import RandomForestClassifier # Random forest "
   ]
  },
  {
   "cell_type": "code",
   "execution_count": 180,
   "metadata": {},
   "outputs": [],
   "source": [
    "# ML utilities \n",
    "from imblearn.combine import SMOTEENN # data augmentation \n",
    "from sklearn.utils import shuffle\n",
    "from sklearn.inspection import PartialDependenceDisplay\n",
    "from sklearn.model_selection import KFold, StratifiedKFold, cross_val_score\n",
    "from sklearn import metrics"
   ]
  },
  {
   "cell_type": "markdown",
   "metadata": {},
   "source": [
    "# read in data "
   ]
  },
  {
   "cell_type": "code",
   "execution_count": 169,
   "metadata": {},
   "outputs": [],
   "source": [
    "nsw = pd.read_csv('/Users/mawuliagamah/gitprojects/causal_inference/causal_inference/datasets/quasi data/unmatched data/NswLalonde_transformed.csv') # RCT\n",
    "nswre74 = pd.read_csv('/Users/mawuliagamah/gitprojects/causal_inference/causal_inference/datasets/quasi data/unmatched data/NswDeWab_transformed.csv') # RCT \n",
    "nswCps_lalonde =  pd.read_csv('/Users/mawuliagamah/gitprojects/causal_inference/causal_inference/datasets/quasi data/unmatched data/Quasi_NswCps_lalonde.csv') # Quasi data \n",
    "nswPsid_lalonde = pd.read_csv('/Users/mawuliagamah/gitprojects/causal_inference/causal_inference/datasets/quasi data/unmatched data/Quasi_NswPsid_lalonde.csv') # Quasi data \n",
    "nswCps_dehWab =   pd.read_csv('/Users/mawuliagamah/gitprojects/causal_inference/causal_inference/datasets/quasi data/unmatched data/Quasi_NswCps_dehWab.csv') # Quasi data \n",
    "nswPsid_dehWab =  pd.read_csv('/Users/mawuliagamah/gitprojects/causal_inference/causal_inference/datasets/quasi data/unmatched data/Quasi_NswPsid_dehWab.csv') # Quasi data "
   ]
  },
  {
   "cell_type": "markdown",
   "metadata": {},
   "source": [
    "<p> scatter plot's </p>"
   ]
  },
  {
   "cell_type": "code",
   "execution_count": 170,
   "metadata": {},
   "outputs": [
    {
     "name": "stderr",
     "output_type": "stream",
     "text": [
      "/Users/mawuliagamah/opt/anaconda3/lib/python3.8/site-packages/seaborn/_decorators.py:36: FutureWarning: Pass the following variables as keyword args: x, y. From version 0.12, the only valid positional argument will be `data`, and passing other arguments without an explicit keyword will result in an error or misinterpretation.\n",
      "  warnings.warn(\n",
      "/Users/mawuliagamah/opt/anaconda3/lib/python3.8/site-packages/statsmodels/nonparametric/smoothers_lowess.py:227: RuntimeWarning: invalid value encountered in divide\n",
      "  res, _ = _lowess(y, x, x, np.ones_like(x),\n"
     ]
    },
    {
     "data": {
      "image/png": "[encoded data removed]",
      "text/plain": [
       "<Figure size 432x288 with 1 Axes>"
      ]
     },
     "metadata": {
      "needs_background": "light"
     },
     "output_type": "display_data"
    }
   ],
   "source": [
    "sns.regplot(nswCps_lalonde['black'], nswCps_lalonde['re78'], lowess=True)\n",
    "plt.ylabel(' ')\n",
    "plt.xlabel(' ')\n",
    "plt.title(' ')\n",
    "plt.show()"
   ]
  },
  {
   "cell_type": "markdown",
   "metadata": {},
   "source": [
    "<p> building block 1 </p>"
   ]
  },
  {
   "cell_type": "markdown",
   "metadata": {},
   "source": [
    "\n",
    "plot = PartialDependenceDisplay.from_estimator(**pdp_params,response_method = \"predict_proba\")\n",
    "\n",
    "pdp_params = {\"estimator\":boostestedTree,\n",
    "               \"features\":plot_features,\n",
    "                \"X\":features,\n",
    "                \"feature_names\":plot_features }\n",
    "\n",
    "target_variable = \"treat\"\n",
    "covariateSelection1 = ['treat','age','education*','black','hispanic','married','nodegree','re75']\n",
    "features,target = dataset(target_variable,covariateSelection1,nswCps_lalonde)\n",
    "\n",
    "features,target = dataset(target_variable,covariateSelection1,nswCps_lalonde)\n",
    "\n",
    "hyper_parameter_ict = {\"objective\":\"binary:logistic\",\"seed\":0,\n",
    "                       \"booster\":\"dart\", \"colsample_bytree\":0.3,\n",
    "                         \"gamma\":0.5, \"learning_rate\" : 0.05,\n",
    "                           \"max_depth\":None, \"min_child_weight\":2,\n",
    "                      \"subsample\":0.5, \"nthread\":4 }\n",
    "plot_features = ['treat','age','education*','black','hispanic','married','nodegree','re75']\n",
    "\n",
    "\n",
    "target_variable = \"treat\"\n",
    "covariateSelection1 = ['treat','age','education*','black','hispanic','married','nodegree','re75']\n",
    "features,target = dataset(target_variable,covariateSelection1,nswCps_lalonde)"
   ]
  },
  {
   "cell_type": "markdown",
   "metadata": {},
   "source": [
    "<p> building block 2  </p>"
   ]
  },
  {
   "cell_type": "markdown",
   "metadata": {},
   "source": [
    "def features_and_targets_function(target,features,dataset):\n",
    "        \"\"\"\n",
    "        Split dataset into features and targets \n",
    "        \"\"\"\n",
    "        dataset = shuffle(dataset).reset_index(drop=True) # shuffle data \n",
    "        target = dataset[target]\n",
    "        features = dataset[features]\n",
    "        return features,target;\n",
    "\n",
    "\n",
    "target_variable = \"treat\"\n",
    "covariateSelection1 = ['treat','age','education*','black','hispanic','married','nodegree','re75']\n",
    "features,target = dataset(target_variable,covariateSelection1,nswCps_lalonde)\n",
    "\n",
    "\n",
    "def fitandRunModelfunct(hyper_parameter_ict,features,target):\n",
    "\n",
    "        model = XGBClassifier(**hyper_parameter_ict).fit(features,target)  # unpack dictionary \n",
    "\n",
    "        return model\n",
    "\n",
    "\n",
    "model = fitandRunModelfunct(hyper_parameter_ict,features,target)\n",
    "\n",
    "def partialdependenceplotfunct(model,features,feature_string, target_string):\n",
    "\n",
    "        \n",
    "\n",
    "        x_values = np.linspace(np.min(features[feature_string]), np.max(features[feature_string]))\n",
    "\n",
    "        pdp_values = []\n",
    "        for n in x_values:\n",
    "            X_pdp = features.copy()\n",
    "            X_pdp[feature_string] = n\n",
    "            pdp_values.append(np.mean(model.predict(X_pdp)))\n",
    "\n",
    "        plt.plot(x_values, pdp_values)\n",
    "        plt.ylabel(target_string)\n",
    "        plt.xlabel(feature_string)\n",
    "        plt.title('Partial dependence plot for treated vs boosted tree')\n",
    "        plt.show()\n",
    "\n",
    "        return plot\n",
    "\n",
    "feature_string = \"education*\"\n",
    "target_string = \"treat\"\n",
    "partialdependenceplotfunct(model,features,feature_string,target_string)       "
   ]
  },
  {
   "cell_type": "markdown",
   "metadata": {},
   "source": [
    "boostestedTree = XGBClassifier(hyper_parameter_ict).fit(features,target)  # unpack dictionary "
   ]
  },
  {
   "cell_type": "markdown",
   "metadata": {},
   "source": [
    "def features_and_targets_function(target,features,dataset):\n",
    "        \"\"\"\n",
    "        Split dataset into features and targets \n",
    "        \"\"\"\n",
    "        dataset = shuffle(dataset).reset_index(drop=True) # shuffle data \n",
    "        target = dataset[target]\n",
    "        features = dataset[features]\n",
    "        return features,target;\n",
    "\n",
    "\n",
    "target_variable = \"treat\"\n",
    "covariateSelection1 = ['treat','age','education*','black','hispanic','married','nodegree','re75']\n",
    "features,target = dataset(target_variable,covariateSelection1,nswCps_lalonde)\n"
   ]
  },
  {
   "cell_type": "markdown",
   "metadata": {},
   "source": [
    "boostestedTree = XGBClassifier(**hyper_parameter_ict).fit(features,target)  # unpack dictionary \n",
    "\n",
    "x_values = np.linspace(np.min(features['age']), np.max(features['age']))\n",
    "pdp_values = []\n",
    "for n in x_values:\n",
    "  X_pdp = features.copy()\n",
    "  X_pdp['age'] = n\n",
    "  pdp_values.append(np.mean(boostestedTree.predict(X_pdp)))\n",
    "\n",
    "plt.plot(x_values, pdp_values)\n",
    "plt.ylabel('treated')\n",
    "plt.xlabel('age')\n",
    "plt.title('Partial dependence plot for treated vs boosted tree')\n",
    "plt.show()"
   ]
  },
  {
   "cell_type": "markdown",
   "metadata": {},
   "source": [
    "pdp_values"
   ]
  },
  {
   "cell_type": "markdown",
   "metadata": {},
   "source": [
    "# WIP BOOTSTRAPPED partial dependence plot\n",
    "\n",
    "n_bootstrap = 100\n",
    "\n",
    "nox_values = np.linspace(np.min(X['NOX']), np.max(X['NOX']))\n",
    "\n",
    "expected_value_bootstrap_replications = []\n",
    "\n",
    "for _ in range(n_bootstrap):\n",
    "    X_boot, y_boot = resample(X, y)\n",
    "    rf_model_boot = RandomForestRegressor(n_estimators=100).fit(X_boot, y_boot)\n",
    "    \n",
    "    bootstrap_model_predictions = []\n",
    "    for n in nox_values:\n",
    "        X_pdp = X_boot.copy()\n",
    "        X_pdp['NOX'] = n\n",
    "        bootstrap_model_predictions.append(np.mean(rf_model.predict(X_pdp)))\n",
    "    expected_value_bootstrap_replications.append(bootstrap_model_predictions)\n",
    "    \n",
    "expected_value_bootstrap_replications = np.array(expected_value_bootstrap_replications)\n",
    "for ev in expected_value_bootstrap_replications:\n",
    "    plt.plot(nox_values, ev, color='blue', alpha=.1)\n",
    "\n",
    "prediction_se = np.std(expected_value_bootstrap_replications, axis=0)\n",
    "\n",
    "plt.plot(nox_values, pdp_values, label='Model predictions')\n",
    "plt.fill_between(nox_values, pdp_values - 3*prediction_se, pdp_values + 3*prediction_se, alpha=.5, label='Bootstrap CI')\n",
    "plt.legend()\n",
    "plt.ylabel('Median house price')\n",
    "plt.xlabel('NOX')\n",
    "plt.title('Partial dependence plot for NOX vs Price for Random Forest')\n",
    "plt.show()"
   ]
  },
  {
   "cell_type": "markdown",
   "metadata": {},
   "source": [
    "plot.figure_.suptitle(\n",
    "    \"Partial dependence plt\"\n",
    ")\n",
    "plot.figure_.subplots_adjust(hspace=0.3)\n",
    "\n",
    "\n",
    "plt.rcParams.update({\"figure.dpi\": 300}) \n",
    "plt.rcParams.update(bundles.neurips2022())\n",
    "plt.rcParams.update(fonts.neurips2022())\n",
    "plt.rcParams.update(axes.tick_direction( y=\"in\"))\n",
    "plt.rcParams.update(axes.color(base=\"black\"))\n",
    "plt.rcParams.update(figsizes.neurips2022(nrows=1, ncols=1))\n",
    "plt.rcParams.update({'font.size': 18})"
   ]
  },
  {
   "cell_type": "code",
   "execution_count": null,
   "metadata": {},
   "outputs": [],
   "source": [
    "\n",
    "hyper_parameter_ict = {\"objective\":\"binary:logistic\",\"seed\":0,\n",
    "                       \"booster\":\"dart\", \"colsample_bytree\":0.3,\n",
    "                         \"gamma\":0.5, \"learning_rate\" : 0.05,\n",
    "                           \"max_depth\":None, \"min_child_weight\":2,\n",
    "                      \"subsample\":0.5, \"nthread\":4 }\n",
    "\n",
    "\n",
    "# models \n",
    "\n",
    "# Function called fit model \n",
    "# def fitandRunModelfunct():\n",
    "#  probabilities = model.predict_proba(dataset.drop('treat', axis=1))\n",
    "\n",
    "# plotting function\n",
    "#from sklearn import tree\n",
    "#import graphviz\n",
    "#tree_graph = tree.export_graphviz(tree_model, out_file=None, feature_names=feature_names)\n",
    "#graphviz.Source(tree_graph)"
   ]
  },
  {
   "cell_type": "markdown",
   "metadata": {},
   "source": [
    "    #@classmethod\n",
    "    #def variables_to_plot(self,features_string,target_string):\n",
    "        #dataset = shuffle(self.dataset).reset_index(drop=True) # shuffle data \n",
    "    #    self.features_str = features_string\n",
    "    #    self.target_str = target_string\n",
    "    #    return self.features_str,self.target_str\n"
   ]
  },
  {
   "cell_type": "markdown",
   "metadata": {},
   "source": [
    "def features_and_targets_function(target,features,dataset):\n",
    "        \"\"\"\n",
    "        Split dataset into features and targets \n",
    "        \"\"\"\n",
    "        dataset = shuffle(dataset).reset_index(drop=True) # shuffle data \n",
    "        target = dataset[target]\n",
    "        features = dataset[features]\n",
    "        return features,target;\n",
    "\n",
    "target_variable = \"treat\"\n",
    "covariateSelection1 = ['treat','age','education*','black','hispanic','married','nodegree','re75']\n",
    "features,target = features_and_targets_function(target_variable,covariateSelection1,nswCps_lalonde)"
   ]
  },
  {
   "cell_type": "code",
   "execution_count": null,
   "metadata": {},
   "outputs": [],
   "source": [
    "# Load classifiers "
   ]
  },
  {
   "cell_type": "code",
   "execution_count": 218,
   "metadata": {},
   "outputs": [],
   "source": [
    "class explainer(object):\n",
    "    \"\"\"\n",
    "    explainer class takes in a model, dataset, list of covariates, list of targets and feature and target to plot \n",
    "    \"\"\"\n",
    "    # Class attribute\n",
    "    def __init__(self,model,dataset,covariates,target,xy_list): # initialise class \n",
    "                  #bootstrap true false           \n",
    "        super(explainer, self).__init__() \n",
    "        self.model = model\n",
    "        self.dataset = shuffle(dataset).reset_index(drop=True) # shuffle data\n",
    "        self.features = dataset[covariates]\n",
    "        self.target = dataset[target]\n",
    "        self.features_str = xy_list[0]\n",
    "        self.target_str = xy_list[1]\n",
    "        \n",
    "    \"\"\"\n",
    "    create partial dependence plot\n",
    "    \"\"\"    \n",
    "    \n",
    "    def partial_dep_plot(self,ax):\n",
    "        \"\"\"\n",
    "        parameters\n",
    "\n",
    "        \"\"\"\n",
    "        \n",
    "\n",
    "        x_values = np.linspace(np.min(self.features[self.features_str]), np.max(self.features[self.features_str])) # x-range for the feature\n",
    "        pdp_values = []\n",
    "        for n in x_values:\n",
    "            X_pdp = self.features.copy()\n",
    "            X_pdp[self.features_str] = n\n",
    "            pdp_values.append(np.mean(self.model.predict(X_pdp)))  \n",
    "        ax = ax\n",
    "        ax.plot(x_values, pdp_values)\n",
    "        ax.set_ylabel(self.target_str)\n",
    "        ax.set_xlabel(self.features_str)\n",
    "        ax.set_title('Partial dependence plot for treated vs boosted tree')\n",
    "        return ax\n",
    "    \n",
    "    # def plotTree(ax)\n",
    "\n"
   ]
  },
  {
   "cell_type": "code",
   "execution_count": 140,
   "metadata": {},
   "outputs": [],
   "source": [
    "def features_and_targets_function(target,features,dataset):\n",
    "        \"\"\"\n",
    "        Split dataset into features and targets \n",
    "        \"\"\"\n",
    "        dataset = shuffle(dataset).reset_index(drop=True) # shuffle data \n",
    "        target = dataset[target]\n",
    "        features = dataset[features]\n",
    "        return features,target;\n"
   ]
  },
  {
   "cell_type": "markdown",
   "metadata": {},
   "source": [
    "<p> KEY </p>\n",
    "<p> 1 - nsw treated + CPS control  (Lalonde's original sample) </p>\n",
    "<p> 2 - nsw treated + PSID control (Lalonde's original sample) </p>\n",
    "<p> 3 - nsw treated + CPS control  (Dehejia & Wahba sub-sample) </p>\n",
    "<p> 4 - nsw treated + PSID control (Dehejia & Wahba sub-sample) </p>"
   ]
  },
  {
   "cell_type": "markdown",
   "metadata": {},
   "source": [
    "# Fit all tree based models "
   ]
  },
  {
   "cell_type": "code",
   "execution_count": 179,
   "metadata": {},
   "outputs": [
    {
     "data": {
      "text/html": [
       "<div>\n",
       "<style scoped>\n",
       "    .dataframe tbody tr th:only-of-type {\n",
       "        vertical-align: middle;\n",
       "    }\n",
       "\n",
       "    .dataframe tbody tr th {\n",
       "        vertical-align: top;\n",
       "    }\n",
       "\n",
       "    .dataframe thead th {\n",
       "        text-align: right;\n",
       "    }\n",
       "</style>\n",
       "<table border=\"1\" class=\"dataframe\">\n",
       "  <thead>\n",
       "    <tr style=\"text-align: right;\">\n",
       "      <th></th>\n",
       "      <th>treat</th>\n",
       "      <th>age</th>\n",
       "      <th>education*</th>\n",
       "      <th>black</th>\n",
       "      <th>hispanic</th>\n",
       "      <th>married</th>\n",
       "      <th>nodegree</th>\n",
       "      <th>re75</th>\n",
       "    </tr>\n",
       "  </thead>\n",
       "  <tbody>\n",
       "    <tr>\n",
       "      <th>0</th>\n",
       "      <td>1.0</td>\n",
       "      <td>37</td>\n",
       "      <td>11</td>\n",
       "      <td>1.0</td>\n",
       "      <td>0.0</td>\n",
       "      <td>1.0</td>\n",
       "      <td>1.0</td>\n",
       "      <td>0</td>\n",
       "    </tr>\n",
       "    <tr>\n",
       "      <th>1</th>\n",
       "      <td>1.0</td>\n",
       "      <td>22</td>\n",
       "      <td>9</td>\n",
       "      <td>0.0</td>\n",
       "      <td>1.0</td>\n",
       "      <td>0.0</td>\n",
       "      <td>1.0</td>\n",
       "      <td>0</td>\n",
       "    </tr>\n",
       "    <tr>\n",
       "      <th>2</th>\n",
       "      <td>1.0</td>\n",
       "      <td>30</td>\n",
       "      <td>12</td>\n",
       "      <td>1.0</td>\n",
       "      <td>0.0</td>\n",
       "      <td>0.0</td>\n",
       "      <td>0.0</td>\n",
       "      <td>0</td>\n",
       "    </tr>\n",
       "    <tr>\n",
       "      <th>3</th>\n",
       "      <td>1.0</td>\n",
       "      <td>27</td>\n",
       "      <td>11</td>\n",
       "      <td>1.0</td>\n",
       "      <td>0.0</td>\n",
       "      <td>0.0</td>\n",
       "      <td>1.0</td>\n",
       "      <td>0</td>\n",
       "    </tr>\n",
       "    <tr>\n",
       "      <th>4</th>\n",
       "      <td>1.0</td>\n",
       "      <td>33</td>\n",
       "      <td>8</td>\n",
       "      <td>1.0</td>\n",
       "      <td>0.0</td>\n",
       "      <td>0.0</td>\n",
       "      <td>1.0</td>\n",
       "      <td>0</td>\n",
       "    </tr>\n",
       "    <tr>\n",
       "      <th>...</th>\n",
       "      <td>...</td>\n",
       "      <td>...</td>\n",
       "      <td>...</td>\n",
       "      <td>...</td>\n",
       "      <td>...</td>\n",
       "      <td>...</td>\n",
       "      <td>...</td>\n",
       "      <td>...</td>\n",
       "    </tr>\n",
       "    <tr>\n",
       "      <th>16284</th>\n",
       "      <td>0.0</td>\n",
       "      <td>22</td>\n",
       "      <td>12</td>\n",
       "      <td>1.0</td>\n",
       "      <td>0.0</td>\n",
       "      <td>0.0</td>\n",
       "      <td>0.0</td>\n",
       "      <td>6801</td>\n",
       "    </tr>\n",
       "    <tr>\n",
       "      <th>16285</th>\n",
       "      <td>0.0</td>\n",
       "      <td>20</td>\n",
       "      <td>12</td>\n",
       "      <td>1.0</td>\n",
       "      <td>0.0</td>\n",
       "      <td>1.0</td>\n",
       "      <td>0.0</td>\n",
       "      <td>11832</td>\n",
       "    </tr>\n",
       "    <tr>\n",
       "      <th>16286</th>\n",
       "      <td>0.0</td>\n",
       "      <td>37</td>\n",
       "      <td>12</td>\n",
       "      <td>0.0</td>\n",
       "      <td>0.0</td>\n",
       "      <td>0.0</td>\n",
       "      <td>0.0</td>\n",
       "      <td>1559</td>\n",
       "    </tr>\n",
       "    <tr>\n",
       "      <th>16287</th>\n",
       "      <td>0.0</td>\n",
       "      <td>47</td>\n",
       "      <td>9</td>\n",
       "      <td>0.0</td>\n",
       "      <td>0.0</td>\n",
       "      <td>1.0</td>\n",
       "      <td>1.0</td>\n",
       "      <td>11384</td>\n",
       "    </tr>\n",
       "    <tr>\n",
       "      <th>16288</th>\n",
       "      <td>0.0</td>\n",
       "      <td>40</td>\n",
       "      <td>10</td>\n",
       "      <td>0.0</td>\n",
       "      <td>0.0</td>\n",
       "      <td>0.0</td>\n",
       "      <td>1.0</td>\n",
       "      <td>13144</td>\n",
       "    </tr>\n",
       "  </tbody>\n",
       "</table>\n",
       "<p>16289 rows × 8 columns</p>\n",
       "</div>"
      ],
      "text/plain": [
       "       treat  age  education*  black  hispanic  married  nodegree   re75\n",
       "0        1.0   37          11    1.0       0.0      1.0       1.0      0\n",
       "1        1.0   22           9    0.0       1.0      0.0       1.0      0\n",
       "2        1.0   30          12    1.0       0.0      0.0       0.0      0\n",
       "3        1.0   27          11    1.0       0.0      0.0       1.0      0\n",
       "4        1.0   33           8    1.0       0.0      0.0       1.0      0\n",
       "...      ...  ...         ...    ...       ...      ...       ...    ...\n",
       "16284    0.0   22          12    1.0       0.0      0.0       0.0   6801\n",
       "16285    0.0   20          12    1.0       0.0      1.0       0.0  11832\n",
       "16286    0.0   37          12    0.0       0.0      0.0       0.0   1559\n",
       "16287    0.0   47           9    0.0       0.0      1.0       1.0  11384\n",
       "16288    0.0   40          10    0.0       0.0      0.0       1.0  13144\n",
       "\n",
       "[16289 rows x 8 columns]"
      ]
     },
     "execution_count": 179,
     "metadata": {},
     "output_type": "execute_result"
    }
   ],
   "source": [
    "# Features and Tarfets \n",
    "target_variable = \"treat\" # target \n",
    "covariateSelection1 = ['treat','age','education*','black','hispanic','married','nodegree','re75'] # features \n",
    "\n",
    "nswCps_lalonde[covariateSelection1]"
   ]
  },
  {
   "cell_type": "code",
   "execution_count": 224,
   "metadata": {},
   "outputs": [],
   "source": [
    "# Features and Tarfets \n",
    "target_variable = \"treat\" # target \n",
    "#covariateSelection1 = ['treat','age','education*','black','hispanic','married','nodegree','re75'] # features \n",
    "covariateSelection2 = ['age','education*','black','hispanic','married','nodegree','re75'] # features \n",
    "# features and target function to split dataset up ( this could go into the explainer class)\n",
    "features,target = features_and_targets_function(target_variable,covariateSelection1,nswCps_lalonde) \n",
    "\n",
    "# Hyper parameters ( taken from grid search)\n",
    "\n",
    "# CART\n",
    "cart_hyper_params1 = {\"random_state\":0,\"criterion\":'entropy',\n",
    "                        \"max_depth\":5,\"max_leaf_nodes\":12,\n",
    "                      \"min_samples_leaf\":2}     \n",
    "\n",
    "#Random forest\n",
    "forest_hyper_params1 = {\"random_state\":0,\"criterion\":'entropy',\n",
    "                            \"max_depth\":8,\"max_features\":'sqrt',\"min_samples_split\" :2,\n",
    "                          \"n_estimators\":100}     \n",
    "\n",
    "# xgboost \n",
    "boost_hyper_params1 = {\"objective\":\"binary:logistic\",\"seed\":0,\n",
    "                       \"booster\":\"dart\", \"colsample_bytree\":0.3,\n",
    "                         \"gamma\":0.5, \"learning_rate\" : 0.05,\n",
    "                           \"max_depth\":None, \"min_child_weight\":2,\n",
    "                        \"subsample\":0.5, \"nthread\":4 }                \n",
    "\n"
   ]
  },
  {
   "cell_type": "markdown",
   "metadata": {},
   "source": [
    "# Fit model, resampling true or false \n",
    "# This will probably end up being a class \n",
    "# KFold cross validation \n",
    "def evaluate(model,hyper_params,features_target,dataset,data_augmentation):\n",
    "\t# prepare the cross-validation procedure\n",
    "\tskf = StratifiedKFold(n_splits=5, shuffle=True,random_state=1)\n",
    "\t\n",
    "\t#Function to get model scores\t\n",
    "\tdef get_score(model,X_train , X_test, y_train , y_test,fold,store):\n",
    "\t\tmodel.fit(X_train,y_train) # Fit model \n",
    "\t\tprediction = model.predict(X_test) # Make prediction \n",
    "\t\tpredicted_proba = model.predict_proba(X_test) # Probability prediction         \n",
    "\t\tprediction_proba_df = pd.DataFrame(predicted_proba)\n",
    "\t\tpos_predicted_proba = prediction_proba_df[1] # Take positive probability predictions for ROC_AUC score  \n",
    "\t\tstore.loc['Accuracy:', fold] = metrics.balanced_accuracy_score(y_test, prediction)\n",
    "\t\tstore.loc['Precision:', fold] = metrics.precision_score(y_test, prediction)\n",
    "\t\tstore.loc['Recall:', fold] = metrics.recall_score(y_test, prediction)\n",
    "\t\tstore.loc['MSE:', fold] =  metrics.mean_squared_error(y_test, prediction)\n",
    "\t\tstore.loc['MAE:', fold] =  metrics.mean_absolute_error(y_test, prediction)\n",
    "\t\tstore.loc['R^2:', fold] =  metrics.r2_score(y_test, prediction)\n",
    "\t\tstore.loc['auc:', fold] =  metrics.roc_auc_score(y_test, prediction)\n",
    "\t\tstore.loc['roc_auc:', fold] =  metrics.roc_auc_score(y_test, pos_predicted_proba)\n",
    "\t\tstore.loc['F1:', fold] =  metrics.f1_score(y_test, prediction)\n",
    "\t\tstore.loc['log-loss:', fold] = metrics.log_loss(y_test, predicted_proba)\n",
    "\t\n",
    "\n",
    "\tresample=SMOTEENN(random_state=0)\n",
    "\t#Kfold training loop\n",
    "\tfor fold, (train_index , test_index) in enumerate(skf.split(features,target)):\n",
    "\t\t#print(\"TRAIN:\", train_index, \"TEST:\", test_index)\n",
    "\t\tX_train , X_test, y_train , y_test = features.iloc[train_index,:],features.iloc[test_index,:],\\\n",
    "\t\t\t                                 target[train_index] , target[test_index]\n",
    "\t\t\t\t\t\t\t\t\t\t\t \n",
    "\t\tX_train, y_train = resample.fit_resample(X_train, y_train)\t\n",
    "\t\tshuffled = pd.concat([pd.DataFrame(X_train),pd.DataFrame(y_train)],axis=1).sample(frac=1,random_state=42).reset_index(drop=True)\n",
    "\t\t#resplit into test and train \n",
    "\t\tX_train, y_train = shuffled.iloc[:,:-1], shuffled.iloc[:,-1]\n",
    "\t\tget_score(input_model,X_train , X_test, y_train , y_test,fold,store)\n",
    "\t\t# return statement here with python dataframe of metrics "
   ]
  },
  {
   "cell_type": "code",
   "execution_count": 225,
   "metadata": {},
   "outputs": [],
   "source": [
    "def fit_data(model,hyper_params,features_target,dataset,data_augmentation):\n",
    "\n",
    "    \"\"\" Fits a chose model to given dataset , dataset will be shuffled\n",
    "    Parameters\n",
    "    ----------\n",
    "    model : \n",
    "    hyper_params : \n",
    "    features_target :\n",
    "    data_augmentation :\n",
    "    dataset :   \n",
    "    \"\"\"\n",
    "\n",
    "    def features_and_targets_function(target,features,dataset):\n",
    "        \"\"\"\n",
    "        Split dataset into features and targets\n",
    "        Parameters\n",
    "        ---------- \n",
    "        features : \n",
    "        target : \n",
    "        \"\"\"\n",
    "\n",
    "        dataset = shuffle(dataset).reset_index(drop=True) # shuffle data \n",
    "        target = dataset[target]\n",
    "        features = dataset[features]\n",
    "        return features,target;\n",
    "\n",
    "    features,target = features_and_targets_function(features_target['target'],features_target['features'],nswCps_lalonde) \n",
    "\n",
    "    if data_augmentation == \"none\":\n",
    "        model = model(**hyper_params)\n",
    "        fitted_model = model.fit(features,target)\n",
    "\n",
    "    elif data_augmentation == \"smoteEnn\":\n",
    "        resample=SMOTEENN(random_state=0)\n",
    "        print(\"smote here , do we use smote when fitting to the whole dataset?\")\n",
    "    else:\n",
    "        pass\n",
    "    \n",
    "    return fitted_model\n",
    "    "
   ]
  },
  {
   "cell_type": "code",
   "execution_count": 226,
   "metadata": {},
   "outputs": [
    {
     "data": {
      "text/plain": [
       "['age', 'education*', 'black', 'hispanic', 'married', 'nodegree', 're75']"
      ]
     },
     "execution_count": 226,
     "metadata": {},
     "output_type": "execute_result"
    }
   ],
   "source": [
    "covariateSelection2"
   ]
  },
  {
   "cell_type": "code",
   "execution_count": 227,
   "metadata": {},
   "outputs": [],
   "source": [
    "features_target_dictionary = {\"target\":\"treat\",\"features\":covariateSelection2}  "
   ]
  },
  {
   "cell_type": "code",
   "execution_count": 237,
   "metadata": {},
   "outputs": [
    {
     "name": "stdout",
     "output_type": "stream",
     "text": [
      "[20:13:37] WARNING: /Users/runner/work/xgboost/xgboost/python-package/build/temp.macosx-10.9-x86_64-3.7/xgboost/src/learner.cc:627: \n",
      "Parameters: { \"criterion\", \"max_leaf_nodes\", \"min_samples_leaf\" } might not be used.\n",
      "\n",
      "  This could be a false alarm, with some parameters getting used by language bindings but\n",
      "  then being mistakenly passed down to XGBoost core, or some parameter actually being used\n",
      "  but getting flagged wrongly here. Please open an issue if you find any such cases.\n",
      "\n",
      "\n"
     ]
    }
   ],
   "source": [
    "tree1 = fit_data(tree.DecisionTreeClassifier,cart_hyper_params1,features_target_dictionary,nsw,\"none\")\n",
    "forest1 = fit_data(RandomForestClassifier,cart_hyper_params1,features_target_dictionary,nsw,\"none\")\n",
    "boost1 = fit_data(XGBClassifier,cart_hyper_params1,features_target_dictionary,nsw,\"none\")"
   ]
  },
  {
   "cell_type": "markdown",
   "metadata": {},
   "source": [
    "#### analysis"
   ]
  },
  {
   "cell_type": "code",
   "execution_count": 238,
   "metadata": {},
   "outputs": [],
   "source": [
    "# Boosted tree\n",
    "pdp = explainer(boost1,nsw,covariateSelection2,target_variable,[\"re75\",\"treat\"])\n",
    "pdp2 = explainer(boost1,nsw,covariateSelection2,target_variable,[\"education*\",\"treat\"])\n",
    "pdp3 = explainer(boost1,nsw,covariateSelection2,target_variable,[\"black\",\"treat\"])\n",
    "pdp4 = explainer(boost1,nsw,covariateSelection2,target_variable,[\"hispanic\",\"treat\"])\n",
    "pdp5 = explainer(boost1,nsw,covariateSelection2,target_variable,[\"age\",\"treat\"])\n",
    "pdp6 = explainer(boost1,nsw,covariateSelection2,target_variable,[\"married\",\"treat\"])"
   ]
  },
  {
   "cell_type": "code",
   "execution_count": 239,
   "metadata": {},
   "outputs": [],
   "source": [
    "# Random Forest\n",
    "pdp = explainer(boost1,nsw,covariateSelection2,target_variable,[\"re75\",\"treat\"])\n",
    "pdp2 = explainer(boost1,nsw,covariateSelection2,target_variable,[\"education*\",\"treat\"])\n",
    "pdp3 = explainer(boost1,nsw,covariateSelection2,target_variable,[\"black\",\"treat\"])\n",
    "pdp4 = explainer(boost1,nsw,covariateSelection2,target_variable,[\"hispanic\",\"treat\"])\n",
    "pdp5 = explainer(boost1,nsw,covariateSelection2,target_variable,[\"age\",\"treat\"])\n",
    "pdp6 = explainer(boost1,nsw,covariateSelection2,target_variable,[\"married\",\"treat\"])"
   ]
  },
  {
   "cell_type": "code",
   "execution_count": 240,
   "metadata": {},
   "outputs": [
    {
     "data": {
      "image/png": "[encoded data removed]",
      "text/plain": [
       "<Figure size 1800x576 with 6 Axes>"
      ]
     },
     "metadata": {
      "needs_background": "light"
     },
     "output_type": "display_data"
    }
   ],
   "source": [
    "\n",
    "# NSW trial plots \n",
    "fig, ax = plt.subplots(nrows=2, ncols=3,figsize=(25,8))\n",
    "\n",
    "# Boosted Tree\n",
    "plot1 = pdp.partial_dep_plot(ax[0,0])\n",
    "plot2 = pdp2.partial_dep_plot(ax[0,1])\n",
    "plot3 = pdp3.partial_dep_plot(ax[0,2])\n",
    "plot4 = pdp4.partial_dep_plot(ax[1,0])\n",
    "plot5 = pdp5.partial_dep_plot(ax[1,1])\n",
    "plot6 = pdp6.partial_dep_plot(ax[1,2])\n",
    "\n",
    "plt.show()\n"
   ]
  },
  {
   "cell_type": "markdown",
   "metadata": {},
   "source": [
    "# Decision tree explainer"
   ]
  },
  {
   "cell_type": "markdown",
   "metadata": {},
   "source": [
    "<p> read the tree's </p>\n",
    "<p> Leaves with children show their splitting criterion on the top  </p>\n",
    "<p> The pair of values at the bottom show the count of False values and True values for the target respectively, of data points in that node of the tree.</p>"
   ]
  },
  {
   "cell_type": "code",
   "execution_count": 241,
   "metadata": {},
   "outputs": [
    {
     "data": {
      "image/svg+xml": "<?xml version=\"1.0\" encoding=\"UTF-8\" standalone=\"no\"?>\n<!DOCTYPE svg PUBLIC \"-//W3C//DTD SVG 1.1//EN\"\n \"http://www.w3.org/Graphics/SVG/1.1/DTD/svg11.dtd\">\n<!-- Generated by graphviz version 5.0.0 (20220707.1540)\n -->\n<!-- Title: Tree Pages: 1 -->\n<svg width=\"924pt\" height=\"581pt\"\n viewBox=\"0.00 0.00 924.00 581.00\" xmlns=\"http://www.w3.org/2000/svg\" xmlns:xlink=\"http://www.w3.org/1999/xlink\">\n<g id=\"graph0\" class=\"graph\" transform=\"scale(1 1) rotate(0) translate(4 577)\">\n<title>Tree</title>\n<polygon fill=\"white\" stroke=\"transparent\" points=\"-4,4 -4,-577 920,-577 920,4 -4,4\"/>\n<!-- 0 -->\n<g id=\"node1\" class=\"node\">\n<title>0</title>\n<polygon fill=\"none\" stroke=\"black\" points=\"583.5,-573 443.5,-573 443.5,-505 583.5,-505 583.5,-573\"/>\n<text text-anchor=\"middle\" x=\"513.5\" y=\"-557.8\" font-family=\"Helvetica,sans-Serif\" font-size=\"14.00\">black &lt;= 0.5</text>\n<text text-anchor=\"middle\" x=\"513.5\" y=\"-542.8\" font-family=\"Helvetica,sans-Serif\" font-size=\"14.00\">entropy = 0.131</text>\n<text text-anchor=\"middle\" x=\"513.5\" y=\"-527.8\" font-family=\"Helvetica,sans-Serif\" font-size=\"14.00\">samples = 16289</text>\n<text text-anchor=\"middle\" x=\"513.5\" y=\"-512.8\" font-family=\"Helvetica,sans-Serif\" font-size=\"14.00\">value = [15992, 297]</text>\n</g>\n<!-- 1 -->\n<g id=\"node2\" class=\"node\">\n<title>1</title>\n<polygon fill=\"none\" stroke=\"black\" points=\"455.5,-469 323.5,-469 323.5,-401 455.5,-401 455.5,-469\"/>\n<text text-anchor=\"middle\" x=\"389.5\" y=\"-453.8\" font-family=\"Helvetica,sans-Serif\" font-size=\"14.00\">re75 &lt;= 8853.5</text>\n<text text-anchor=\"middle\" x=\"389.5\" y=\"-438.8\" font-family=\"Helvetica,sans-Serif\" font-size=\"14.00\">entropy = 0.037</text>\n<text text-anchor=\"middle\" x=\"389.5\" y=\"-423.8\" font-family=\"Helvetica,sans-Serif\" font-size=\"14.00\">samples = 14875</text>\n<text text-anchor=\"middle\" x=\"389.5\" y=\"-408.8\" font-family=\"Helvetica,sans-Serif\" font-size=\"14.00\">value = [14816, 59]</text>\n</g>\n<!-- 0&#45;&gt;1 -->\n<g id=\"edge1\" class=\"edge\">\n<title>0&#45;&gt;1</title>\n<path fill=\"none\" stroke=\"black\" d=\"M473.24,-504.88C461.98,-495.62 449.62,-485.45 437.94,-475.85\"/>\n<polygon fill=\"black\" stroke=\"black\" points=\"439.93,-472.95 429.98,-469.3 435.48,-478.36 439.93,-472.95\"/>\n<text text-anchor=\"middle\" x=\"432.4\" y=\"-490.48\" font-family=\"Helvetica,sans-Serif\" font-size=\"14.00\">True</text>\n</g>\n<!-- 2 -->\n<g id=\"node9\" class=\"node\">\n<title>2</title>\n<polygon fill=\"none\" stroke=\"black\" points=\"630.5,-469 498.5,-469 498.5,-401 630.5,-401 630.5,-469\"/>\n<text text-anchor=\"middle\" x=\"564.5\" y=\"-453.8\" font-family=\"Helvetica,sans-Serif\" font-size=\"14.00\">re75 &lt;= 7872.0</text>\n<text text-anchor=\"middle\" x=\"564.5\" y=\"-438.8\" font-family=\"Helvetica,sans-Serif\" font-size=\"14.00\">entropy = 0.654</text>\n<text text-anchor=\"middle\" x=\"564.5\" y=\"-423.8\" font-family=\"Helvetica,sans-Serif\" font-size=\"14.00\">samples = 1414</text>\n<text text-anchor=\"middle\" x=\"564.5\" y=\"-408.8\" font-family=\"Helvetica,sans-Serif\" font-size=\"14.00\">value = [1176, 238]</text>\n</g>\n<!-- 0&#45;&gt;2 -->\n<g id=\"edge8\" class=\"edge\">\n<title>0&#45;&gt;2</title>\n<path fill=\"none\" stroke=\"black\" d=\"M530.06,-504.88C534.29,-496.42 538.9,-487.21 543.32,-478.35\"/>\n<polygon fill=\"black\" stroke=\"black\" points=\"546.51,-479.81 547.85,-469.3 540.25,-476.68 546.51,-479.81\"/>\n<text text-anchor=\"middle\" x=\"555.76\" y=\"-489.32\" font-family=\"Helvetica,sans-Serif\" font-size=\"14.00\">False</text>\n</g>\n<!-- 5 -->\n<g id=\"node3\" class=\"node\">\n<title>5</title>\n<polygon fill=\"none\" stroke=\"black\" points=\"264,-365 139,-365 139,-297 264,-297 264,-365\"/>\n<text text-anchor=\"middle\" x=\"201.5\" y=\"-349.8\" font-family=\"Helvetica,sans-Serif\" font-size=\"14.00\">hispanic &lt;= 0.5</text>\n<text text-anchor=\"middle\" x=\"201.5\" y=\"-334.8\" font-family=\"Helvetica,sans-Serif\" font-size=\"14.00\">entropy = 0.084</text>\n<text text-anchor=\"middle\" x=\"201.5\" y=\"-319.8\" font-family=\"Helvetica,sans-Serif\" font-size=\"14.00\">samples = 5144</text>\n<text text-anchor=\"middle\" x=\"201.5\" y=\"-304.8\" font-family=\"Helvetica,sans-Serif\" font-size=\"14.00\">value = [5090, 54]</text>\n</g>\n<!-- 1&#45;&gt;5 -->\n<g id=\"edge2\" class=\"edge\">\n<title>1&#45;&gt;5</title>\n<path fill=\"none\" stroke=\"black\" d=\"M328.46,-400.88C310.23,-390.99 290.1,-380.07 271.35,-369.9\"/>\n<polygon fill=\"black\" stroke=\"black\" points=\"273.01,-366.82 262.55,-365.12 269.67,-372.97 273.01,-366.82\"/>\n</g>\n<!-- 6 -->\n<g id=\"node8\" class=\"node\">\n<title>6</title>\n<polygon fill=\"none\" stroke=\"black\" points=\"448,-357.5 331,-357.5 331,-304.5 448,-304.5 448,-357.5\"/>\n<text text-anchor=\"middle\" x=\"389.5\" y=\"-342.3\" font-family=\"Helvetica,sans-Serif\" font-size=\"14.00\">entropy = 0.006</text>\n<text text-anchor=\"middle\" x=\"389.5\" y=\"-327.3\" font-family=\"Helvetica,sans-Serif\" font-size=\"14.00\">samples = 9731</text>\n<text text-anchor=\"middle\" x=\"389.5\" y=\"-312.3\" font-family=\"Helvetica,sans-Serif\" font-size=\"14.00\">value = [9726, 5]</text>\n</g>\n<!-- 1&#45;&gt;6 -->\n<g id=\"edge7\" class=\"edge\">\n<title>1&#45;&gt;6</title>\n<path fill=\"none\" stroke=\"black\" d=\"M389.5,-400.88C389.5,-390.33 389.5,-378.6 389.5,-367.85\"/>\n<polygon fill=\"black\" stroke=\"black\" points=\"393,-367.52 389.5,-357.52 386,-367.52 393,-367.52\"/>\n</g>\n<!-- 9 -->\n<g id=\"node4\" class=\"node\">\n<title>9</title>\n<polygon fill=\"none\" stroke=\"black\" points=\"125,-253.5 0,-253.5 0,-200.5 125,-200.5 125,-253.5\"/>\n<text text-anchor=\"middle\" x=\"62.5\" y=\"-238.3\" font-family=\"Helvetica,sans-Serif\" font-size=\"14.00\">entropy = 0.054</text>\n<text text-anchor=\"middle\" x=\"62.5\" y=\"-223.3\" font-family=\"Helvetica,sans-Serif\" font-size=\"14.00\">samples = 4693</text>\n<text text-anchor=\"middle\" x=\"62.5\" y=\"-208.3\" font-family=\"Helvetica,sans-Serif\" font-size=\"14.00\">value = [4664, 29]</text>\n</g>\n<!-- 5&#45;&gt;9 -->\n<g id=\"edge3\" class=\"edge\">\n<title>5&#45;&gt;9</title>\n<path fill=\"none\" stroke=\"black\" d=\"M156.37,-296.88C140.03,-284.9 121.64,-271.4 105.49,-259.55\"/>\n<polygon fill=\"black\" stroke=\"black\" points=\"107.41,-256.61 97.28,-253.52 103.27,-262.26 107.41,-256.61\"/>\n</g>\n<!-- 10 -->\n<g id=\"node5\" class=\"node\">\n<title>10</title>\n<polygon fill=\"none\" stroke=\"black\" points=\"260,-261 143,-261 143,-193 260,-193 260,-261\"/>\n<text text-anchor=\"middle\" x=\"201.5\" y=\"-245.8\" font-family=\"Helvetica,sans-Serif\" font-size=\"14.00\">age &lt;= 34.5</text>\n<text text-anchor=\"middle\" x=\"201.5\" y=\"-230.8\" font-family=\"Helvetica,sans-Serif\" font-size=\"14.00\">entropy = 0.309</text>\n<text text-anchor=\"middle\" x=\"201.5\" y=\"-215.8\" font-family=\"Helvetica,sans-Serif\" font-size=\"14.00\">samples = 451</text>\n<text text-anchor=\"middle\" x=\"201.5\" y=\"-200.8\" font-family=\"Helvetica,sans-Serif\" font-size=\"14.00\">value = [426, 25]</text>\n</g>\n<!-- 5&#45;&gt;10 -->\n<g id=\"edge4\" class=\"edge\">\n<title>5&#45;&gt;10</title>\n<path fill=\"none\" stroke=\"black\" d=\"M201.5,-296.88C201.5,-288.78 201.5,-279.98 201.5,-271.47\"/>\n<polygon fill=\"black\" stroke=\"black\" points=\"205,-271.3 201.5,-261.3 198,-271.3 205,-271.3\"/>\n</g>\n<!-- 19 -->\n<g id=\"node6\" class=\"node\">\n<title>19</title>\n<polygon fill=\"none\" stroke=\"black\" points=\"128,-149.5 11,-149.5 11,-96.5 128,-96.5 128,-149.5\"/>\n<text text-anchor=\"middle\" x=\"69.5\" y=\"-134.3\" font-family=\"Helvetica,sans-Serif\" font-size=\"14.00\">entropy = 0.391</text>\n<text text-anchor=\"middle\" x=\"69.5\" y=\"-119.3\" font-family=\"Helvetica,sans-Serif\" font-size=\"14.00\">samples = 325</text>\n<text text-anchor=\"middle\" x=\"69.5\" y=\"-104.3\" font-family=\"Helvetica,sans-Serif\" font-size=\"14.00\">value = [300, 25]</text>\n</g>\n<!-- 10&#45;&gt;19 -->\n<g id=\"edge5\" class=\"edge\">\n<title>10&#45;&gt;19</title>\n<path fill=\"none\" stroke=\"black\" d=\"M158.64,-192.88C143.27,-181.01 125.98,-167.65 110.75,-155.88\"/>\n<polygon fill=\"black\" stroke=\"black\" points=\"112.58,-152.86 102.53,-149.52 108.3,-158.4 112.58,-152.86\"/>\n</g>\n<!-- 20 -->\n<g id=\"node7\" class=\"node\">\n<title>20</title>\n<polygon fill=\"none\" stroke=\"black\" points=\"256.5,-149.5 146.5,-149.5 146.5,-96.5 256.5,-96.5 256.5,-149.5\"/>\n<text text-anchor=\"middle\" x=\"201.5\" y=\"-134.3\" font-family=\"Helvetica,sans-Serif\" font-size=\"14.00\">entropy = 0.0</text>\n<text text-anchor=\"middle\" x=\"201.5\" y=\"-119.3\" font-family=\"Helvetica,sans-Serif\" font-size=\"14.00\">samples = 126</text>\n<text text-anchor=\"middle\" x=\"201.5\" y=\"-104.3\" font-family=\"Helvetica,sans-Serif\" font-size=\"14.00\">value = [126, 0]</text>\n</g>\n<!-- 10&#45;&gt;20 -->\n<g id=\"edge6\" class=\"edge\">\n<title>10&#45;&gt;20</title>\n<path fill=\"none\" stroke=\"black\" d=\"M201.5,-192.88C201.5,-182.33 201.5,-170.6 201.5,-159.85\"/>\n<polygon fill=\"black\" stroke=\"black\" points=\"205,-159.52 201.5,-149.52 198,-159.52 205,-159.52\"/>\n</g>\n<!-- 3 -->\n<g id=\"node10\" class=\"node\">\n<title>3</title>\n<polygon fill=\"none\" stroke=\"black\" points=\"627,-365 502,-365 502,-297 627,-297 627,-365\"/>\n<text text-anchor=\"middle\" x=\"564.5\" y=\"-349.8\" font-family=\"Helvetica,sans-Serif\" font-size=\"14.00\">married &lt;= 0.5</text>\n<text text-anchor=\"middle\" x=\"564.5\" y=\"-334.8\" font-family=\"Helvetica,sans-Serif\" font-size=\"14.00\">entropy = 0.891</text>\n<text text-anchor=\"middle\" x=\"564.5\" y=\"-319.8\" font-family=\"Helvetica,sans-Serif\" font-size=\"14.00\">samples = 697</text>\n<text text-anchor=\"middle\" x=\"564.5\" y=\"-304.8\" font-family=\"Helvetica,sans-Serif\" font-size=\"14.00\">value = [482, 215]</text>\n</g>\n<!-- 2&#45;&gt;3 -->\n<g id=\"edge9\" class=\"edge\">\n<title>2&#45;&gt;3</title>\n<path fill=\"none\" stroke=\"black\" d=\"M564.5,-400.88C564.5,-392.78 564.5,-383.98 564.5,-375.47\"/>\n<polygon fill=\"black\" stroke=\"black\" points=\"568,-375.3 564.5,-365.3 561,-375.3 568,-375.3\"/>\n</g>\n<!-- 4 -->\n<g id=\"node21\" class=\"node\">\n<title>4</title>\n<polygon fill=\"none\" stroke=\"black\" points=\"787,-365 670,-365 670,-297 787,-297 787,-365\"/>\n<text text-anchor=\"middle\" x=\"728.5\" y=\"-349.8\" font-family=\"Helvetica,sans-Serif\" font-size=\"14.00\">age &lt;= 25.5</text>\n<text text-anchor=\"middle\" x=\"728.5\" y=\"-334.8\" font-family=\"Helvetica,sans-Serif\" font-size=\"14.00\">entropy = 0.205</text>\n<text text-anchor=\"middle\" x=\"728.5\" y=\"-319.8\" font-family=\"Helvetica,sans-Serif\" font-size=\"14.00\">samples = 717</text>\n<text text-anchor=\"middle\" x=\"728.5\" y=\"-304.8\" font-family=\"Helvetica,sans-Serif\" font-size=\"14.00\">value = [694, 23]</text>\n</g>\n<!-- 2&#45;&gt;4 -->\n<g id=\"edge20\" class=\"edge\">\n<title>2&#45;&gt;4</title>\n<path fill=\"none\" stroke=\"black\" d=\"M617.75,-400.88C633.29,-391.21 650.42,-380.56 666.46,-370.59\"/>\n<polygon fill=\"black\" stroke=\"black\" points=\"668.6,-373.38 675.24,-365.12 664.9,-367.43 668.6,-373.38\"/>\n</g>\n<!-- 7 -->\n<g id=\"node11\" class=\"node\">\n<title>7</title>\n<polygon fill=\"none\" stroke=\"black\" points=\"517,-261 392,-261 392,-193 517,-193 517,-261\"/>\n<text text-anchor=\"middle\" x=\"454.5\" y=\"-245.8\" font-family=\"Helvetica,sans-Serif\" font-size=\"14.00\">age &lt;= 16.5</text>\n<text text-anchor=\"middle\" x=\"454.5\" y=\"-230.8\" font-family=\"Helvetica,sans-Serif\" font-size=\"14.00\">entropy = 0.969</text>\n<text text-anchor=\"middle\" x=\"454.5\" y=\"-215.8\" font-family=\"Helvetica,sans-Serif\" font-size=\"14.00\">samples = 461</text>\n<text text-anchor=\"middle\" x=\"454.5\" y=\"-200.8\" font-family=\"Helvetica,sans-Serif\" font-size=\"14.00\">value = [278, 183]</text>\n</g>\n<!-- 3&#45;&gt;7 -->\n<g id=\"edge10\" class=\"edge\">\n<title>3&#45;&gt;7</title>\n<path fill=\"none\" stroke=\"black\" d=\"M528.79,-296.88C518.89,-287.71 508.04,-277.65 497.77,-268.12\"/>\n<polygon fill=\"black\" stroke=\"black\" points=\"500.12,-265.53 490.41,-261.3 495.36,-270.67 500.12,-265.53\"/>\n</g>\n<!-- 8 -->\n<g id=\"node16\" class=\"node\">\n<title>8</title>\n<polygon fill=\"none\" stroke=\"black\" points=\"652,-261 535,-261 535,-193 652,-193 652,-261\"/>\n<text text-anchor=\"middle\" x=\"593.5\" y=\"-245.8\" font-family=\"Helvetica,sans-Serif\" font-size=\"14.00\">nodegree &lt;= 0.5</text>\n<text text-anchor=\"middle\" x=\"593.5\" y=\"-230.8\" font-family=\"Helvetica,sans-Serif\" font-size=\"14.00\">entropy = 0.573</text>\n<text text-anchor=\"middle\" x=\"593.5\" y=\"-215.8\" font-family=\"Helvetica,sans-Serif\" font-size=\"14.00\">samples = 236</text>\n<text text-anchor=\"middle\" x=\"593.5\" y=\"-200.8\" font-family=\"Helvetica,sans-Serif\" font-size=\"14.00\">value = [204, 32]</text>\n</g>\n<!-- 3&#45;&gt;8 -->\n<g id=\"edge15\" class=\"edge\">\n<title>3&#45;&gt;8</title>\n<path fill=\"none\" stroke=\"black\" d=\"M573.92,-296.88C576.25,-288.69 578.78,-279.79 581.22,-271.19\"/>\n<polygon fill=\"black\" stroke=\"black\" points=\"584.66,-271.88 584.03,-261.3 577.93,-269.96 584.66,-271.88\"/>\n</g>\n<!-- 11 -->\n<g id=\"node12\" class=\"node\">\n<title>11</title>\n<polygon fill=\"none\" stroke=\"black\" points=\"376.5,-149.5 274.5,-149.5 274.5,-96.5 376.5,-96.5 376.5,-149.5\"/>\n<text text-anchor=\"middle\" x=\"325.5\" y=\"-134.3\" font-family=\"Helvetica,sans-Serif\" font-size=\"14.00\">entropy = 0.0</text>\n<text text-anchor=\"middle\" x=\"325.5\" y=\"-119.3\" font-family=\"Helvetica,sans-Serif\" font-size=\"14.00\">samples = 28</text>\n<text text-anchor=\"middle\" x=\"325.5\" y=\"-104.3\" font-family=\"Helvetica,sans-Serif\" font-size=\"14.00\">value = [28, 0]</text>\n</g>\n<!-- 7&#45;&gt;11 -->\n<g id=\"edge11\" class=\"edge\">\n<title>7&#45;&gt;11</title>\n<path fill=\"none\" stroke=\"black\" d=\"M412.62,-192.88C397.6,-181.01 380.7,-167.65 365.81,-155.88\"/>\n<polygon fill=\"black\" stroke=\"black\" points=\"367.79,-152.98 357.78,-149.52 363.45,-158.47 367.79,-152.98\"/>\n</g>\n<!-- 12 -->\n<g id=\"node13\" class=\"node\">\n<title>12</title>\n<polygon fill=\"none\" stroke=\"black\" points=\"520,-157 395,-157 395,-89 520,-89 520,-157\"/>\n<text text-anchor=\"middle\" x=\"457.5\" y=\"-141.8\" font-family=\"Helvetica,sans-Serif\" font-size=\"14.00\">nodegree &lt;= 0.5</text>\n<text text-anchor=\"middle\" x=\"457.5\" y=\"-126.8\" font-family=\"Helvetica,sans-Serif\" font-size=\"14.00\">entropy = 0.983</text>\n<text text-anchor=\"middle\" x=\"457.5\" y=\"-111.8\" font-family=\"Helvetica,sans-Serif\" font-size=\"14.00\">samples = 433</text>\n<text text-anchor=\"middle\" x=\"457.5\" y=\"-96.8\" font-family=\"Helvetica,sans-Serif\" font-size=\"14.00\">value = [250, 183]</text>\n</g>\n<!-- 7&#45;&gt;12 -->\n<g id=\"edge12\" class=\"edge\">\n<title>7&#45;&gt;12</title>\n<path fill=\"none\" stroke=\"black\" d=\"M455.47,-192.88C455.71,-184.78 455.97,-175.98 456.22,-167.47\"/>\n<polygon fill=\"black\" stroke=\"black\" points=\"459.73,-167.4 456.52,-157.3 452.73,-167.19 459.73,-167.4\"/>\n</g>\n<!-- 13 -->\n<g id=\"node14\" class=\"node\">\n<title>13</title>\n<polygon fill=\"none\" stroke=\"black\" points=\"410,-53 293,-53 293,0 410,0 410,-53\"/>\n<text text-anchor=\"middle\" x=\"351.5\" y=\"-37.8\" font-family=\"Helvetica,sans-Serif\" font-size=\"14.00\">entropy = 0.842</text>\n<text text-anchor=\"middle\" x=\"351.5\" y=\"-22.8\" font-family=\"Helvetica,sans-Serif\" font-size=\"14.00\">samples = 181</text>\n<text text-anchor=\"middle\" x=\"351.5\" y=\"-7.8\" font-family=\"Helvetica,sans-Serif\" font-size=\"14.00\">value = [132, 49]</text>\n</g>\n<!-- 12&#45;&gt;13 -->\n<g id=\"edge13\" class=\"edge\">\n<title>12&#45;&gt;13</title>\n<path fill=\"none\" stroke=\"black\" d=\"M420.43,-88.95C409.96,-79.62 398.58,-69.47 388.14,-60.16\"/>\n<polygon fill=\"black\" stroke=\"black\" points=\"390.16,-57.28 380.37,-53.24 385.5,-62.5 390.16,-57.28\"/>\n</g>\n<!-- 14 -->\n<g id=\"node15\" class=\"node\">\n<title>14</title>\n<polygon fill=\"none\" stroke=\"black\" points=\"553,-53 428,-53 428,0 553,0 553,-53\"/>\n<text text-anchor=\"middle\" x=\"490.5\" y=\"-37.8\" font-family=\"Helvetica,sans-Serif\" font-size=\"14.00\">entropy = 0.997</text>\n<text text-anchor=\"middle\" x=\"490.5\" y=\"-22.8\" font-family=\"Helvetica,sans-Serif\" font-size=\"14.00\">samples = 252</text>\n<text text-anchor=\"middle\" x=\"490.5\" y=\"-7.8\" font-family=\"Helvetica,sans-Serif\" font-size=\"14.00\">value = [118, 134]</text>\n</g>\n<!-- 12&#45;&gt;14 -->\n<g id=\"edge14\" class=\"edge\">\n<title>12&#45;&gt;14</title>\n<path fill=\"none\" stroke=\"black\" d=\"M469.04,-88.95C471.98,-80.53 475.15,-71.45 478.13,-62.92\"/>\n<polygon fill=\"black\" stroke=\"black\" points=\"481.52,-63.83 481.51,-53.24 474.91,-61.52 481.52,-63.83\"/>\n</g>\n<!-- 17 -->\n<g id=\"node17\" class=\"node\">\n<title>17</title>\n<polygon fill=\"none\" stroke=\"black\" points=\"649,-149.5 538,-149.5 538,-96.5 649,-96.5 649,-149.5\"/>\n<text text-anchor=\"middle\" x=\"593.5\" y=\"-134.3\" font-family=\"Helvetica,sans-Serif\" font-size=\"14.00\">entropy = 0.231</text>\n<text text-anchor=\"middle\" x=\"593.5\" y=\"-119.3\" font-family=\"Helvetica,sans-Serif\" font-size=\"14.00\">samples = 133</text>\n<text text-anchor=\"middle\" x=\"593.5\" y=\"-104.3\" font-family=\"Helvetica,sans-Serif\" font-size=\"14.00\">value = [128, 5]</text>\n</g>\n<!-- 8&#45;&gt;17 -->\n<g id=\"edge16\" class=\"edge\">\n<title>8&#45;&gt;17</title>\n<path fill=\"none\" stroke=\"black\" d=\"M593.5,-192.88C593.5,-182.33 593.5,-170.6 593.5,-159.85\"/>\n<polygon fill=\"black\" stroke=\"black\" points=\"597,-159.52 593.5,-149.52 590,-159.52 597,-159.52\"/>\n</g>\n<!-- 18 -->\n<g id=\"node18\" class=\"node\">\n<title>18</title>\n<polygon fill=\"none\" stroke=\"black\" points=\"777.5,-157 667.5,-157 667.5,-89 777.5,-89 777.5,-157\"/>\n<text text-anchor=\"middle\" x=\"722.5\" y=\"-141.8\" font-family=\"Helvetica,sans-Serif\" font-size=\"14.00\">age &lt;= 46.5</text>\n<text text-anchor=\"middle\" x=\"722.5\" y=\"-126.8\" font-family=\"Helvetica,sans-Serif\" font-size=\"14.00\">entropy = 0.83</text>\n<text text-anchor=\"middle\" x=\"722.5\" y=\"-111.8\" font-family=\"Helvetica,sans-Serif\" font-size=\"14.00\">samples = 103</text>\n<text text-anchor=\"middle\" x=\"722.5\" y=\"-96.8\" font-family=\"Helvetica,sans-Serif\" font-size=\"14.00\">value = [76, 27]</text>\n</g>\n<!-- 8&#45;&gt;18 -->\n<g id=\"edge17\" class=\"edge\">\n<title>8&#45;&gt;18</title>\n<path fill=\"none\" stroke=\"black\" d=\"M635.38,-192.88C647.21,-183.53 660.2,-173.26 672.46,-163.57\"/>\n<polygon fill=\"black\" stroke=\"black\" points=\"674.71,-166.25 680.39,-157.3 670.37,-160.76 674.71,-166.25\"/>\n</g>\n<!-- 21 -->\n<g id=\"node19\" class=\"node\">\n<title>21</title>\n<polygon fill=\"none\" stroke=\"black\" points=\"746,-53 635,-53 635,0 746,0 746,-53\"/>\n<text text-anchor=\"middle\" x=\"690.5\" y=\"-37.8\" font-family=\"Helvetica,sans-Serif\" font-size=\"14.00\">entropy = 0.922</text>\n<text text-anchor=\"middle\" x=\"690.5\" y=\"-22.8\" font-family=\"Helvetica,sans-Serif\" font-size=\"14.00\">samples = 80</text>\n<text text-anchor=\"middle\" x=\"690.5\" y=\"-7.8\" font-family=\"Helvetica,sans-Serif\" font-size=\"14.00\">value = [53, 27]</text>\n</g>\n<!-- 18&#45;&gt;21 -->\n<g id=\"edge18\" class=\"edge\">\n<title>18&#45;&gt;21</title>\n<path fill=\"none\" stroke=\"black\" d=\"M711.31,-88.95C708.46,-80.53 705.38,-71.45 702.5,-62.92\"/>\n<polygon fill=\"black\" stroke=\"black\" points=\"705.74,-61.59 699.22,-53.24 699.11,-63.83 705.74,-61.59\"/>\n</g>\n<!-- 22 -->\n<g id=\"node20\" class=\"node\">\n<title>22</title>\n<polygon fill=\"none\" stroke=\"black\" points=\"866.5,-53 764.5,-53 764.5,0 866.5,0 866.5,-53\"/>\n<text text-anchor=\"middle\" x=\"815.5\" y=\"-37.8\" font-family=\"Helvetica,sans-Serif\" font-size=\"14.00\">entropy = 0.0</text>\n<text text-anchor=\"middle\" x=\"815.5\" y=\"-22.8\" font-family=\"Helvetica,sans-Serif\" font-size=\"14.00\">samples = 23</text>\n<text text-anchor=\"middle\" x=\"815.5\" y=\"-7.8\" font-family=\"Helvetica,sans-Serif\" font-size=\"14.00\">value = [23, 0]</text>\n</g>\n<!-- 18&#45;&gt;22 -->\n<g id=\"edge19\" class=\"edge\">\n<title>18&#45;&gt;22</title>\n<path fill=\"none\" stroke=\"black\" d=\"M755.03,-88.95C764.12,-79.71 774,-69.67 783.08,-60.44\"/>\n<polygon fill=\"black\" stroke=\"black\" points=\"785.65,-62.82 790.17,-53.24 780.66,-57.91 785.65,-62.82\"/>\n</g>\n<!-- 15 -->\n<g id=\"node22\" class=\"node\">\n<title>15</title>\n<polygon fill=\"none\" stroke=\"black\" points=\"787,-253.5 670,-253.5 670,-200.5 787,-200.5 787,-253.5\"/>\n<text text-anchor=\"middle\" x=\"728.5\" y=\"-238.3\" font-family=\"Helvetica,sans-Serif\" font-size=\"14.00\">entropy = 0.491</text>\n<text text-anchor=\"middle\" x=\"728.5\" y=\"-223.3\" font-family=\"Helvetica,sans-Serif\" font-size=\"14.00\">samples = 159</text>\n<text text-anchor=\"middle\" x=\"728.5\" y=\"-208.3\" font-family=\"Helvetica,sans-Serif\" font-size=\"14.00\">value = [142, 17]</text>\n</g>\n<!-- 4&#45;&gt;15 -->\n<g id=\"edge21\" class=\"edge\">\n<title>4&#45;&gt;15</title>\n<path fill=\"none\" stroke=\"black\" d=\"M728.5,-296.88C728.5,-286.33 728.5,-274.6 728.5,-263.85\"/>\n<polygon fill=\"black\" stroke=\"black\" points=\"732,-263.52 728.5,-253.52 725,-263.52 732,-263.52\"/>\n</g>\n<!-- 16 -->\n<g id=\"node23\" class=\"node\">\n<title>16</title>\n<polygon fill=\"none\" stroke=\"black\" points=\"916,-253.5 805,-253.5 805,-200.5 916,-200.5 916,-253.5\"/>\n<text text-anchor=\"middle\" x=\"860.5\" y=\"-238.3\" font-family=\"Helvetica,sans-Serif\" font-size=\"14.00\">entropy = 0.086</text>\n<text text-anchor=\"middle\" x=\"860.5\" y=\"-223.3\" font-family=\"Helvetica,sans-Serif\" font-size=\"14.00\">samples = 558</text>\n<text text-anchor=\"middle\" x=\"860.5\" y=\"-208.3\" font-family=\"Helvetica,sans-Serif\" font-size=\"14.00\">value = [552, 6]</text>\n</g>\n<!-- 4&#45;&gt;16 -->\n<g id=\"edge22\" class=\"edge\">\n<title>4&#45;&gt;16</title>\n<path fill=\"none\" stroke=\"black\" d=\"M771.36,-296.88C786.73,-285.01 804.02,-271.65 819.25,-259.88\"/>\n<polygon fill=\"black\" stroke=\"black\" points=\"821.7,-262.4 827.47,-253.52 817.42,-256.86 821.7,-262.4\"/>\n</g>\n</g>\n</svg>\n",
      "text/plain": [
       "<graphviz.sources.Source at 0x7f8e1a9d3370>"
      ]
     },
     "execution_count": 241,
     "metadata": {},
     "output_type": "execute_result"
    }
   ],
   "source": [
    "from sklearn import tree\n",
    "import graphviz\n",
    "tree_graph = tree.export_graphviz(tree1, out_file=None, feature_names=covariateSelection2)\n",
    "graphviz.Source(tree_graph)"
   ]
  },
  {
   "cell_type": "code",
   "execution_count": null,
   "metadata": {},
   "outputs": [],
   "source": [
    "#pdp.cart_graph(ax[0,0])\n",
    "tree_graph."
   ]
  },
  {
   "cell_type": "code",
   "execution_count": null,
   "metadata": {},
   "outputs": [],
   "source": []
  }
 ],
 "metadata": {
  "kernelspec": {
   "display_name": "Python 3.8.13 ('base')",
   "language": "python",
   "name": "python3"
  },
  "language_info": {
   "codemirror_mode": {
    "name": "ipython",
    "version": 3
   },
   "file_extension": ".py",
   "mimetype": "text/x-python",
   "name": "python",
   "nbconvert_exporter": "python",
   "pygments_lexer": "ipython3",
   "version": "3.8.13"
  },
  "orig_nbformat": 4,
  "vscode": {
   "interpreter": {
    "hash": "44a7c5cf9512a4ad670122a007d348488b56f79d3796a47615dc74da9f36a764"
   }
  }
 },
 "nbformat": 4,
 "nbformat_minor": 2
}
