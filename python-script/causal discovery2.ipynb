{
 "cells": [
  {
   "cell_type": "code",
   "execution_count": 3,
   "metadata": {},
   "outputs": [],
   "source": [
    "# standard libraries \n",
    "# networkx = 2.7\n",
    "# cdt = \n",
    "# scipy = 1.8\n",
    "import warnings\n",
    "import pandas as pd\n",
    "import numpy as np\n",
    "import matplotlib.pyplot as plt\n",
    "from matplotlib.lines import Line2D\n",
    "#from tueplots import axes, bundles , figsizes, fonts,fontsizes\n",
    "#import seaborn as sns\n",
    "import random \n",
    "from random import randrange\n",
    "import time"
   ]
  },
  {
   "cell_type": "code",
   "execution_count": 4,
   "metadata": {},
   "outputs": [],
   "source": [
    "# causal discovery\n",
    "import networkx as nx\n",
    "import cdt \n",
    "from cdt import SETTINGS\n",
    "from cdt.independence.graph import FSGNN\n",
    "from cdt.causality.pairwise import GNN\n",
    "from cdt.utils.graph import dagify_min_edge\n",
    "from cdt.causality.graph import CGNN"
   ]
  },
  {
   "cell_type": "markdown",
   "metadata": {},
   "source": [
    "# read in data "
   ]
  },
  {
   "cell_type": "code",
   "execution_count": 5,
   "metadata": {},
   "outputs": [],
   "source": [
    "nsw = pd.read_csv('/Users/mawuliagamah/gitprojects/causal_inference/causal_inference/data/quasi data/unmatched data/NswLalonde_transformed.csv') # RCT\n",
    "nswre74 = pd.read_csv('/Users/mawuliagamah/gitprojects/causal_inference/causal_inference/data/quasi data/unmatched data/NswDeWab_transformed.csv') # RCT \n",
    "nswCps_lalonde =  pd.read_csv('/Users/mawuliagamah/gitprojects/causal_inference/causal_inference/data/quasi data/unmatched data/Quasi_NswCps_lalonde.csv') # Quasi data \n",
    "nswPsid_lalonde = pd.read_csv('/Users/mawuliagamah/gitprojects/causal_inference/causal_inference/data/quasi data/unmatched data/Quasi_NswPsid_lalonde.csv') # Quasi data \n",
    "nswCps_dehWab =   pd.read_csv('/Users/mawuliagamah/gitprojects/causal_inference/causal_inference/data/quasi data/unmatched data/Quasi_NswCps_dehWab.csv') # Quasi data \n",
    "nswPsid_dehWab =  pd.read_csv('/Users/mawuliagamah/gitprojects/causal_inference/causal_inference/data/quasi data/unmatched data/Quasi_NswPsid_dehWab.csv') # Quasi data "
   ]
  },
  {
   "cell_type": "markdown",
   "metadata": {},
   "source": [
    "<p> organise data </p>"
   ]
  },
  {
   "cell_type": "code",
   "execution_count": 19,
   "metadata": {},
   "outputs": [],
   "source": [
    "dataset_baseline_1 = nsw\n",
    "dataset_baseline_2 = nswre74\n",
    "\n",
    "# quasi experimental datasets \n",
    "dataset1 = nswCps_lalonde\n",
    "dataset2 = nswPsid_lalonde\n",
    "dataset3 = nswCps_dehWab\n",
    "dataset4 = nswPsid_dehWab\n",
    "\n",
    "\n",
    "dataset_subset1  = ['treat','age', 'education*', 'black', 'hispanic', 'married', 'nodegree','re75','re78']\n",
    "dataset_subset2  = ['treat','age', 'education*', 'black', 'hispanic', 'married', 'nodegree', 're74','re75','re78']\n",
    "features  = ['age', 'education*', 'black', 'hispanic', 'married', 'nodegree', 're75']\n",
    "target = \"treat\""
   ]
  },
  {
   "cell_type": "markdown",
   "metadata": {},
   "source": [
    "<p> KEY </p>\n",
    "<p> 0 = lalonde nsw rct </p>\n",
    "<p> 1 = nsw treated + CPS control  (Lalonde's original sample) </p>\n",
    "<p> 2 = nsw treated + PSID control (Lalonde's original sample) </p>\n",
    "<p> 3 = nsw treated + CPS control  (Dehejia & Wahba sub-sample) </p>\n",
    "<p> 4 = nsw treated + PSID control (Dehejia & Wahba sub-sample) </p>"
   ]
  },
  {
   "cell_type": "code",
   "execution_count": 7,
   "metadata": {},
   "outputs": [],
   "source": [
    "# Key variables needed for DAGs\n",
    "# 1 = individual/unit \n",
    "# 2 = outcome variable = wage in 1978 \n",
    "# 3 = intervention/treatment variable  = treat column"
   ]
  },
  {
   "cell_type": "code",
   "execution_count": 9,
   "metadata": {},
   "outputs": [],
   "source": [
    "from cdt.metrics import (precision_recall, SID, SHD)"
   ]
  },
  {
   "cell_type": "markdown",
   "metadata": {},
   "source": [
    "# DAG NSW CPS Dehejia and Wahba"
   ]
  },
  {
   "cell_type": "code",
   "execution_count": 10,
   "metadata": {},
   "outputs": [],
   "source": [
    "# Graph neural network for feature selection \n",
    "# 0. Create FSGNN object\n",
    "Fsgnn = FSGNN(train_epochs=1000, test_epochs=500, l1=0.1, batch_size=1000)"
   ]
  },
  {
   "cell_type": "code",
   "execution_count": null,
   "metadata": {},
   "outputs": [],
   "source": [
    "# 1 .  Create a skeleton graph  1 \n",
    "start_time = time.time()\n",
    "ugraph = Fsgnn.predict(dataset1[dataset_subset1], threshold=1e-7)\n",
    "print(\"--- Execution time (skeleton) : %4.4s seconds ---\" % (time.time() - start_time))\n",
    "\n",
    "# 36 MINUTES"
   ]
  },
  {
   "cell_type": "markdown",
   "metadata": {},
   "source": [
    "<p> glass o</p>"
   ]
  },
  {
   "cell_type": "code",
   "execution_count": 17,
   "metadata": {},
   "outputs": [
    {
     "name": "stdout",
     "output_type": "stream",
     "text": [
      "--- Execution time (skeleton-glasso) : 7.20 seconds ---\n"
     ]
    }
   ],
   "source": [
    "from cdt.independence.graph import Glasso\n",
    "df = pd.DataFrame(np.random.randint(0,100,size=(100, 4)), columns=list('ABCD'))\n",
    "obj = Glasso()\n",
    "skeleton_graph_glasso1 = obj.predict(dataset1[dataset_subset1],max_iter = 100)\n",
    "start_time = time.time()\n",
    "print(\"--- Execution time (skeleton-glasso) : %4.4s seconds ---\" % (time.time() - start_time))"
   ]
  },
  {
   "cell_type": "markdown",
   "metadata": {},
   "source": [
    "<p> decision tree skeleton <p>"
   ]
  },
  {
   "cell_type": "code",
   "execution_count": 25,
   "metadata": {},
   "outputs": [],
   "source": [
    "from cdt.independence.graph import DecisionTreeRegression\n",
    "features  = ['age', 'education*', 'black', 'hispanic', 'married', 'nodegree', 're75','re78']\n",
    "df_features = pd.DataFrame(dataset1[features])\n",
    "df_target = pd.DataFrame(dataset1[target])\n",
    "obj = DecisionTreeRegression()\n",
    "output = obj.predict_features(df_features, df_target)\n",
    "skeleton_graph_tree1= obj.predict(df_features)"
   ]
  },
  {
   "cell_type": "code",
   "execution_count": 26,
   "metadata": {},
   "outputs": [
    {
     "data": {
      "image/png": "[encoded data removed]",
      "text/plain": [
       "<Figure size 432x288 with 1 Axes>"
      ]
     },
     "metadata": {},
     "output_type": "display_data"
    },
    {
     "data": {
      "text/html": [
       "<div>\n",
       "<style scoped>\n",
       "    .dataframe tbody tr th:only-of-type {\n",
       "        vertical-align: middle;\n",
       "    }\n",
       "\n",
       "    .dataframe tbody tr th {\n",
       "        vertical-align: top;\n",
       "    }\n",
       "\n",
       "    .dataframe thead th {\n",
       "        text-align: right;\n",
       "    }\n",
       "</style>\n",
       "<table border=\"1\" class=\"dataframe\">\n",
       "  <thead>\n",
       "    <tr style=\"text-align: right;\">\n",
       "      <th></th>\n",
       "      <th>0</th>\n",
       "      <th>1</th>\n",
       "      <th>2</th>\n",
       "    </tr>\n",
       "  </thead>\n",
       "  <tbody>\n",
       "    <tr>\n",
       "      <th>0</th>\n",
       "      <td>age</td>\n",
       "      <td>married</td>\n",
       "      <td>0.050392</td>\n",
       "    </tr>\n",
       "    <tr>\n",
       "      <th>1</th>\n",
       "      <td>education*</td>\n",
       "      <td>nodegree</td>\n",
       "      <td>0.292129</td>\n",
       "    </tr>\n",
       "    <tr>\n",
       "      <th>2</th>\n",
       "      <td>re75</td>\n",
       "      <td>re78</td>\n",
       "      <td>0.258763</td>\n",
       "    </tr>\n",
       "  </tbody>\n",
       "</table>\n",
       "</div>"
      ],
      "text/plain": [
       "            0         1         2\n",
       "0         age   married  0.050392\n",
       "1  education*  nodegree  0.292129\n",
       "2        re75      re78  0.258763"
      ]
     },
     "execution_count": 26,
     "metadata": {},
     "output_type": "execute_result"
    }
   ],
   "source": [
    "# plot skeleton graph\n",
    "nx.draw_networkx(skeleton_graph_tree1, font_size=8) # The plot function allows for quick visualization of the graph.\n",
    "plt.show()\n",
    "pd.DataFrame(list(skeleton_graph_tree1.edges(data='weight')))"
   ]
  },
  {
   "cell_type": "code",
   "execution_count": null,
   "metadata": {},
   "outputs": [],
   "source": [
    "#2 . Generate Pairwise causal inference model \n",
    "start_time = time.time()\n",
    "gnn = GNN(nruns=5, train_epochs=5, test_epochs=5, batch_size=1000)\n",
    "ograph = dagify_min_edge(gnn.orient_graph(dataset3[dataset_subset1], ugraph)) \n",
    "print(\"--- Execution time (pairwise): %4.4s seconds ---\" % (time.time() - start_time))"
   ]
  },
  {
   "cell_type": "code",
   "execution_count": null,
   "metadata": {},
   "outputs": [],
   "source": [
    "# 3.  Run causal GNN\n",
    "start_time = time.time()\n",
    "Cgnn = CGNN(nruns=5, train_epochs=5, test_epochs=5, batch_size=1000)\n",
    "dgraph = Cgnn.orient_directed_graph(dataset3[dataset_subset], ograph)\n",
    "print(\"--- Execution time (cgnn): %4.4s seconds ---\" % (time.time() - start_time))"
   ]
  },
  {
   "cell_type": "code",
   "execution_count": 18,
   "metadata": {},
   "outputs": [
    {
     "data": {
      "image/png": "[encoded data removed]",
      "text/plain": [
       "<Figure size 432x288 with 1 Axes>"
      ]
     },
     "metadata": {},
     "output_type": "display_data"
    },
    {
     "data": {
      "text/html": [
       "<div>\n",
       "<style scoped>\n",
       "    .dataframe tbody tr th:only-of-type {\n",
       "        vertical-align: middle;\n",
       "    }\n",
       "\n",
       "    .dataframe tbody tr th {\n",
       "        vertical-align: top;\n",
       "    }\n",
       "\n",
       "    .dataframe thead th {\n",
       "        text-align: right;\n",
       "    }\n",
       "</style>\n",
       "<table border=\"1\" class=\"dataframe\">\n",
       "  <thead>\n",
       "    <tr style=\"text-align: right;\">\n",
       "      <th></th>\n",
       "      <th>0</th>\n",
       "      <th>1</th>\n",
       "      <th>2</th>\n",
       "    </tr>\n",
       "  </thead>\n",
       "  <tbody>\n",
       "    <tr>\n",
       "      <th>0</th>\n",
       "      <td>treat</td>\n",
       "      <td>treat</td>\n",
       "      <td>5.765214e+01</td>\n",
       "    </tr>\n",
       "    <tr>\n",
       "      <th>1</th>\n",
       "      <td>treat</td>\n",
       "      <td>age</td>\n",
       "      <td>4.141881e-02</td>\n",
       "    </tr>\n",
       "    <tr>\n",
       "      <th>2</th>\n",
       "      <td>treat</td>\n",
       "      <td>education*</td>\n",
       "      <td>9.154644e-02</td>\n",
       "    </tr>\n",
       "    <tr>\n",
       "      <th>3</th>\n",
       "      <td>treat</td>\n",
       "      <td>black</td>\n",
       "      <td>-1.575603e+00</td>\n",
       "    </tr>\n",
       "    <tr>\n",
       "      <th>4</th>\n",
       "      <td>treat</td>\n",
       "      <td>re75</td>\n",
       "      <td>7.675274e-05</td>\n",
       "    </tr>\n",
       "    <tr>\n",
       "      <th>...</th>\n",
       "      <td>...</td>\n",
       "      <td>...</td>\n",
       "      <td>...</td>\n",
       "    </tr>\n",
       "    <tr>\n",
       "      <th>58</th>\n",
       "      <td>re78</td>\n",
       "      <td>hispanic</td>\n",
       "      <td>5.216862e-06</td>\n",
       "    </tr>\n",
       "    <tr>\n",
       "      <th>59</th>\n",
       "      <td>re78</td>\n",
       "      <td>married</td>\n",
       "      <td>-9.728370e-06</td>\n",
       "    </tr>\n",
       "    <tr>\n",
       "      <th>60</th>\n",
       "      <td>re78</td>\n",
       "      <td>nodegree</td>\n",
       "      <td>-9.261473e-07</td>\n",
       "    </tr>\n",
       "    <tr>\n",
       "      <th>61</th>\n",
       "      <td>re78</td>\n",
       "      <td>re75</td>\n",
       "      <td>-1.392257e-08</td>\n",
       "    </tr>\n",
       "    <tr>\n",
       "      <th>62</th>\n",
       "      <td>re78</td>\n",
       "      <td>re78</td>\n",
       "      <td>1.971653e-08</td>\n",
       "    </tr>\n",
       "  </tbody>\n",
       "</table>\n",
       "<p>63 rows × 3 columns</p>\n",
       "</div>"
      ],
      "text/plain": [
       "        0           1             2\n",
       "0   treat       treat  5.765214e+01\n",
       "1   treat         age  4.141881e-02\n",
       "2   treat  education*  9.154644e-02\n",
       "3   treat       black -1.575603e+00\n",
       "4   treat        re75  7.675274e-05\n",
       "..    ...         ...           ...\n",
       "58   re78    hispanic  5.216862e-06\n",
       "59   re78     married -9.728370e-06\n",
       "60   re78    nodegree -9.261473e-07\n",
       "61   re78        re75 -1.392257e-08\n",
       "62   re78        re78  1.971653e-08\n",
       "\n",
       "[63 rows x 3 columns]"
      ]
     },
     "execution_count": 18,
     "metadata": {},
     "output_type": "execute_result"
    }
   ],
   "source": [
    "# plot skeleton graph\n",
    "nx.draw_networkx(skeleton_graph_glasso1, font_size=8) # The plot function allows for quick visualization of the graph.\n",
    "plt.show()\n",
    "pd.DataFrame(list(skeleton_graph_glasso1.edges(data='weight')))"
   ]
  },
  {
   "cell_type": "code",
   "execution_count": 86,
   "metadata": {},
   "outputs": [
    {
     "data": {
      "image/png": "[encoded data removed]",
      "text/plain": [
       "<Figure size 432x288 with 1 Axes>"
      ]
     },
     "metadata": {},
     "output_type": "display_data"
    },
    {
     "data": {
      "text/html": [
       "<div>\n",
       "<style scoped>\n",
       "    .dataframe tbody tr th:only-of-type {\n",
       "        vertical-align: middle;\n",
       "    }\n",
       "\n",
       "    .dataframe tbody tr th {\n",
       "        vertical-align: top;\n",
       "    }\n",
       "\n",
       "    .dataframe thead th {\n",
       "        text-align: right;\n",
       "    }\n",
       "</style>\n",
       "<table border=\"1\" class=\"dataframe\">\n",
       "  <thead>\n",
       "    <tr style=\"text-align: right;\">\n",
       "      <th></th>\n",
       "      <th>treat</th>\n",
       "      <th>re78</th>\n",
       "      <th>Score</th>\n",
       "    </tr>\n",
       "  </thead>\n",
       "  <tbody>\n",
       "  </tbody>\n",
       "</table>\n",
       "</div>"
      ],
      "text/plain": [
       "Empty DataFrame\n",
       "Columns: [treat, re78, Score]\n",
       "Index: []"
      ]
     },
     "execution_count": 86,
     "metadata": {},
     "output_type": "execute_result"
    }
   ],
   "source": [
    "#Plot pairwise graph\n",
    "nx.draw_networkx(ograph, font_size=8) # The plot function allows for quick visualization of the graph.\n",
    "plt.show()\n",
    "pd.DataFrame(list(ograph.edges(data='weight')), columns=['treat', 're78', 'Score'])"
   ]
  },
  {
   "cell_type": "code",
   "execution_count": 87,
   "metadata": {},
   "outputs": [
    {
     "data": {
      "image/png": "[encoded data removed]",
      "text/plain": [
       "<Figure size 720x720 with 1 Axes>"
      ]
     },
     "metadata": {},
     "output_type": "display_data"
    }
   ],
   "source": [
    "# Plot directed graph\n",
    "G1 = dgraph\n",
    "fig, ax = plt.subplots(figsize = (10,10))\n",
    "nx.draw_shell(G1, with_labels=True,node_color='white', edgecolors = \"black\",font_color = \"black\",node_size=3700)\n",
    "# The plot function allows for quick visualization of the graph.\n",
    "\n",
    "# Print output results : \n",
    "pd.DataFrame(list(dgraph.edges(data='weight')), columns=['Cause', 'Effect', 'Score'])\n",
    "plt.show() "
   ]
  },
  {
   "cell_type": "markdown",
   "metadata": {},
   "source": [
    "# Dataset 1 - NSW CPS"
   ]
  },
  {
   "cell_type": "code",
   "execution_count": 14,
   "metadata": {},
   "outputs": [
    {
     "ename": "KeyboardInterrupt",
     "evalue": "",
     "output_type": "error",
     "traceback": [
      "\u001b[0;31m---------------------------------------------------------------------------\u001b[0m",
      "\u001b[0;31mKeyboardInterrupt\u001b[0m                         Traceback (most recent call last)",
      "\u001b[1;32m/Users/mawuliagamah/gitprojects/causal_inference/causal_inference/python-script/causal discovery2.ipynb Cell 19\u001b[0m in \u001b[0;36m<cell line: 4>\u001b[0;34m()\u001b[0m\n\u001b[1;32m      <a href='vscode-notebook-cell:/Users/mawuliagamah/gitprojects/causal_inference/causal_inference/python-script/causal%20discovery2.ipynb#ch0000018?line=0'>1</a>\u001b[0m \u001b[39m# Finding the structure of the graph\u001b[39;00m\n\u001b[1;32m      <a href='vscode-notebook-cell:/Users/mawuliagamah/gitprojects/causal_inference/causal_inference/python-script/causal%20discovery2.ipynb#ch0000018?line=1'>2</a>\u001b[0m \u001b[39m# Create a skeleton graph \u001b[39;00m\n\u001b[1;32m      <a href='vscode-notebook-cell:/Users/mawuliagamah/gitprojects/causal_inference/causal_inference/python-script/causal%20discovery2.ipynb#ch0000018?line=2'>3</a>\u001b[0m start_time \u001b[39m=\u001b[39m time\u001b[39m.\u001b[39mtime()\n\u001b[0;32m----> <a href='vscode-notebook-cell:/Users/mawuliagamah/gitprojects/causal_inference/causal_inference/python-script/causal%20discovery2.ipynb#ch0000018?line=3'>4</a>\u001b[0m ugraph \u001b[39m=\u001b[39m Fsgnn\u001b[39m.\u001b[39;49mpredict(dataset1[dataset_subset1], threshold\u001b[39m=\u001b[39;49m\u001b[39m1e-7\u001b[39;49m)\n\u001b[1;32m      <a href='vscode-notebook-cell:/Users/mawuliagamah/gitprojects/causal_inference/causal_inference/python-script/causal%20discovery2.ipynb#ch0000018?line=4'>5</a>\u001b[0m \u001b[39mprint\u001b[39m(\u001b[39m\"\u001b[39m\u001b[39m--- Execution time : \u001b[39m\u001b[39m%4.4s\u001b[39;00m\u001b[39m seconds ---\u001b[39m\u001b[39m\"\u001b[39m \u001b[39m%\u001b[39m (time\u001b[39m.\u001b[39mtime() \u001b[39m-\u001b[39m start_time))\n\u001b[1;32m      <a href='vscode-notebook-cell:/Users/mawuliagamah/gitprojects/causal_inference/causal_inference/python-script/causal%20discovery2.ipynb#ch0000018?line=5'>6</a>\u001b[0m nx\u001b[39m.\u001b[39mwrite_gpickle(ugraph,\u001b[39m'\u001b[39m\u001b[39m/Users/mawuliagamah/gitprojects/causal_inference/causal_inference/pickled graphs/dataset1_skeleton_graph.gpickle\u001b[39m\u001b[39m'\u001b[39m)\n",
      "File \u001b[0;32m~/CausalDiscoveryToolbox/cdt/independence/graph/FSGNN.py:228\u001b[0m, in \u001b[0;36mFSGNN.predict\u001b[0;34m(self, df_data, threshold, gpus, **kwargs)\u001b[0m\n\u001b[1;32m    223\u001b[0m     result_feature_selection \u001b[39m=\u001b[39m parallel_run_generator(\u001b[39mself\u001b[39m\u001b[39m.\u001b[39mrun_feature_selection,\n\u001b[1;32m    224\u001b[0m                                                       [([df_data, node], kwargs)\n\u001b[1;32m    225\u001b[0m                                                        \u001b[39mfor\u001b[39;00m node \u001b[39min\u001b[39;00m list_nodes],\n\u001b[1;32m    226\u001b[0m                                                       gpus\u001b[39m=\u001b[39mgpus, njobs\u001b[39m=\u001b[39mnjobs)\n\u001b[1;32m    227\u001b[0m \u001b[39melse\u001b[39;00m:\n\u001b[0;32m--> 228\u001b[0m     result_feature_selection \u001b[39m=\u001b[39m [\u001b[39mself\u001b[39m\u001b[39m.\u001b[39mrun_feature_selection(df_data, node,\n\u001b[1;32m    229\u001b[0m                                                            idx, \u001b[39m*\u001b[39m\u001b[39m*\u001b[39mkwargs)\n\u001b[1;32m    230\u001b[0m                                 \u001b[39mfor\u001b[39;00m idx, node \u001b[39min\u001b[39;00m \u001b[39menumerate\u001b[39m(list_nodes)]\n\u001b[1;32m    231\u001b[0m \u001b[39mfor\u001b[39;00m idx, i \u001b[39min\u001b[39;00m \u001b[39menumerate\u001b[39m(result_feature_selection):\n\u001b[1;32m    232\u001b[0m     \u001b[39mtry\u001b[39;00m:\n",
      "File \u001b[0;32m~/CausalDiscoveryToolbox/cdt/independence/graph/FSGNN.py:228\u001b[0m, in \u001b[0;36m<listcomp>\u001b[0;34m(.0)\u001b[0m\n\u001b[1;32m    223\u001b[0m     result_feature_selection \u001b[39m=\u001b[39m parallel_run_generator(\u001b[39mself\u001b[39m\u001b[39m.\u001b[39mrun_feature_selection,\n\u001b[1;32m    224\u001b[0m                                                       [([df_data, node], kwargs)\n\u001b[1;32m    225\u001b[0m                                                        \u001b[39mfor\u001b[39;00m node \u001b[39min\u001b[39;00m list_nodes],\n\u001b[1;32m    226\u001b[0m                                                       gpus\u001b[39m=\u001b[39mgpus, njobs\u001b[39m=\u001b[39mnjobs)\n\u001b[1;32m    227\u001b[0m \u001b[39melse\u001b[39;00m:\n\u001b[0;32m--> 228\u001b[0m     result_feature_selection \u001b[39m=\u001b[39m [\u001b[39mself\u001b[39;49m\u001b[39m.\u001b[39;49mrun_feature_selection(df_data, node,\n\u001b[1;32m    229\u001b[0m                                                            idx, \u001b[39m*\u001b[39;49m\u001b[39m*\u001b[39;49mkwargs)\n\u001b[1;32m    230\u001b[0m                                 \u001b[39mfor\u001b[39;00m idx, node \u001b[39min\u001b[39;00m \u001b[39menumerate\u001b[39m(list_nodes)]\n\u001b[1;32m    231\u001b[0m \u001b[39mfor\u001b[39;00m idx, i \u001b[39min\u001b[39;00m \u001b[39menumerate\u001b[39m(result_feature_selection):\n\u001b[1;32m    232\u001b[0m     \u001b[39mtry\u001b[39;00m:\n",
      "File \u001b[0;32m~/CausalDiscoveryToolbox/cdt/independence/graph/model.py:100\u001b[0m, in \u001b[0;36mFeatureSelectionModel.run_feature_selection\u001b[0;34m(self, df_data, target, idx, **kwargs)\u001b[0m\n\u001b[1;32m     97\u001b[0m df_target \u001b[39m=\u001b[39m pd\u001b[39m.\u001b[39mDataFrame(df_data[target], columns\u001b[39m=\u001b[39m[target])\n\u001b[1;32m     98\u001b[0m df_features \u001b[39m=\u001b[39m df_data[list_features]\n\u001b[0;32m--> 100\u001b[0m \u001b[39mreturn\u001b[39;00m \u001b[39mself\u001b[39;49m\u001b[39m.\u001b[39;49mpredict_features(df_features, df_target, idx\u001b[39m=\u001b[39;49midx, \u001b[39m*\u001b[39;49m\u001b[39m*\u001b[39;49mkwargs)\n",
      "File \u001b[0;32m~/CausalDiscoveryToolbox/cdt/independence/graph/FSGNN.py:198\u001b[0m, in \u001b[0;36mFSGNN.predict_features\u001b[0;34m(self, df_features, df_target, datasetclass, device, idx)\u001b[0m\n\u001b[1;32m    193\u001b[0m \u001b[39mfor\u001b[39;00m i \u001b[39min\u001b[39;00m \u001b[39mrange\u001b[39m(\u001b[39mself\u001b[39m\u001b[39m.\u001b[39mnruns):\n\u001b[1;32m    194\u001b[0m     model \u001b[39m=\u001b[39m FSGNN_model([df_features\u001b[39m.\u001b[39mshape[\u001b[39m1\u001b[39m] \u001b[39m+\u001b[39m \u001b[39m1\u001b[39m, \u001b[39mself\u001b[39m\u001b[39m.\u001b[39mnh, \u001b[39m1\u001b[39m],\n\u001b[1;32m    195\u001b[0m                         activation_function\u001b[39m=\u001b[39m\u001b[39mself\u001b[39m\u001b[39m.\u001b[39mactivation_function,\n\u001b[1;32m    196\u001b[0m                         dropout\u001b[39m=\u001b[39m\u001b[39mself\u001b[39m\u001b[39m.\u001b[39mdropout)\u001b[39m.\u001b[39mto(device)\n\u001b[0;32m--> 198\u001b[0m     out\u001b[39m.\u001b[39mappend(model\u001b[39m.\u001b[39;49mtrain(dataset, lr\u001b[39m=\u001b[39;49m\u001b[39m0.01\u001b[39;49m, l1\u001b[39m=\u001b[39;49m\u001b[39m0.1\u001b[39;49m,\n\u001b[1;32m    199\u001b[0m                            batch_size\u001b[39m=\u001b[39;49m\u001b[39mself\u001b[39;49m\u001b[39m.\u001b[39;49mbatch_size,\n\u001b[1;32m    200\u001b[0m                            train_epochs\u001b[39m=\u001b[39;49m\u001b[39mself\u001b[39;49m\u001b[39m.\u001b[39;49mtrain_epochs,\n\u001b[1;32m    201\u001b[0m                            test_epochs\u001b[39m=\u001b[39;49m\u001b[39mself\u001b[39;49m\u001b[39m.\u001b[39;49mtest_epochs,\n\u001b[1;32m    202\u001b[0m                            device\u001b[39m=\u001b[39;49mdevice, verbose\u001b[39m=\u001b[39;49m\u001b[39mself\u001b[39;49m\u001b[39m.\u001b[39;49mverbose,\n\u001b[1;32m    203\u001b[0m                            dataloader_workers\u001b[39m=\u001b[39;49m\u001b[39mself\u001b[39;49m\u001b[39m.\u001b[39;49mdataloader_workers))\n\u001b[1;32m    204\u001b[0m \u001b[39mreturn\u001b[39;00m \u001b[39mlist\u001b[39m(np\u001b[39m.\u001b[39mmean(np\u001b[39m.\u001b[39marray(out), axis\u001b[39m=\u001b[39m\u001b[39m0\u001b[39m))\n",
      "File \u001b[0;32m~/CausalDiscoveryToolbox/cdt/independence/graph/FSGNN.py:118\u001b[0m, in \u001b[0;36mFSGNN_model.train\u001b[0;34m(self, dataset, lr, l1, batch_size, train_epochs, test_epochs, device, verbose, dataloader_workers)\u001b[0m\n\u001b[1;32m    116\u001b[0m             \u001b[39mif\u001b[39;00m epoch \u001b[39m>\u001b[39m\u001b[39m=\u001b[39m train_epochs:\n\u001b[1;32m    117\u001b[0m                 output\u001b[39m.\u001b[39madd_(\u001b[39mself\u001b[39m\u001b[39m.\u001b[39mlayers[\u001b[39m0\u001b[39m]\u001b[39m.\u001b[39mweight\u001b[39m.\u001b[39mdata[:, :\u001b[39m-\u001b[39m\u001b[39m1\u001b[39m]\u001b[39m.\u001b[39msum(dim\u001b[39m=\u001b[39m\u001b[39m0\u001b[39m))\n\u001b[0;32m--> 118\u001b[0m             loss\u001b[39m.\u001b[39;49mbackward()\n\u001b[1;32m    119\u001b[0m             optim\u001b[39m.\u001b[39mstep()\n\u001b[1;32m    121\u001b[0m \u001b[39mreturn\u001b[39;00m \u001b[39mlist\u001b[39m(output\u001b[39m.\u001b[39mdiv_(test_epochs)\u001b[39m.\u001b[39mdiv_(dataset\u001b[39m.\u001b[39m\u001b[39m__len__\u001b[39m()\u001b[39m/\u001b[39m\u001b[39m/\u001b[39mbatch_size)\u001b[39m.\u001b[39mcpu()\u001b[39m.\u001b[39mnumpy())\n",
      "File \u001b[0;32m~/opt/anaconda3/envs/ann/lib/python3.8/site-packages/torch/_tensor.py:396\u001b[0m, in \u001b[0;36mTensor.backward\u001b[0;34m(self, gradient, retain_graph, create_graph, inputs)\u001b[0m\n\u001b[1;32m    387\u001b[0m \u001b[39mif\u001b[39;00m has_torch_function_unary(\u001b[39mself\u001b[39m):\n\u001b[1;32m    388\u001b[0m     \u001b[39mreturn\u001b[39;00m handle_torch_function(\n\u001b[1;32m    389\u001b[0m         Tensor\u001b[39m.\u001b[39mbackward,\n\u001b[1;32m    390\u001b[0m         (\u001b[39mself\u001b[39m,),\n\u001b[0;32m   (...)\u001b[0m\n\u001b[1;32m    394\u001b[0m         create_graph\u001b[39m=\u001b[39mcreate_graph,\n\u001b[1;32m    395\u001b[0m         inputs\u001b[39m=\u001b[39minputs)\n\u001b[0;32m--> 396\u001b[0m torch\u001b[39m.\u001b[39;49mautograd\u001b[39m.\u001b[39;49mbackward(\u001b[39mself\u001b[39;49m, gradient, retain_graph, create_graph, inputs\u001b[39m=\u001b[39;49minputs)\n",
      "File \u001b[0;32m~/opt/anaconda3/envs/ann/lib/python3.8/site-packages/torch/autograd/__init__.py:173\u001b[0m, in \u001b[0;36mbackward\u001b[0;34m(tensors, grad_tensors, retain_graph, create_graph, grad_variables, inputs)\u001b[0m\n\u001b[1;32m    168\u001b[0m     retain_graph \u001b[39m=\u001b[39m create_graph\n\u001b[1;32m    170\u001b[0m \u001b[39m# The reason we repeat same the comment below is that\u001b[39;00m\n\u001b[1;32m    171\u001b[0m \u001b[39m# some Python versions print out the first line of a multi-line function\u001b[39;00m\n\u001b[1;32m    172\u001b[0m \u001b[39m# calls in the traceback and some print out the last line\u001b[39;00m\n\u001b[0;32m--> 173\u001b[0m Variable\u001b[39m.\u001b[39;49m_execution_engine\u001b[39m.\u001b[39;49mrun_backward(  \u001b[39m# Calls into the C++ engine to run the backward pass\u001b[39;49;00m\n\u001b[1;32m    174\u001b[0m     tensors, grad_tensors_, retain_graph, create_graph, inputs,\n\u001b[1;32m    175\u001b[0m     allow_unreachable\u001b[39m=\u001b[39;49m\u001b[39mTrue\u001b[39;49;00m, accumulate_grad\u001b[39m=\u001b[39;49m\u001b[39mTrue\u001b[39;49;00m)\n",
      "\u001b[0;31mKeyboardInterrupt\u001b[0m: "
     ]
    }
   ],
   "source": [
    "# Finding the structure of the graph\n",
    "# Create a skeleton graph \n",
    "start_time = time.time()\n",
    "ugraph = Fsgnn.predict(dataset1[dataset_subset1], threshold=1e-7)\n",
    "print(\"--- Execution time : %4.4s seconds ---\" % (time.time() - start_time))\n",
    "nx.write_gpickle(ugraph,'/Users/mawuliagamah/gitprojects/causal_inference/causal_inference/pickled graphs/dataset1_skeleton_graph.gpickle')\n",
    "nx.draw_networkx(ugraph, font_size=8) # The plot function allows for quick visualization of the graph.\n",
    "plt.show()\n",
    "# List results\n",
    "pd.DataFrame(list(ugraph.edges(data='weight')))\n",
    "# 11 minutes\n"
   ]
  },
  {
   "cell_type": "code",
   "execution_count": 28,
   "metadata": {},
   "outputs": [],
   "source": [
    "#nx.write_gpickle(ugraph,'/Users/mawuliagamah/gitprojects/causal_inference/causal_inference/pickled graphs/dataset1_skeleton_graph.gpickle') # save the undirected graph "
   ]
  },
  {
   "cell_type": "code",
   "execution_count": 5,
   "metadata": {},
   "outputs": [
    {
     "name": "stdout",
     "output_type": "stream",
     "text": [
      "Unexpected exception formatting exception. Falling back to standard exception\n"
     ]
    },
    {
     "name": "stderr",
     "output_type": "stream",
     "text": [
      "Traceback (most recent call last):\n",
      "  File \"/Users/mawuliagamah/opt/anaconda3/lib/python3.8/site-packages/IPython/core/interactiveshell.py\", line 3398, in run_code\n",
      "    exec(code_obj, self.user_global_ns, self.user_ns)\n",
      "  File \"/var/folders/sp/c9zy568j6s94zqs20ynd8pz00000gn/T/ipykernel_11312/3206901575.py\", line 1, in <cell line: 1>\n",
      "    ugraph = nx.read_gpickle('/Users/mawuliagamah/gitprojects/causal_inference/causal_inference/pickled graphs/dataset1_skeleton_graph.gpickle')\n",
      "  File \"/Users/mawuliagamah/opt/anaconda3/lib/python3.8/site-packages/networkx/utils/decorators.py\", line 816, in func\n",
      "    return argmap._lazy_compile(__wrapper)(*args, **kwargs)\n",
      "  File \"<class 'networkx.utils.decorators.argmap'> compilation 5\", line 5, in argmap_read_gpickle_1\n",
      "  File \"/Users/mawuliagamah/opt/anaconda3/lib/python3.8/site-packages/networkx/readwrite/gpickle.py\", line 109, in read_gpickle\n",
      "    return pickle.load(path)\n",
      "  File \"/Users/mawuliagamah/opt/anaconda3/lib/python3.8/site-packages/networkx/classes/reportviews.py\", line 1055, in __setstate__\n",
      "    self._adjdict = G._succ if hasattr(G, \"succ\") else G._adj\n",
      "AttributeError: 'Graph' object has no attribute '_adj'\n",
      "\n",
      "During handling of the above exception, another exception occurred:\n",
      "\n",
      "Traceback (most recent call last):\n",
      "  File \"/Users/mawuliagamah/opt/anaconda3/lib/python3.8/site-packages/IPython/core/interactiveshell.py\", line 1993, in showtraceback\n",
      "    stb = self.InteractiveTB.structured_traceback(\n",
      "  File \"/Users/mawuliagamah/opt/anaconda3/lib/python3.8/site-packages/IPython/core/ultratb.py\", line 1118, in structured_traceback\n",
      "    return FormattedTB.structured_traceback(\n",
      "  File \"/Users/mawuliagamah/opt/anaconda3/lib/python3.8/site-packages/IPython/core/ultratb.py\", line 1012, in structured_traceback\n",
      "    return VerboseTB.structured_traceback(\n",
      "  File \"/Users/mawuliagamah/opt/anaconda3/lib/python3.8/site-packages/IPython/core/ultratb.py\", line 865, in structured_traceback\n",
      "    formatted_exception = self.format_exception_as_a_whole(etype, evalue, etb, number_of_lines_of_context,\n",
      "  File \"/Users/mawuliagamah/opt/anaconda3/lib/python3.8/site-packages/IPython/core/ultratb.py\", line 818, in format_exception_as_a_whole\n",
      "    frames.append(self.format_record(r))\n",
      "  File \"/Users/mawuliagamah/opt/anaconda3/lib/python3.8/site-packages/IPython/core/ultratb.py\", line 736, in format_record\n",
      "    result += ''.join(_format_traceback_lines(frame_info.lines, Colors, self.has_colors, lvals))\n",
      "  File \"/Users/mawuliagamah/opt/anaconda3/lib/python3.8/site-packages/stack_data/utils.py\", line 145, in cached_property_wrapper\n",
      "    value = obj.__dict__[self.func.__name__] = self.func(obj)\n",
      "  File \"/Users/mawuliagamah/opt/anaconda3/lib/python3.8/site-packages/stack_data/core.py\", line 698, in lines\n",
      "    pieces = self.included_pieces\n",
      "  File \"/Users/mawuliagamah/opt/anaconda3/lib/python3.8/site-packages/stack_data/utils.py\", line 145, in cached_property_wrapper\n",
      "    value = obj.__dict__[self.func.__name__] = self.func(obj)\n",
      "  File \"/Users/mawuliagamah/opt/anaconda3/lib/python3.8/site-packages/stack_data/core.py\", line 649, in included_pieces\n",
      "    pos = scope_pieces.index(self.executing_piece)\n",
      "  File \"/Users/mawuliagamah/opt/anaconda3/lib/python3.8/site-packages/stack_data/utils.py\", line 145, in cached_property_wrapper\n",
      "    value = obj.__dict__[self.func.__name__] = self.func(obj)\n",
      "  File \"/Users/mawuliagamah/opt/anaconda3/lib/python3.8/site-packages/stack_data/core.py\", line 628, in executing_piece\n",
      "    return only(\n",
      "  File \"/Users/mawuliagamah/opt/anaconda3/lib/python3.8/site-packages/executing/executing.py\", line 164, in only\n",
      "    raise NotOneValueFound('Expected one value, found 0')\n",
      "executing.executing.NotOneValueFound: Expected one value, found 0\n"
     ]
    }
   ],
   "source": [
    "#ugraph = nx.read_gpickle('/Users/mawuliagamah/gitprojects/causal_inference/causal_inference/pickled graphs/dataset1_skeleton_graph.gpickle')"
   ]
  },
  {
   "cell_type": "code",
   "execution_count": 10,
   "metadata": {},
   "outputs": [
    {
     "name": "stdout",
     "output_type": "stream",
     "text": [
      "--- Execution time : 860. seconds ---\n"
     ]
    },
    {
     "data": {
      "image/png": "[encoded data removed]",
      "text/plain": [
       "<Figure size 432x288 with 1 Axes>"
      ]
     },
     "metadata": {},
     "output_type": "display_data"
    },
    {
     "data": {
      "text/html": [
       "<div>\n",
       "<style scoped>\n",
       "    .dataframe tbody tr th:only-of-type {\n",
       "        vertical-align: middle;\n",
       "    }\n",
       "\n",
       "    .dataframe tbody tr th {\n",
       "        vertical-align: top;\n",
       "    }\n",
       "\n",
       "    .dataframe thead th {\n",
       "        text-align: right;\n",
       "    }\n",
       "</style>\n",
       "<table border=\"1\" class=\"dataframe\">\n",
       "  <thead>\n",
       "    <tr style=\"text-align: right;\">\n",
       "      <th></th>\n",
       "      <th>treat</th>\n",
       "      <th>re78</th>\n",
       "      <th>Score</th>\n",
       "    </tr>\n",
       "  </thead>\n",
       "  <tbody>\n",
       "    <tr>\n",
       "      <th>0</th>\n",
       "      <td>age</td>\n",
       "      <td>treat</td>\n",
       "      <td>0.213096</td>\n",
       "    </tr>\n",
       "    <tr>\n",
       "      <th>1</th>\n",
       "      <td>age</td>\n",
       "      <td>hispanic</td>\n",
       "      <td>0.675921</td>\n",
       "    </tr>\n",
       "    <tr>\n",
       "      <th>2</th>\n",
       "      <td>treat</td>\n",
       "      <td>re75</td>\n",
       "      <td>0.190853</td>\n",
       "    </tr>\n",
       "    <tr>\n",
       "      <th>3</th>\n",
       "      <td>education*</td>\n",
       "      <td>treat</td>\n",
       "      <td>0.468585</td>\n",
       "    </tr>\n",
       "    <tr>\n",
       "      <th>4</th>\n",
       "      <td>education*</td>\n",
       "      <td>age</td>\n",
       "      <td>0.103730</td>\n",
       "    </tr>\n",
       "    <tr>\n",
       "      <th>5</th>\n",
       "      <td>education*</td>\n",
       "      <td>re75</td>\n",
       "      <td>0.196365</td>\n",
       "    </tr>\n",
       "    <tr>\n",
       "      <th>6</th>\n",
       "      <td>married</td>\n",
       "      <td>treat</td>\n",
       "      <td>0.112598</td>\n",
       "    </tr>\n",
       "    <tr>\n",
       "      <th>7</th>\n",
       "      <td>married</td>\n",
       "      <td>education*</td>\n",
       "      <td>0.020509</td>\n",
       "    </tr>\n",
       "    <tr>\n",
       "      <th>8</th>\n",
       "      <td>married</td>\n",
       "      <td>re75</td>\n",
       "      <td>0.544803</td>\n",
       "    </tr>\n",
       "    <tr>\n",
       "      <th>9</th>\n",
       "      <td>nodegree</td>\n",
       "      <td>treat</td>\n",
       "      <td>0.333031</td>\n",
       "    </tr>\n",
       "    <tr>\n",
       "      <th>10</th>\n",
       "      <td>nodegree</td>\n",
       "      <td>age</td>\n",
       "      <td>0.457244</td>\n",
       "    </tr>\n",
       "    <tr>\n",
       "      <th>11</th>\n",
       "      <td>nodegree</td>\n",
       "      <td>black</td>\n",
       "      <td>0.003997</td>\n",
       "    </tr>\n",
       "    <tr>\n",
       "      <th>12</th>\n",
       "      <td>nodegree</td>\n",
       "      <td>re75</td>\n",
       "      <td>0.744293</td>\n",
       "    </tr>\n",
       "    <tr>\n",
       "      <th>13</th>\n",
       "      <td>re75</td>\n",
       "      <td>hispanic</td>\n",
       "      <td>0.535601</td>\n",
       "    </tr>\n",
       "    <tr>\n",
       "      <th>14</th>\n",
       "      <td>black</td>\n",
       "      <td>age</td>\n",
       "      <td>0.376723</td>\n",
       "    </tr>\n",
       "    <tr>\n",
       "      <th>15</th>\n",
       "      <td>black</td>\n",
       "      <td>education*</td>\n",
       "      <td>0.296050</td>\n",
       "    </tr>\n",
       "    <tr>\n",
       "      <th>16</th>\n",
       "      <td>black</td>\n",
       "      <td>married</td>\n",
       "      <td>0.088243</td>\n",
       "    </tr>\n",
       "  </tbody>\n",
       "</table>\n",
       "</div>"
      ],
      "text/plain": [
       "         treat        re78     Score\n",
       "0          age       treat  0.213096\n",
       "1          age    hispanic  0.675921\n",
       "2        treat        re75  0.190853\n",
       "3   education*       treat  0.468585\n",
       "4   education*         age  0.103730\n",
       "5   education*        re75  0.196365\n",
       "6      married       treat  0.112598\n",
       "7      married  education*  0.020509\n",
       "8      married        re75  0.544803\n",
       "9     nodegree       treat  0.333031\n",
       "10    nodegree         age  0.457244\n",
       "11    nodegree       black  0.003997\n",
       "12    nodegree        re75  0.744293\n",
       "13        re75    hispanic  0.535601\n",
       "14       black         age  0.376723\n",
       "15       black  education*  0.296050\n",
       "16       black     married  0.088243"
      ]
     },
     "execution_count": 10,
     "metadata": {},
     "output_type": "execute_result"
    }
   ],
   "source": [
    "# Pairwise causal inference model \n",
    "# This block of code takes in an undirected graph and produced a directed graph \n",
    "\n",
    "# gnn = shallow generative Neural network\n",
    "        # pairwise network, to model the causal direction x -> , y -> with 1 hidden layer \n",
    "        # https://fentechsolutions.github.io/CausalDiscoveryToolbox/html/causality.html#gnn\n",
    "\n",
    "# gnn(nruns = nruns (int)  \n",
    "#              number of runs to execute per batch \n",
    "#              (before testing for significance with t-test). \n",
    "#     )\n",
    "\n",
    "# orient_graph = orient an undirected graph\n",
    "#       inputs = (dataset, undirected graph) \n",
    "#        output = directed graphj\n",
    "\n",
    "# dagify_min_edge = input's a graph and outputs a DAF\n",
    "                    # heuristic is to reverse the edge with the lowest score of the cycle if possible, else remove it.\n",
    "                    # dagify_min_edge() input = network x graph \n",
    "\n",
    "from cdt.causality.pairwise import GNN\n",
    "from cdt.utils.graph import dagify_min_edge\n",
    "start_time = time.time()\n",
    "gnn = GNN(nruns=5, train_epochs=10, test_epochs=5, batch_size=1000)\n",
    "\n",
    "# input data into the graph = dataset2[dataset_subset]\n",
    "# ugraph = an undirected graph \n",
    "# gnn(nruns = nruns (int)  \n",
    "#              number of runs to execute per batch \n",
    "#              (before testing for significance with t-test). \n",
    "#     )\n",
    "ograph = dagify_min_edge(gnn.orient_graph(dataset2[dataset_subset], ugraph)) \n",
    "print(\"--- Execution time : %4.4s seconds ---\" % (time.time() - start_time))\n",
    "nx.draw_networkx(ugraph, font_size=8) # The plot function allows for quick visualization of the graph.\n",
    "plt.show()\n",
    "# List results\n",
    "pd.DataFrame(list(ograph.edges(data='weight')), columns=['Cause', 'Effect', 'Score'])"
   ]
  },
  {
   "cell_type": "code",
   "execution_count": 11,
   "metadata": {},
   "outputs": [
    {
     "name": "stderr",
     "output_type": "stream",
     "text": [
      "adjacency_matrix will return a scipy.sparse array instead of a matrix in Networkx 3.0.\n",
      "adjacency_matrix will return a scipy.sparse array instead of a matrix in Networkx 3.0.\n",
      "adjacency_matrix will return a scipy.sparse array instead of a matrix in Networkx 3.0.\n",
      "adjacency_matrix will return a scipy.sparse array instead of a matrix in Networkx 3.0.\n",
      "adjacency_matrix will return a scipy.sparse array instead of a matrix in Networkx 3.0.\n",
      "adjacency_matrix will return a scipy.sparse array instead of a matrix in Networkx 3.0.\n",
      "adjacency_matrix will return a scipy.sparse array instead of a matrix in Networkx 3.0.\n",
      "adjacency_matrix will return a scipy.sparse array instead of a matrix in Networkx 3.0.\n"
     ]
    },
    {
     "name": "stdout",
     "output_type": "stream",
     "text": [
      "--- Execution time : 1.50 seconds ---\n"
     ]
    },
    {
     "data": {
      "image/png": "[encoded data removed]",
      "text/plain": [
       "<Figure size 432x288 with 1 Axes>"
      ]
     },
     "metadata": {},
     "output_type": "display_data"
    },
    {
     "data": {
      "text/html": [
       "<div>\n",
       "<style scoped>\n",
       "    .dataframe tbody tr th:only-of-type {\n",
       "        vertical-align: middle;\n",
       "    }\n",
       "\n",
       "    .dataframe tbody tr th {\n",
       "        vertical-align: top;\n",
       "    }\n",
       "\n",
       "    .dataframe thead th {\n",
       "        text-align: right;\n",
       "    }\n",
       "</style>\n",
       "<table border=\"1\" class=\"dataframe\">\n",
       "  <thead>\n",
       "    <tr style=\"text-align: right;\">\n",
       "      <th></th>\n",
       "      <th>Cause</th>\n",
       "      <th>Effect</th>\n",
       "      <th>Score</th>\n",
       "    </tr>\n",
       "  </thead>\n",
       "  <tbody>\n",
       "    <tr>\n",
       "      <th>0</th>\n",
       "      <td>age</td>\n",
       "      <td>treat</td>\n",
       "      <td>0.213096</td>\n",
       "    </tr>\n",
       "    <tr>\n",
       "      <th>1</th>\n",
       "      <td>age</td>\n",
       "      <td>hispanic</td>\n",
       "      <td>0.675921</td>\n",
       "    </tr>\n",
       "    <tr>\n",
       "      <th>2</th>\n",
       "      <td>treat</td>\n",
       "      <td>re75</td>\n",
       "      <td>0.190853</td>\n",
       "    </tr>\n",
       "    <tr>\n",
       "      <th>3</th>\n",
       "      <td>education*</td>\n",
       "      <td>treat</td>\n",
       "      <td>0.468585</td>\n",
       "    </tr>\n",
       "    <tr>\n",
       "      <th>4</th>\n",
       "      <td>education*</td>\n",
       "      <td>age</td>\n",
       "      <td>0.103730</td>\n",
       "    </tr>\n",
       "    <tr>\n",
       "      <th>5</th>\n",
       "      <td>education*</td>\n",
       "      <td>re75</td>\n",
       "      <td>0.196365</td>\n",
       "    </tr>\n",
       "    <tr>\n",
       "      <th>6</th>\n",
       "      <td>married</td>\n",
       "      <td>treat</td>\n",
       "      <td>0.112598</td>\n",
       "    </tr>\n",
       "    <tr>\n",
       "      <th>7</th>\n",
       "      <td>married</td>\n",
       "      <td>education*</td>\n",
       "      <td>0.020509</td>\n",
       "    </tr>\n",
       "    <tr>\n",
       "      <th>8</th>\n",
       "      <td>married</td>\n",
       "      <td>re75</td>\n",
       "      <td>0.544803</td>\n",
       "    </tr>\n",
       "    <tr>\n",
       "      <th>9</th>\n",
       "      <td>nodegree</td>\n",
       "      <td>treat</td>\n",
       "      <td>0.333031</td>\n",
       "    </tr>\n",
       "    <tr>\n",
       "      <th>10</th>\n",
       "      <td>nodegree</td>\n",
       "      <td>age</td>\n",
       "      <td>0.457244</td>\n",
       "    </tr>\n",
       "    <tr>\n",
       "      <th>11</th>\n",
       "      <td>nodegree</td>\n",
       "      <td>black</td>\n",
       "      <td>0.003997</td>\n",
       "    </tr>\n",
       "    <tr>\n",
       "      <th>12</th>\n",
       "      <td>nodegree</td>\n",
       "      <td>re75</td>\n",
       "      <td>0.744293</td>\n",
       "    </tr>\n",
       "    <tr>\n",
       "      <th>13</th>\n",
       "      <td>re75</td>\n",
       "      <td>hispanic</td>\n",
       "      <td>0.535601</td>\n",
       "    </tr>\n",
       "    <tr>\n",
       "      <th>14</th>\n",
       "      <td>black</td>\n",
       "      <td>age</td>\n",
       "      <td>0.376723</td>\n",
       "    </tr>\n",
       "    <tr>\n",
       "      <th>15</th>\n",
       "      <td>black</td>\n",
       "      <td>education*</td>\n",
       "      <td>0.296050</td>\n",
       "    </tr>\n",
       "    <tr>\n",
       "      <th>16</th>\n",
       "      <td>black</td>\n",
       "      <td>married</td>\n",
       "      <td>0.088243</td>\n",
       "    </tr>\n",
       "  </tbody>\n",
       "</table>\n",
       "</div>"
      ],
      "text/plain": [
       "         Cause      Effect     Score\n",
       "0          age       treat  0.213096\n",
       "1          age    hispanic  0.675921\n",
       "2        treat        re75  0.190853\n",
       "3   education*       treat  0.468585\n",
       "4   education*         age  0.103730\n",
       "5   education*        re75  0.196365\n",
       "6      married       treat  0.112598\n",
       "7      married  education*  0.020509\n",
       "8      married        re75  0.544803\n",
       "9     nodegree       treat  0.333031\n",
       "10    nodegree         age  0.457244\n",
       "11    nodegree       black  0.003997\n",
       "12    nodegree        re75  0.744293\n",
       "13        re75    hispanic  0.535601\n",
       "14       black         age  0.376723\n",
       "15       black  education*  0.296050\n",
       "16       black     married  0.088243"
      ]
     },
     "execution_count": 11,
     "metadata": {},
     "output_type": "execute_result"
    }
   ],
   "source": [
    "# CGNN = causal generative neural network\n",
    "# Score-method that evaluates candidate graph by generating data \n",
    "# following the topological order of the graph using neural networks, \n",
    "# and using MMD for evaluation.\n",
    "Cgnn = CGNN(nruns=16, train_epochs=5, test_epochs=5, batch_size=1000)\n",
    "start_time = time.time()\n",
    "dgraph = Cgnn.orient_directed_graph(dataset_baseline_1[dataset_subset], ograph)\n",
    "print(\"--- Execution time : %4.4s seconds ---\" % (time.time() - start_time))\n",
    "# Plot the output graph\n",
    "nx.draw_networkx(dgraph, font_size=8) # The plot function allows for quick visualization of the graph.\n",
    "plt.show() \n",
    "# Print output results : \n",
    "pd.DataFrame(list(dgraph.edges(data='weight')), columns=['Cause', 'Effect', 'Score'])"
   ]
  },
  {
   "cell_type": "code",
   "execution_count": null,
   "metadata": {},
   "outputs": [],
   "source": [
    "# causal_graph(data,undirected grapj,[cause,effect,score])"
   ]
  }
 ],
 "metadata": {
  "kernelspec": {
   "display_name": "Python 3.8.13 ('ann')",
   "language": "python",
   "name": "python3"
  },
  "language_info": {
   "codemirror_mode": {
    "name": "ipython",
    "version": 3
   },
   "file_extension": ".py",
   "mimetype": "text/x-python",
   "name": "python",
   "nbconvert_exporter": "python",
   "pygments_lexer": "ipython3",
   "version": "3.8.13"
  },
  "orig_nbformat": 4,
  "vscode": {
   "interpreter": {
    "hash": "5377618d6ac769cd79daf458b6a188d1d5ad6404c8eb9916027c2b1e777998ca"
   }
  }
 },
 "nbformat": 4,
 "nbformat_minor": 2
}
